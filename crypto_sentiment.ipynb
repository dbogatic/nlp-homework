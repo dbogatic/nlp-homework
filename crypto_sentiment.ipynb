{
 "cells": [
  {
   "cell_type": "markdown",
   "metadata": {},
   "source": [
    "# News Headlines Sentiment\n",
    "\n",
    "Use the news api to pull the latest news articles for bitcoin and ethereum and create a DataFrame of sentiment scores for each coin. \n",
    "\n",
    "Use descriptive statistics to answer the following questions:\n",
    "1. Which coin had the highest mean positive score?\n",
    "2. Which coin had the highest negative score?\n",
    "3. Which coin had the highest positive score?"
   ]
  },
  {
   "cell_type": "code",
   "execution_count": 687,
   "metadata": {},
   "outputs": [
    {
     "output_type": "stream",
     "name": "stderr",
     "text": [
      "[nltk_data] Downloading package vader_lexicon to\n[nltk_data]     /Users/draganbogatic/nltk_data...\n[nltk_data]   Package vader_lexicon is already up-to-date!\n"
     ]
    }
   ],
   "source": [
    "# Initial imports\n",
    "import os\n",
    "import pandas as pd\n",
    "from dotenv import load_dotenv\n",
    "load_dotenv()\n",
    "from newsapi import NewsApiClient\n",
    "import nltk\n",
    "from nltk.sentiment.vader import SentimentIntensityAnalyzer\n",
    "nltk.download('vader_lexicon')\n",
    "analyzer = SentimentIntensityAnalyzer()\n",
    "\n",
    "\n",
    "%matplotlib inline"
   ]
  },
  {
   "cell_type": "code",
   "execution_count": 688,
   "metadata": {},
   "outputs": [
    {
     "output_type": "stream",
     "name": "stderr",
     "text": [
      "[nltk_data] Downloading package stopwords to\n[nltk_data]     /Users/draganbogatic/nltk_data...\n[nltk_data]   Package stopwords is already up-to-date!\n[nltk_data] Downloading package punkt to\n[nltk_data]     /Users/draganbogatic/nltk_data...\n[nltk_data]   Package punkt is already up-to-date!\n[nltk_data] Downloading package wordnet to\n[nltk_data]     /Users/draganbogatic/nltk_data...\n[nltk_data]   Package wordnet is already up-to-date!\n"
     ]
    },
    {
     "output_type": "execute_result",
     "data": {
      "text/plain": [
       "True"
      ]
     },
     "metadata": {},
     "execution_count": 688
    }
   ],
   "source": [
    "nltk.download('stopwords')\n",
    "nltk.download('punkt')\n",
    "nltk.download('wordnet')"
   ]
  },
  {
   "cell_type": "code",
   "execution_count": 689,
   "metadata": {},
   "outputs": [],
   "source": [
    "# Read your api key environment variable\n",
    "api_key = os.getenv(\"NEWS_API_KEY\")"
   ]
  },
  {
   "cell_type": "code",
   "execution_count": 690,
   "metadata": {},
   "outputs": [],
   "source": [
    "# Create a newsapi client\n",
    "newsapi = NewsApiClient(api_key=api_key)"
   ]
  },
  {
   "cell_type": "code",
   "execution_count": 691,
   "metadata": {},
   "outputs": [
    {
     "output_type": "execute_result",
     "data": {
      "text/plain": [
       "{'source': {'id': 'wired', 'name': 'Wired'},\n",
       " 'author': 'Timothy B. Lee, Ars Technica',\n",
       " 'title': 'An Engineer Gets 9 Years for Stealing $10M From Microsoft',\n",
       " 'description': 'The defendant tried—and failed—to use bitcoin to cover his tracks.',\n",
       " 'url': 'https://www.wired.com/story/an-engineer-gets-9-years-for-stealing-dollar10m-from-microsoft/',\n",
       " 'urlToImage': 'https://media.wired.com/photos/5fac6afb446b4639b3d5b8d8/191:100/w_1280,c_limit/Security-Microsoft-1229426260.jpg',\n",
       " 'publishedAt': '2020-11-12T14:00:00Z',\n",
       " 'content': \"A former Microsoft software engineer from Ukraine has been sentenced to nine years in prison for stealing more than $10 million in store credit from Microsoft's online store. From 2016 to 2018, Volod… [+3307 chars]\"}"
      ]
     },
     "metadata": {},
     "execution_count": 691
    }
   ],
   "source": [
    "# Fetch the Bitcoin news articles\n",
    "btc_headlines = newsapi.get_everything(q=\"bitcoin\", language=\"en\", page_size=100,sort_by=\"relevancy\")\n",
    "btc_articles = btc_headlines[\"articles\"]\n",
    "btc_articles[0]"
   ]
  },
  {
   "cell_type": "code",
   "execution_count": 692,
   "metadata": {},
   "outputs": [
    {
     "output_type": "execute_result",
     "data": {
      "text/plain": [
       "{'source': {'id': 'engadget', 'name': 'Engadget'},\n",
       " 'author': 'Karissa Bell',\n",
       " 'title': 'PayPal now lets all US users buy, sell and hold cryptocurrency',\n",
       " 'description': 'PayPal is bringing its newly-announced support for cryptocurrency to all US accounts. It first announced plans to open cryptocurrency trading to US-based users in October, but until now it was only available to a small subset of PayPal account holders. That’s…',\n",
       " 'url': 'https://www.engadget.com/paypal-opens-cryptocurrency-all-us-accounts-210541778.html',\n",
       " 'urlToImage': 'https://o.aolcdn.com/images/dims?resize=1200%2C630&crop=1200%2C630%2C0%2C0&quality=95&image_uri=https%3A%2F%2Fs.yimg.com%2Fos%2Fcreatr-uploaded-images%2F2020-11%2F4e1af080-2528-11eb-bbdf-193e571d142a&client=amp-blogside-v2&signature=22ad23dde6ee3e667a8067a4c39e1962659cec92',\n",
       " 'publishedAt': '2020-11-12T21:05:41Z',\n",
       " 'content': 'PayPal is bringing its newly-announced support for cryptocurrency to all US accounts. It first announced plans to open cryptocurrency trading to US-based users in October, but until now it was only a… [+589 chars]'}"
      ]
     },
     "metadata": {},
     "execution_count": 692
    }
   ],
   "source": [
    "# Fetch the Ethereum news articles\n",
    "eth_headlines = newsapi.get_everything(q=\"ethereum\", language=\"en\", page_size=100,sort_by=\"relevancy\")\n",
    "eth_articles = eth_headlines[\"articles\"]\n",
    "eth_articles[0]"
   ]
  },
  {
   "cell_type": "code",
   "execution_count": 693,
   "metadata": {},
   "outputs": [],
   "source": [
    "# Create the Bitcoin sentiment scores DataFrame\n",
    "btc_sentiments = []\n",
    "\n",
    "for article in btc_articles:\n",
    "    try:\n",
    "        text = article[\"content\"]\n",
    "        date = article[\"publishedAt\"][:10]\n",
    "        sentiment = analyzer.polarity_scores(text)\n",
    "        compound = sentiment[\"compound\"]\n",
    "        pos = sentiment[\"pos\"]\n",
    "        neu = sentiment[\"neu\"]\n",
    "        neg = sentiment[\"neg\"]\n",
    "        \n",
    "        btc_sentiments.append({\n",
    "            \"text\": text,\n",
    "            \"date\": date,\n",
    "            \"compound\": compound,\n",
    "            \"positive\": pos,\n",
    "            \"negative\": neg,\n",
    "            \"neutral\": neu\n",
    "            \n",
    "        })\n",
    "        \n",
    "    except AttributeError:\n",
    "        pass\n",
    "    \n",
    "# Create DataFrame\n",
    "btc_df = pd.DataFrame(btc_sentiments)\n",
    "\n",
    "# Reorder DataFrame columns\n",
    "cols = [\"date\", \"text\", \"compound\", \"positive\", \"negative\", \"neutral\"]\n",
    "btc_df = btc_df[cols]"
   ]
  },
  {
   "cell_type": "code",
   "execution_count": 694,
   "metadata": {},
   "outputs": [
    {
     "output_type": "execute_result",
     "data": {
      "text/plain": [
       "         date                                               text  compound  \\\n",
       "0  2020-11-12  A former Microsoft software engineer from Ukra...   -0.6705   \n",
       "1  2020-12-03  Visa has partnered with cryptocurrency startup...    0.6369   \n",
       "2  2020-11-12  PayPal is bringing its newly-announced support...    0.2144   \n",
       "3  2020-11-20  In November 2017, after an absolutely massive,...    0.2023   \n",
       "4  2020-12-06  Unlike ‘conventional’ cryptocurrencies, a cent...    0.0000   \n",
       "\n",
       "   positive  negative  neutral  \n",
       "0     0.064     0.199    0.737  \n",
       "1     0.162     0.000    0.838  \n",
       "2     0.053     0.000    0.947  \n",
       "3     0.050     0.000    0.950  \n",
       "4     0.000     0.000    1.000  "
      ],
      "text/html": "<div>\n<style scoped>\n    .dataframe tbody tr th:only-of-type {\n        vertical-align: middle;\n    }\n\n    .dataframe tbody tr th {\n        vertical-align: top;\n    }\n\n    .dataframe thead th {\n        text-align: right;\n    }\n</style>\n<table border=\"1\" class=\"dataframe\">\n  <thead>\n    <tr style=\"text-align: right;\">\n      <th></th>\n      <th>date</th>\n      <th>text</th>\n      <th>compound</th>\n      <th>positive</th>\n      <th>negative</th>\n      <th>neutral</th>\n    </tr>\n  </thead>\n  <tbody>\n    <tr>\n      <th>0</th>\n      <td>2020-11-12</td>\n      <td>A former Microsoft software engineer from Ukra...</td>\n      <td>-0.6705</td>\n      <td>0.064</td>\n      <td>0.199</td>\n      <td>0.737</td>\n    </tr>\n    <tr>\n      <th>1</th>\n      <td>2020-12-03</td>\n      <td>Visa has partnered with cryptocurrency startup...</td>\n      <td>0.6369</td>\n      <td>0.162</td>\n      <td>0.000</td>\n      <td>0.838</td>\n    </tr>\n    <tr>\n      <th>2</th>\n      <td>2020-11-12</td>\n      <td>PayPal is bringing its newly-announced support...</td>\n      <td>0.2144</td>\n      <td>0.053</td>\n      <td>0.000</td>\n      <td>0.947</td>\n    </tr>\n    <tr>\n      <th>3</th>\n      <td>2020-11-20</td>\n      <td>In November 2017, after an absolutely massive,...</td>\n      <td>0.2023</td>\n      <td>0.050</td>\n      <td>0.000</td>\n      <td>0.950</td>\n    </tr>\n    <tr>\n      <th>4</th>\n      <td>2020-12-06</td>\n      <td>Unlike ‘conventional’ cryptocurrencies, a cent...</td>\n      <td>0.0000</td>\n      <td>0.000</td>\n      <td>0.000</td>\n      <td>1.000</td>\n    </tr>\n  </tbody>\n</table>\n</div>"
     },
     "metadata": {},
     "execution_count": 694
    }
   ],
   "source": [
    "# Drop duplicates articles\n",
    "btc_df.drop_duplicates(keep=\"first\", inplace=True)\n",
    "btc_df.head()"
   ]
  },
  {
   "cell_type": "code",
   "execution_count": 695,
   "metadata": {},
   "outputs": [],
   "source": [
    "# Create the ethereum sentiment scores DataFrame\n",
    "eth_sentiments = []\n",
    "\n",
    "for article in eth_articles:\n",
    "    try:\n",
    "        text = article[\"content\"]\n",
    "        date = article[\"publishedAt\"][:10]\n",
    "        sentiment = analyzer.polarity_scores(text)\n",
    "        compound = sentiment[\"compound\"]\n",
    "        pos = sentiment[\"pos\"]\n",
    "        neu = sentiment[\"neu\"]\n",
    "        neg = sentiment[\"neg\"]\n",
    "        \n",
    "        eth_sentiments.append({\n",
    "            \"text\": text,\n",
    "            \"date\": date,\n",
    "            \"compound\": compound,\n",
    "            \"positive\": pos,\n",
    "            \"negative\": neg,\n",
    "            \"neutral\": neu\n",
    "            \n",
    "        })\n",
    "        \n",
    "    except AttributeError:\n",
    "        pass\n",
    "    \n",
    "# Create DataFrame\n",
    "eth_df = pd.DataFrame(eth_sentiments)\n",
    "\n",
    "# Reorder DataFrame columns\n",
    "cols = [\"date\", \"text\", \"compound\", \"positive\", \"negative\", \"neutral\"]\n",
    "eth_df = eth_df[cols]"
   ]
  },
  {
   "cell_type": "code",
   "execution_count": 696,
   "metadata": {},
   "outputs": [
    {
     "output_type": "execute_result",
     "data": {
      "text/plain": [
       "         date                                               text  compound  \\\n",
       "0  2020-11-12  PayPal is bringing its newly-announced support...    0.2144   \n",
       "1  2020-11-23  FILE PHOTO: Representation of the Ethereum vir...    0.0000   \n",
       "2  2020-11-23  LONDON (Reuters) - Digital currencies Ethereum...    0.4215   \n",
       "4  2020-11-19  PayPal has launched the Generosity Network, a ...    0.8779   \n",
       "5  2020-11-26  By Reuters Staff\\r\\nFILE PHOTO: A representati...    0.0000   \n",
       "\n",
       "   positive  negative  neutral  \n",
       "0     0.053       0.0    0.947  \n",
       "1     0.000       0.0    1.000  \n",
       "2     0.088       0.0    0.912  \n",
       "4     0.318       0.0    0.682  \n",
       "5     0.000       0.0    1.000  "
      ],
      "text/html": "<div>\n<style scoped>\n    .dataframe tbody tr th:only-of-type {\n        vertical-align: middle;\n    }\n\n    .dataframe tbody tr th {\n        vertical-align: top;\n    }\n\n    .dataframe thead th {\n        text-align: right;\n    }\n</style>\n<table border=\"1\" class=\"dataframe\">\n  <thead>\n    <tr style=\"text-align: right;\">\n      <th></th>\n      <th>date</th>\n      <th>text</th>\n      <th>compound</th>\n      <th>positive</th>\n      <th>negative</th>\n      <th>neutral</th>\n    </tr>\n  </thead>\n  <tbody>\n    <tr>\n      <th>0</th>\n      <td>2020-11-12</td>\n      <td>PayPal is bringing its newly-announced support...</td>\n      <td>0.2144</td>\n      <td>0.053</td>\n      <td>0.0</td>\n      <td>0.947</td>\n    </tr>\n    <tr>\n      <th>1</th>\n      <td>2020-11-23</td>\n      <td>FILE PHOTO: Representation of the Ethereum vir...</td>\n      <td>0.0000</td>\n      <td>0.000</td>\n      <td>0.0</td>\n      <td>1.000</td>\n    </tr>\n    <tr>\n      <th>2</th>\n      <td>2020-11-23</td>\n      <td>LONDON (Reuters) - Digital currencies Ethereum...</td>\n      <td>0.4215</td>\n      <td>0.088</td>\n      <td>0.0</td>\n      <td>0.912</td>\n    </tr>\n    <tr>\n      <th>4</th>\n      <td>2020-11-19</td>\n      <td>PayPal has launched the Generosity Network, a ...</td>\n      <td>0.8779</td>\n      <td>0.318</td>\n      <td>0.0</td>\n      <td>0.682</td>\n    </tr>\n    <tr>\n      <th>5</th>\n      <td>2020-11-26</td>\n      <td>By Reuters Staff\\r\\nFILE PHOTO: A representati...</td>\n      <td>0.0000</td>\n      <td>0.000</td>\n      <td>0.0</td>\n      <td>1.000</td>\n    </tr>\n  </tbody>\n</table>\n</div>"
     },
     "metadata": {},
     "execution_count": 696
    }
   ],
   "source": [
    "# Drop duplicates articles\n",
    "eth_df.drop_duplicates(keep=\"first\", inplace=True)\n",
    "eth_df.head()"
   ]
  },
  {
   "cell_type": "code",
   "execution_count": 697,
   "metadata": {},
   "outputs": [
    {
     "output_type": "execute_result",
     "data": {
      "text/plain": [
       "        compound   positive   negative    neutral\n",
       "count  87.000000  87.000000  87.000000  87.000000\n",
       "mean    0.165337   0.061207   0.020655   0.918126\n",
       "std     0.343146   0.066855   0.043497   0.077008\n",
       "min    -0.670500   0.000000   0.000000   0.682000\n",
       "25%     0.000000   0.000000   0.000000   0.859000\n",
       "50%     0.094600   0.050000   0.000000   0.935000\n",
       "75%     0.458550   0.121500   0.017500   1.000000\n",
       "max     0.877900   0.318000   0.215000   1.000000"
      ],
      "text/html": "<div>\n<style scoped>\n    .dataframe tbody tr th:only-of-type {\n        vertical-align: middle;\n    }\n\n    .dataframe tbody tr th {\n        vertical-align: top;\n    }\n\n    .dataframe thead th {\n        text-align: right;\n    }\n</style>\n<table border=\"1\" class=\"dataframe\">\n  <thead>\n    <tr style=\"text-align: right;\">\n      <th></th>\n      <th>compound</th>\n      <th>positive</th>\n      <th>negative</th>\n      <th>neutral</th>\n    </tr>\n  </thead>\n  <tbody>\n    <tr>\n      <th>count</th>\n      <td>87.000000</td>\n      <td>87.000000</td>\n      <td>87.000000</td>\n      <td>87.000000</td>\n    </tr>\n    <tr>\n      <th>mean</th>\n      <td>0.165337</td>\n      <td>0.061207</td>\n      <td>0.020655</td>\n      <td>0.918126</td>\n    </tr>\n    <tr>\n      <th>std</th>\n      <td>0.343146</td>\n      <td>0.066855</td>\n      <td>0.043497</td>\n      <td>0.077008</td>\n    </tr>\n    <tr>\n      <th>min</th>\n      <td>-0.670500</td>\n      <td>0.000000</td>\n      <td>0.000000</td>\n      <td>0.682000</td>\n    </tr>\n    <tr>\n      <th>25%</th>\n      <td>0.000000</td>\n      <td>0.000000</td>\n      <td>0.000000</td>\n      <td>0.859000</td>\n    </tr>\n    <tr>\n      <th>50%</th>\n      <td>0.094600</td>\n      <td>0.050000</td>\n      <td>0.000000</td>\n      <td>0.935000</td>\n    </tr>\n    <tr>\n      <th>75%</th>\n      <td>0.458550</td>\n      <td>0.121500</td>\n      <td>0.017500</td>\n      <td>1.000000</td>\n    </tr>\n    <tr>\n      <th>max</th>\n      <td>0.877900</td>\n      <td>0.318000</td>\n      <td>0.215000</td>\n      <td>1.000000</td>\n    </tr>\n  </tbody>\n</table>\n</div>"
     },
     "metadata": {},
     "execution_count": 697
    }
   ],
   "source": [
    "# Describe the Bitcoin Sentiment\n",
    "btc_df.describe()"
   ]
  },
  {
   "cell_type": "code",
   "execution_count": 698,
   "metadata": {},
   "outputs": [
    {
     "output_type": "execute_result",
     "data": {
      "text/plain": [
       "        compound   positive   negative    neutral\n",
       "count  95.000000  95.000000  95.000000  95.000000\n",
       "mean    0.222034   0.074853   0.022695   0.902463\n",
       "std     0.368386   0.077264   0.045878   0.086894\n",
       "min    -0.670500   0.000000   0.000000   0.653000\n",
       "25%     0.000000   0.000000   0.000000   0.849500\n",
       "50%     0.226300   0.075000   0.000000   0.912000\n",
       "75%     0.502250   0.126000   0.013500   1.000000\n",
       "max     0.883400   0.347000   0.196000   1.000000"
      ],
      "text/html": "<div>\n<style scoped>\n    .dataframe tbody tr th:only-of-type {\n        vertical-align: middle;\n    }\n\n    .dataframe tbody tr th {\n        vertical-align: top;\n    }\n\n    .dataframe thead th {\n        text-align: right;\n    }\n</style>\n<table border=\"1\" class=\"dataframe\">\n  <thead>\n    <tr style=\"text-align: right;\">\n      <th></th>\n      <th>compound</th>\n      <th>positive</th>\n      <th>negative</th>\n      <th>neutral</th>\n    </tr>\n  </thead>\n  <tbody>\n    <tr>\n      <th>count</th>\n      <td>95.000000</td>\n      <td>95.000000</td>\n      <td>95.000000</td>\n      <td>95.000000</td>\n    </tr>\n    <tr>\n      <th>mean</th>\n      <td>0.222034</td>\n      <td>0.074853</td>\n      <td>0.022695</td>\n      <td>0.902463</td>\n    </tr>\n    <tr>\n      <th>std</th>\n      <td>0.368386</td>\n      <td>0.077264</td>\n      <td>0.045878</td>\n      <td>0.086894</td>\n    </tr>\n    <tr>\n      <th>min</th>\n      <td>-0.670500</td>\n      <td>0.000000</td>\n      <td>0.000000</td>\n      <td>0.653000</td>\n    </tr>\n    <tr>\n      <th>25%</th>\n      <td>0.000000</td>\n      <td>0.000000</td>\n      <td>0.000000</td>\n      <td>0.849500</td>\n    </tr>\n    <tr>\n      <th>50%</th>\n      <td>0.226300</td>\n      <td>0.075000</td>\n      <td>0.000000</td>\n      <td>0.912000</td>\n    </tr>\n    <tr>\n      <th>75%</th>\n      <td>0.502250</td>\n      <td>0.126000</td>\n      <td>0.013500</td>\n      <td>1.000000</td>\n    </tr>\n    <tr>\n      <th>max</th>\n      <td>0.883400</td>\n      <td>0.347000</td>\n      <td>0.196000</td>\n      <td>1.000000</td>\n    </tr>\n  </tbody>\n</table>\n</div>"
     },
     "metadata": {},
     "execution_count": 698
    }
   ],
   "source": [
    "# Describe the Ethereum Sentiment\n",
    "eth_df.describe()"
   ]
  },
  {
   "cell_type": "markdown",
   "metadata": {},
   "source": [
    "### Questions:\n",
    "\n",
    "Q: Which coin had the highest mean positive score?\n",
    "\n",
    "A: ETH has a mean positive score of 0.077646 compared to BTC mean positive score of 0.057571\n",
    "\n",
    "Q: Which coin had the highest compound score?\n",
    "\n",
    "A: Both BTC and ETH have the same Max compound score of 0.946800\n",
    "\n",
    "Q. Which coin had the highest positive score?\n",
    "\n",
    "A: ETH has the highest positive score of 0.347000 compared t0 BTC 0.297000"
   ]
  },
  {
   "cell_type": "markdown",
   "metadata": {},
   "source": [
    "---"
   ]
  },
  {
   "cell_type": "markdown",
   "metadata": {},
   "source": [
    "# Tokenizer\n",
    "\n",
    "In this section, you will use NLTK and Python to tokenize the text for each coin. Be sure to:\n",
    "1. Lowercase each word\n",
    "2. Remove Punctuation\n",
    "3. Remove Stopwords"
   ]
  },
  {
   "cell_type": "code",
   "execution_count": 699,
   "metadata": {},
   "outputs": [],
   "source": [
    "from nltk.tokenize import word_tokenize, sent_tokenize\n",
    "from nltk.corpus import stopwords\n",
    "from nltk.stem import WordNetLemmatizer, PorterStemmer\n",
    "from string import punctuation\n",
    "import regex\n",
    "import re"
   ]
  },
  {
   "cell_type": "code",
   "execution_count": 700,
   "metadata": {},
   "outputs": [
    {
     "output_type": "execute_result",
     "data": {
      "text/plain": [
       "0     A former Microsoft software engineer from Ukra...\n",
       "1     Visa has partnered with cryptocurrency startup...\n",
       "2     PayPal is bringing its newly-announced support...\n",
       "3     In November 2017, after an absolutely massive,...\n",
       "4     Unlike ‘conventional’ cryptocurrencies, a cent...\n",
       "                            ...                        \n",
       "93    For anyone serious about mining cryptocurrency...\n",
       "94    PayPal has launched the Generosity Network, a ...\n",
       "95    A woman walks past a Microsoft Store on 5th av...\n",
       "96    November\n",
       "18, 2020\n",
       "2 min read\n",
       "This article w...\n",
       "97    FILE PHOTO: A sign of China Construction Bank ...\n",
       "Name: text, Length: 87, dtype: string"
      ]
     },
     "metadata": {},
     "execution_count": 700
    }
   ],
   "source": [
    "btc_text_df = btc_df['text'].astype('string')\n",
    "btc_text_df"
   ]
  },
  {
   "cell_type": "code",
   "execution_count": 701,
   "metadata": {},
   "outputs": [
    {
     "output_type": "execute_result",
     "data": {
      "text/plain": [
       "0     PayPal is bringing its newly-announced support...\n",
       "1     FILE PHOTO: Representation of the Ethereum vir...\n",
       "2     LONDON (Reuters) - Digital currencies Ethereum...\n",
       "4     PayPal has launched the Generosity Network, a ...\n",
       "5     By Reuters Staff\n",
       "FILE PHOTO: A representation...\n",
       "                            ...                        \n",
       "92    What makes an asset \"liquid\"? Liquidity basica...\n",
       "93    Hybrid blockchain platform Kadena is teaming u...\n",
       "94    Ethereum\n",
       "Ethereum surged by 9.43% on Friday. ...\n",
       "95    CoinDesk just snagged a front-row seat to a se...\n",
       "96    Ethereum co-founder Vitalik Buterin, dressed l...\n",
       "Name: text, Length: 95, dtype: string"
      ]
     },
     "metadata": {},
     "execution_count": 701
    }
   ],
   "source": [
    "eth_text_df = eth_df['text'].astype('string')\n",
    "eth_text_df"
   ]
  },
  {
   "cell_type": "code",
   "execution_count": 702,
   "metadata": {},
   "outputs": [],
   "source": [
    "# Complete the tokenizer function\n",
    "def tokenizer(text):\n",
    "\n",
    "    \"\"\"Tokenizes text.\"\"\"\n",
    "\n",
    "    # Create a list of the words\n",
    "    sentences = [sent_tokenize(article) for article in text]\n",
    "    words = [word_tokenize(article) for article in text]\n",
    "\n",
    "    # Remove punctuation using regex\n",
    "    regex = re.compile(\"[^a-zA-Z ]\")\n",
    "    re_clean = regex.sub('', text)\n",
    "    words_clean = word_tokenize(re_clean)\n",
    "   \n",
    "   # Remove the stop words\n",
    "    sw = set(stopwords.words('english'))\n",
    "    #first_pass = [word for word in words_clean if word not in sw]\n",
    "\n",
    "    # Define additional stopwords\n",
    "    sw_addon = {'char', 'chars' 'la', 'im','volod', 'drin', 'wa', 'ha'}\n",
    "    second_pass = [word.lower() for word in words_clean if word.lower() not in sw.union(sw_addon)] \n",
    "\n",
    "    # Lemmatize Words into root words; convert the words to lowercase\n",
    "    lemmatizer = WordNetLemmatizer()\n",
    "    lem = [lemmatizer.lemmatize(word) for word in words_clean]\n",
    "    tokens = [word.lower() for word in lem if word.lower() not in sw.union(sw_addon)] \n",
    "  \n",
    "    return tokens"
   ]
  },
  {
   "cell_type": "code",
   "execution_count": 703,
   "metadata": {
    "tags": []
   },
   "outputs": [
    {
     "output_type": "execute_result",
     "data": {
      "text/plain": [
       "['former',\n",
       " 'microsoft',\n",
       " 'software',\n",
       " 'engineer',\n",
       " 'ukraine',\n",
       " 'sentenced',\n",
       " 'nine',\n",
       " 'year',\n",
       " 'prison',\n",
       " 'stealing',\n",
       " 'million',\n",
       " 'store',\n",
       " 'credit',\n",
       " 'microsofts',\n",
       " 'online',\n",
       " 'store']"
      ]
     },
     "metadata": {},
     "execution_count": 703
    }
   ],
   "source": [
    "# Tokenizing article in the forst row of the \"text\" column\n",
    "tokenizer(text_df[0])"
   ]
  },
  {
   "cell_type": "code",
   "execution_count": 704,
   "metadata": {
    "tags": [
     "outputPrepend"
    ]
   },
   "outputs": [
    {
     "output_type": "stream",
     "name": "stdout",
     "text": [
      "'poised', 'end', 'week', 'loss', 'euro', 'yen', 'little', 'changed', 'v', 'dollar', 'bitcoin', 'hit', 'fresh', 'threeyear', 'high', 'graphic', 'world', 'fx', 'ra'], ['posted', 'bitcoin', 'soared', 'record', 'high', 'dollar', 'monday', 'rally', 'steamed', 'ahead', 'boosted', 'increased', 'demand', 'institutional', 'retail', 'investor', 'saw', 'virtual', 'c'], ['reuters', 'staffreuters', 'sticky', 'talksfile', 'photo', 'small', 'toy', 'figure', 'seen', 'front', 'brexit', 'logo', 'illustration', 'picture', 'march', 'reutersdado', 'ruvicillustrationbritai'], ['currency', 'asset', 'perhaps', 'commodity', 'effort', 'drive', 'price', 'infamous', 'crypto', 'evangelicals', 'coming', 'attributing', 'increasing', 'number', 'use', 'case'], ['new', 'zealand', 'dollar', 'set', 'reach', 'twoyear', 'high', 'commoditylinked', 'currency', 'gain', 'v', 'us', 'dollar', 'canadian', 'dollar', 'shy', 'twoyear', 'high', 'graphic', 'world', 'fx', 'rate', 'tmsnrtrsr'], ['fixes', 'typo', 'euro', 'price', 'th', 'paragraph', 'euro', 'nz', 'dollar', 'hit', 'highest', 'year', 'sterling', 'rise', 'threemonth', 'high', 'us', 'bipartisan', 'stimulus', 'proposal', 'sink', 'greenback'], ['nearly', 'three', 'year', 'since', 'bitcoin', 'price', 'reached', 'benchmark', 'k', 'doesnt', 'seem', 'stopping', 'price', 'btc', 'overflowing', 'new', 'bitcoin', 'address'], ['visa', 'paypal', 'diem', 'formerly', 'known', 'libra', 'looking', 'capitalize', 'rapidly', 'growing', 'industryvisa', 'eyeing', 'cryptocurrency', 'spaceinsider', 'intelligenceullivisas', 'newest', 'cred'], ['anyone', 'serious', 'mining', 'cryptocurrency', 'bitcoin', 'well', 'past', 'point', 'standard', 'desktop', 'computer', 'much', 'use', 'array', 'highend', 'gpus', 'still', 'viable', 'cu'], ['paypal', 'launched', 'generosity', 'network', 'platform', 'allows', 'user', 'create', 'customized', 'personal', 'fundraising', 'campaign', 'yes', 'like', 'gofundmeyou', 'raise', 'maximum'], ['woman', 'walk', 'past', 'microsoft', 'store', 'th', 'avenue', 'john', 'nacionsopa', 'imageslightrocket', 'via', 'getty', 'imagesullia', 'former', 'microsoft', 'employee', 'sentenced', 'nine', 'year', 'prison', 'monday', 'stealing'], ['november', 'min', 'readthis', 'article', 'translated', 'spanish', 'edition', 'using', 'ai', 'technology', 'errors', 'may', 'exist', 'due', 'processfor', 'first', 'time', 'almost', 'three', 'year', 'price']]\n",
      "[['former', 'microsoft', 'software', 'engineer', 'ukraine', 'sentenced', 'nine', 'year', 'prison', 'stealing', 'million', 'store', 'credit', 'microsofts', 'online', 'store'], ['visahas', 'partnered', 'cryptocurrency', 'startup', 'blockfi', 'offer', 'first', 'reward', 'credit', 'card', 'pay', 'bitcoin', 'rather', 'cash', 'worth', 'applying', 'unless', 'youre', 'extremely', 'bullish'], ['paypal', 'bringing', 'newlyannounced', 'support', 'cryptocurrency', 'us', 'account', 'first', 'announced', 'plan', 'open', 'cryptocurrency', 'trading', 'usbased', 'user', 'october'], ['november', 'absolutely', 'massive', 'twomonth', 'rally', 'bitcoin', 'passed', 'first', 'time', 'next', 'day', 'soared', 'even', 'higher', 'reaching', 'price', 'roug'], ['unlike', 'conventional', 'cryptocurrencies', 'central', 'bank', 'control', 'digital', 'yuan', 'case', 'peoples', 'bank', 'china', 'move', 'give', 'country', 'power', 'theory', 'stability', 'freq'], ['youve', 'watching', 'crypto', 'market', 'past', 'week', 'youll', 'noticed', 'something', 'special', 'bitcoin', 'everyones', 'favorite', 'decentralized', 'digital', 'currency', 'based', 'hype', 'lie', 'general', 'mal'], ['decentralized', 'exchange', 'protocol', 'allow', 'crypto', 'trader', 'investor', 'trade', 'across', 'different', 'blockhains', 'development', 'significant', 'new', 'development', 'come', 'la'], ['joke', 'reality', 'speaking', 'course', 'tesla', 'tequila', 'previously', 'featured', 'april', 'fools', 'tweet', 'elon', 'musk', 'presec', 'settlement', 'era', 'teslaquila', 'actual'], ['us', 'market', 'ended', 'november', 'large', 'gain', 'even', 'small', 'decline', 'today', 'sampp', 'jumped', 'percent', 'november', 'best', 'monthly', 'showing', 'since', 'april', 'fourthbest', 'month'], ['maisie', 'williams', 'also', 'known', 'arya', 'stark', 'daughter', 'lady', 'catelyn', 'lord', 'eddard', 'acolyte', 'faceless', 'men', 'know', 'one', 'considering', 'buying', 'bitcoinson', 'monday', 'asked', 'twitt'], ['billion', 'transaction', 'flowed', 'dormant', 'bitcoin', 'wallet', 'allegedly', 'belonging', 'silk', 'road', 'founder', 'ross', 'ulbricht', 'made', 'wave', 'crypto', 'world', 'week', 'causing', 'suspect', 'found'], ['poster', 'participatinga', 'former', 'microsoft', 'software', 'engineer', 'ukraine', 'sentenced', 'nine', 'year', 'prison', 'stealing', 'million', 'store', 'credit', 'microsofts', 'online'], ['poster', 'participatingbitcoin', 'rose', 'tuesday', 'evening', 'reaching', 'highest', 'value', 'since', 'december', 'indeed', 'prior', 'week', 'bitcoin', 'worth'], ['file', 'photo', 'representations', 'virtual', 'currency', 'bitcoin', 'seen', 'picture', 'illustration', 'taken', 'taken', 'march', 'reutersdado', 'ruvicfile', 'photofuture', 'moneytom', 'wilsongertrude', 'chavez'], ['justin', 'harperbusiness', 'reporter', 'bbc', 'newsimage', 'copyrightgetty', 'imagesbitcoin', 'world', 'bestknown', 'cryptocurrency', 'jumped', 'hit', 'threeyear', 'highthe', 'digital', 'cur'], ['posted', 'bitcoin', 'grabbed', 'headline', 'week', 'ascent', 'alltime', 'high', 'yet', 'trend', 'playing', 'could', 'change', 'face', 'cryptocurrency', 'market', 'massive', 'flow', 'coin'], ['reuters', 'stafffile', 'photo', 'representation', 'virtual', 'currency', 'bitcoin', 'seen', 'illustration', 'taken', 'november', 'reutersdado', 'ruvicillustrationtokyo', 'reuters', 'bitcoin', 'dropped'], ['reuters', 'stafffile', 'photo', 'representations', 'virtual', 'currency', 'bitcoin', 'placed', 'us', 'dollar', 'banknote', 'illustration', 'taken', 'may', 'reutersdado', 'ruvicillustrationlondon', 'reuters'], ['london', 'reuters', 'digital', 'currency', 'ethereum', 'xrp', 'soared', 'monday', 'gaining', 'momentum', 'bitcoin', 'powered', 'towards', 'alltime', 'highfile', 'photo', 'representation', 'ethereum', 'virtual', 'currency'], ['file', 'photo', 'representation', 'ethereum', 'virtual', 'currency', 'standing', 'pc', 'motherboard', 'seen', 'illustration', 'picture', 'february', 'reutersdado', 'ruvicillustrationlondon', 'reuters'], ['reuters', 'staffa', 'representation', 'virtual', 'currency', 'bitcoin', 'seen', 'illustration', 'taken', 'november', 'reutersdado', 'ruvicillustrationtokyo', 'reuters', 'bitcoin', 'dropped'], ['reuters', 'stafffile', 'photo', 'representations', 'virtual', 'currency', 'bitcoin', 'seen', 'picture', 'illustration', 'taken', 'taken', 'march', 'reutersdado', 'ruviclondonnew', 'york', 'reuters', 'bitcoin', 'jum'], ['london', 'reuters', 'inflation', 'hedge', 'currency', 'another', 'niche', 'asset', 'take', 'punt', 'bitcoin', 'headline', 'rekindling', 'debate', 'true', 'role', 'driver', 'behind'], ['london', 'reuters', 'inflation', 'hedge', 'currency', 'another', 'niche', 'asset', 'take', 'punt', 'bitcoin', 'headline', 'rekindling', 'debate', 'true', 'role', 'driver', 'behind'], ['november', 'min', 'readopinions', 'expressed', 'entrepreneur', 'contributor', 'ownsquare', 'inc', 'payment', 'platform', 'headed', 'famous', 'twitter', 'ceo', 'jack', 'dorseyhas', 'announced', 'october'], ['reuters', 'staffa', 'representation', 'virtual', 'currency', 'bitcoin', 'seen', 'illustration', 'taken', 'november', 'reutersdado', 'ruvicillustrationnew', 'york', 'reuters', 'bitcoin', 'btcbtsp', 'rose', 'n'], ['reuters', 'staffa', 'representation', 'virtual', 'currency', 'bitcoin', 'seen', 'illustration', 'taken', 'november', 'reutersdado', 'ruvicillustrationnew', 'york', 'reuters', 'bitcoin', 'btcbtsp', 'rose', 'n'], ['london', 'reuters', 'inflation', 'hedge', 'currency', 'another', 'niche', 'asset', 'take', 'punt', 'bitcoin', 'headline', 'rekindling', 'debate', 'true', 'role', 'driver', 'behind'], ['file', 'photo', 'representation', 'virtual', 'currency', 'bitcoin', 'seen', 'front', 'stock', 'graph', 'illustration', 'taken', 'november', 'reutersdado', 'ruvicreuters', 'bitcoin', 'still', 'volatile'], ['irans', 'new', 'crypto', 'law', 'requires', 'miners', 'sell', 'bitcoin', 'directly', 'central', 'bank', 'fund', 'importsiran', 'reportedly', 'revised', 'country', 'cryptocurrency', 'regulation', 'require', 'licensed', 'bitcoin', 'miner'], ['representation', 'virtual', 'currency', 'bitcoin', 'seen', 'illustration', 'taken', 'november', 'reutersdado', 'ruvicillustrationlondon', 'reuters', 'bitcoin', 'hit', 'tuesday', 'first', 'tim'], ['saikat', 'chatterjeea', 'representation', 'virtual', 'currency', 'bitcoin', 'seen', 'illustration', 'taken', 'november', 'reutersdado', 'ruvicillustrationlondon', 'reuters', 'bitcoin', 'hit', 'tue'], ['looks', 'like', 'cat', 'bagim', 'excited', 'joining', 'executive', 'team', 'twitteri', 'truly', 'believe', 'mission', 'equitably', 'serving', 'public', 'conversationi', 'best'], ['new', 'york', 'reuters', 'bitcoin', 'investor', 'include', 'top', 'hedge', 'fund', 'money', 'manager', 'betting', 'virtual', 'currency', 'could', 'quintuple', 'high', 'yearfile', 'photo', 'b'], ['reuters', 'stafffile', 'photo', 'representations', 'virtual', 'currency', 'bitcoin', 'placed', 'us', 'dollar', 'banknote', 'illustration', 'taken', 'may', 'reutersdado', 'ruvicillustrationlondon', 'reuters'], ['gertrude', 'chavezdreyfussnew', 'york', 'reuters', 'bitcoin', 'investor', 'include', 'top', 'hedge', 'fund', 'money', 'manager', 'betting', 'virtual', 'currency', 'could', 'quintuple', 'high'], ['tom', 'wilson', 'gertrude', 'chavezdreyfusslondonnew', 'york', 'reuters', 'bitcoin', 'tuesday', 'soared', 'highest', 'level', 'since', 'december', 'asset', 'perceived', 'quality', 'hedge', 'inflation'], ['london', 'reuters', 'bitcoin', 'passed', 'tuesday', 'touch', 'highest', 'level', 'year', 'investor', 'ascribing', 'gain', 'demand', 'perceived', 'inflationresistant', 'quality', 'expectation'], ['londonnew', 'york', 'reuters', 'bitcoin', 'tuesday', 'soared', 'highest', 'level', 'since', 'december', 'asset', 'perceived', 'quality', 'hedge', 'inflation', 'expectation', 'mainstream', 'acceptance', 'l'], ['new', 'york', 'reuters', 'bitcoin', 'investor', 'include', 'top', 'hedge', 'fund', 'money', 'manager', 'betting', 'virtual', 'currency', 'could', 'quintuple', 'high', 'yearfile', 'photo', 'b'], ['london', 'reuters', 'bitcoin', 'surging', 'cusp', 'alltime', 'high', 'backer', 'hoping', 'fewer', 'frenzied', 'retail', 'investor', 'mean', 'le', 'chance', 'crash', 'time', 'aroundfile', 'photo', 'bitcoin'], ['reuters', 'stafffile', 'photo', 'representations', 'virtual', 'currency', 'bitcoin', 'seen', 'picture', 'illustration', 'taken', 'taken', 'march', 'reutersdado', 'ruviclondon', 'reuters', 'bitcoin', 'wednesday'], ['shanghaihong', 'kong', 'reuters', 'price', 'bitcoin', 'soar', 'chinese', 'cryptocurrency', 'asset', 'manager', 'looking', 'expand', 'place', 'hong', 'kong', 'singapore', 'skirting', 'intensified', 'crackdown'], ['samuel', 'shen', 'alun', 'johnshanghaihong', 'kong', 'reuters', 'price', 'bitcoin', 'soar', 'chinese', 'cryptocurrency', 'asset', 'manager', 'looking', 'expand', 'place', 'hong', 'kong', 'singapore', 'skirtin'], ['shanghaihong', 'kong', 'reuters', 'price', 'bitcoin', 'soar', 'chinese', 'cryptocurrency', 'asset', 'manager', 'looking', 'expand', 'place', 'hong', 'kong', 'singapore', 'skirting', 'intensified', 'crackdown'], ['repeats', 'fix', 'format', 'change', 'textnew', 'york', 'nov', 'reuters', 'bitcoin', 'investor', 'include', 'top', 'hedge', 'fund', 'money', 'manager', 'betting', 'virtual', 'currency', 'could', 'quintupl'], ['reuters', 'stafffile', 'photo', 'representation', 'virtual', 'currency', 'bitcoin', 'seen', 'front', 'stock', 'graph', 'illustration', 'taken', 'november', 'reutersdado', 'ruvicillustrationfile', 'photo'], ['reuters', 'stafffile', 'photo', 'representations', 'virtual', 'currency', 'bitcoin', 'seen', 'picture', 'illustration', 'taken', 'taken', 'march', 'reutersdado', 'ruviclondon', 'reuters', 'bitcoin', 'jumped', 'past'], ['reuters', 'stafflondon', 'nov', 'reuters', 'bitcoin', 'jumped', 'past', 'monday', 'moving', 'closer', 'alltime', 'record', 'sharp', 'tumble', 'last', 'week', 'checked', 'rallyit', 'last'], ['london', 'reuters', 'bitcoin', 'passed', 'tuesday', 'touch', 'highest', 'level', 'year', 'investor', 'ascribing', 'gain', 'demand', 'perceived', 'inflationresistant', 'quality', 'expectation'], ['reuters', 'staffreuters', 'cryptocurrency', 'startup', 'blockfi', 'said', 'tuesday', 'would', 'partner', 'visa', 'inc', 'evolve', 'bank', 'credit', 'card', 'firm', 'deserve', 'offer', 'credit', 'card', 'let', 'user', 'earn', 'bitco'], ['reuters', 'stafffile', 'photo', 'representation', 'virtual', 'currency', 'bitcoin', 'seen', 'illustration', 'taken', 'november', 'reutersdado', 'ruvicillustrationfile', 'photolondon', 'reuters', 'bitcoin'], ['november', 'min', 'readthis', 'article', 'translated', 'spanish', 'edition', 'using', 'ai', 'technology', 'errors', 'may', 'exist', 'due', 'processthis', 'story', 'originally', 'appeared', 'alto', 'nivelby', 'guill'], ['londonhong', 'kong', 'reuters', 'bitcoin', 'grabbed', 'headline', 'week', 'dizzying', 'ascent', 'alltime', 'high', 'yet', 'radar', 'trend', 'playing', 'could', 'change', 'face'], ['posted', 'bitcoin', 'appears', 'back', 'vogue', 'hovering', 'near', 'threeyear', 'high', 'hilary', 'kramer', 'kramer', 'capital', 'research', 'warns', 'investor', 'chasing', 'cryptocurrency', 'proven'], ['londonhong', 'kong', 'reuters', 'bitcoin', 'grabbed', 'headline', 'week', 'dizzying', 'ascent', 'alltime', 'high', 'yet', 'radar', 'trend', 'playing', 'could', 'change', 'face'], ['file', 'photo', 'representations', 'virtual', 'currency', 'bitcoin', 'seen', 'picture', 'illustration', 'taken', 'taken', 'march', 'reutersdado', 'ruviclondon', 'reuters', 'bitcoin', 'broke'], ['london', 'reuters', 'arianna', 'odell', 'yearold', 'entrepreneur', 'songwriter', 'based', 'new', 'york', 'city', 'tumultuous', 'fouryear', 'journey', 'cryptocurrency', 'selling', 'investment', 'februarya'], ['london', 'reuters', 'arianna', 'odell', 'yearold', 'entrepreneur', 'songwriter', 'based', 'new', 'york', 'city', 'tumultuous', 'fouryear', 'journey', 'cryptocurrency', 'selling', 'investment', 'februarye'], ['london', 'reuters', 'arianna', 'odell', 'yearold', 'entrepreneur', 'songwriter', 'based', 'new', 'york', 'city', 'tumultuous', 'fouryear', 'journey', 'cryptocurrency', 'selling', 'investment', 'februarye'], ['new', 'york', 'reuters', 'world', 'largest', 'digital', 'currency', 'asset', 'manager', 'grayscale', 'said', 'wednesday', 'asset', 'management', 'soared', 'record', 'billion', 'bolstered', 'continued', 'rise', 'inv'], ['technology', 'media', 'telecommunicationsgertrude', 'chavezdreyfussnew', 'york', 'nov', 'reuters', 'world', 'largest', 'digital', 'currency', 'asset', 'manager', 'grayscale', 'said', 'wednesday', 'asset', 'managem'], ['london', 'nov', 'reuters', 'cryptocurrency', 'exchange', 'coinbase', 'said', 'thursday', 'retail', 'professionalfocused', 'platform', 'hit', 'tech', 'problem', 'user', 'reporting', 'difficulty', 'trading', 'bitcoi'], ['file', 'photo', 'illumination', 'stock', 'graph', 'seen', 'representation', 'virtual', 'currency', 'bitcoin', 'picture', 'illustration', 'taken', 'taken', 'march', 'reutersdado', 'ruvicillustrationfile', 'ph'], ['posted', 'bitcoin', 'trading', 'record', 'high', 'socalled', 'alternative', 'investment', 'consider', 'well', 'yieldstreet', 'cofounder', 'michael', 'weisz', 'told', 'reuters', 'business', 'corresponde'], ['london', 'reuters', 'sampp', 'dow', 'jones', 'indices', 'division', 'financial', 'data', 'provider', 'sampp', 'global', 'inc', 'said', 'thursday', 'launch', 'cryptocurrency', 'index', 'making', 'latest', 'major'], ['price', 'bitcoin', 'reached', 'today', 'beating', 'record', 'since', 'dropped', 'price', 'surge', 'attributed', 'influx', 'asian', 'speculator', 'followe'], ['reutersrick', 'wilkingbillionaire', 'investor', 'mike', 'novogratz', 'said', 'half', 'bitcoin', 'election', 'bet', 'saturday', 'gave', 'selfhosted', 'lottery', 'twitter', 'userhalf', 'bitcoin', 'curr'], ['bloomberg', 'cyclical', 'company', 'powering', 'global', 'equity', 'higher', 'second', 'day', 'investor', 'cheered', 'start', 'us', 'presidentelect', 'joe', 'bidens', 'formal', 'transition', 'prospect', 'ec'], ['satoshi', 'didnt', 'leave', 'much', 'behind', 'decided', 'leave', 'scene', 'good', 'back', 'april', 'leave', 'enough', 'u', 'conduct', 'thorough', 'research', 'whereabouts', 'worki'], ['chain', 'block', 'erupters', 'used', 'bitcoin', 'mining', 'pictured', 'plug', 'play', 'tech', 'center', 'sunnyvale', 'california', 'october', 'reutersstephen', 'lamullibitcoin', 'slumped', 'throug'], ['set', 'stare', 'nothing', 'long', 'enough', 'people', 'might', 'thinkim', 'engineer', 'working', 'something', 'sr', 'mcelroy'], ['try', 'reaching', 'live', 'customer', 'support', 'person', 'paypal', 'virtually', 'impossible', 'get', 'hold', 'thru', 'automated', 'phone', 'systemimagine', 'glitch', 'cypto', 'transfer', 'ne'], ['pfizer', 'covid', 'vaccine', 'trial', 'show', 'effective', 'dollar', 'index', 'edge', 'oneweek', 'low', 'bitcoin', 'surge', 'last', 'day', 'euro', 'tick', 'investor', 'ignore'], ['mnuchin', 'defends', 'decision', 'end', 'feds', 'pandemic', 'lending', 'dollar', 'poised', 'end', 'week', 'loss', 'euro', 'yen', 'little', 'changed', 'v', 'dollar', 'bitcoin', 'hit', 'fresh', 'threeyear', 'high', 'graphic', 'world', 'fx', 'ra'], ['posted', 'bitcoin', 'soared', 'record', 'high', 'dollar', 'monday', 'rally', 'steamed', 'ahead', 'boosted', 'increased', 'demand', 'institutional', 'retail', 'investor', 'saw', 'virtual', 'c'], ['reuters', 'staffreuters', 'sticky', 'talksfile', 'photo', 'small', 'toy', 'figure', 'seen', 'front', 'brexit', 'logo', 'illustration', 'picture', 'march', 'reutersdado', 'ruvicillustrationbritai'], ['currency', 'asset', 'perhaps', 'commodity', 'effort', 'drive', 'price', 'infamous', 'crypto', 'evangelicals', 'coming', 'attributing', 'increasing', 'number', 'use', 'case'], ['new', 'zealand', 'dollar', 'set', 'reach', 'twoyear', 'high', 'commoditylinked', 'currency', 'gain', 'v', 'us', 'dollar', 'canadian', 'dollar', 'shy', 'twoyear', 'high', 'graphic', 'world', 'fx', 'rate', 'tmsnrtrsr'], ['fixes', 'typo', 'euro', 'price', 'th', 'paragraph', 'euro', 'nz', 'dollar', 'hit', 'highest', 'year', 'sterling', 'rise', 'threemonth', 'high', 'us', 'bipartisan', 'stimulus', 'proposal', 'sink', 'greenback'], ['nearly', 'three', 'year', 'since', 'bitcoin', 'price', 'reached', 'benchmark', 'k', 'doesnt', 'seem', 'stopping', 'price', 'btc', 'overflowing', 'new', 'bitcoin', 'address'], ['visa', 'paypal', 'diem', 'formerly', 'known', 'libra', 'looking', 'capitalize', 'rapidly', 'growing', 'industryvisa', 'eyeing', 'cryptocurrency', 'spaceinsider', 'intelligenceullivisas', 'newest', 'cred'], ['anyone', 'serious', 'mining', 'cryptocurrency', 'bitcoin', 'well', 'past', 'point', 'standard', 'desktop', 'computer', 'much', 'use', 'array', 'highend', 'gpus', 'still', 'viable', 'cu'], ['paypal', 'launched', 'generosity', 'network', 'platform', 'allows', 'user', 'create', 'customized', 'personal', 'fundraising', 'campaign', 'yes', 'like', 'gofundmeyou', 'raise', 'maximum'], ['woman', 'walk', 'past', 'microsoft', 'store', 'th', 'avenue', 'john', 'nacionsopa', 'imageslightrocket', 'via', 'getty', 'imagesullia', 'former', 'microsoft', 'employee', 'sentenced', 'nine', 'year', 'prison', 'monday', 'stealing'], ['november', 'min', 'readthis', 'article', 'translated', 'spanish', 'edition', 'using', 'ai', 'technology', 'errors', 'may', 'exist', 'due', 'processfor', 'first', 'time', 'almost', 'three', 'year', 'price'], ['file', 'photo', 'sign', 'china', 'construction', 'bank', 'seen', 'booth', 'china', 'international', 'fair', 'trade', 'services', 'ciftis', 'beijing', 'china', 'september', 'reuterstingshu', 'wangfutur']]\n"
     ]
    }
   ],
   "source": [
    "# Create for loop to iterate through the rows in the \"text\" column \n",
    "btc_tokens = []\n",
    "for row in btc_text_df:\n",
    "    token = tokenizer(row)\n",
    "    btc_tokens.append(token)\n",
    "\n",
    "    print(btc_tokens) "
   ]
  },
  {
   "cell_type": "code",
   "execution_count": 705,
   "metadata": {},
   "outputs": [
    {
     "output_type": "execute_result",
     "data": {
      "text/plain": [
       "          date                                               text  compound  \\\n",
       "0   2020-11-12  A former Microsoft software engineer from Ukra...   -0.6705   \n",
       "1   2020-12-03  Visa has partnered with cryptocurrency startup...    0.6369   \n",
       "2   2020-11-12  PayPal is bringing its newly-announced support...    0.2144   \n",
       "3   2020-11-20  In November 2017, after an absolutely massive,...    0.2023   \n",
       "4   2020-12-06  Unlike ‘conventional’ cryptocurrencies, a cent...    0.0000   \n",
       "..         ...                                                ...       ...   \n",
       "93  2020-11-18  For anyone serious about mining cryptocurrency...    0.2023   \n",
       "94  2020-11-19  PayPal has launched the Generosity Network, a ...    0.8779   \n",
       "95  2020-11-13  A woman walks past a Microsoft Store on 5th av...   -0.5267   \n",
       "96  2020-11-18  November\\r\\n18, 2020\\r\\n2 min read\\r\\nThis art...   -0.3400   \n",
       "97  2020-11-23  FILE PHOTO: A sign of China Construction Bank ...    0.3182   \n",
       "\n",
       "    positive  negative  neutral  \\\n",
       "0      0.064     0.199    0.737   \n",
       "1      0.162     0.000    0.838   \n",
       "2      0.053     0.000    0.947   \n",
       "3      0.050     0.000    0.950   \n",
       "4      0.000     0.000    1.000   \n",
       "..       ...       ...      ...   \n",
       "93     0.056     0.035    0.909   \n",
       "94     0.318     0.000    0.682   \n",
       "95     0.000     0.136    0.864   \n",
       "96     0.000     0.064    0.936   \n",
       "97     0.065     0.000    0.935   \n",
       "\n",
       "                                            btc_token  \n",
       "0   [former, microsoft, software, engineer, ukrain...  \n",
       "1   [visahas, partnered, cryptocurrency, startup, ...  \n",
       "2   [paypal, bringing, newlyannounced, support, cr...  \n",
       "3   [november, absolutely, massive, twomonth, rall...  \n",
       "4   [unlike, conventional, cryptocurrencies, centr...  \n",
       "..                                                ...  \n",
       "93  [anyone, serious, mining, cryptocurrency, bitc...  \n",
       "94  [paypal, launched, generosity, network, platfo...  \n",
       "95  [woman, walk, past, microsoft, store, th, aven...  \n",
       "96  [november, min, readthis, article, translated,...  \n",
       "97  [file, photo, sign, china, construction, bank,...  \n",
       "\n",
       "[87 rows x 7 columns]"
      ],
      "text/html": "<div>\n<style scoped>\n    .dataframe tbody tr th:only-of-type {\n        vertical-align: middle;\n    }\n\n    .dataframe tbody tr th {\n        vertical-align: top;\n    }\n\n    .dataframe thead th {\n        text-align: right;\n    }\n</style>\n<table border=\"1\" class=\"dataframe\">\n  <thead>\n    <tr style=\"text-align: right;\">\n      <th></th>\n      <th>date</th>\n      <th>text</th>\n      <th>compound</th>\n      <th>positive</th>\n      <th>negative</th>\n      <th>neutral</th>\n      <th>btc_token</th>\n    </tr>\n  </thead>\n  <tbody>\n    <tr>\n      <th>0</th>\n      <td>2020-11-12</td>\n      <td>A former Microsoft software engineer from Ukra...</td>\n      <td>-0.6705</td>\n      <td>0.064</td>\n      <td>0.199</td>\n      <td>0.737</td>\n      <td>[former, microsoft, software, engineer, ukrain...</td>\n    </tr>\n    <tr>\n      <th>1</th>\n      <td>2020-12-03</td>\n      <td>Visa has partnered with cryptocurrency startup...</td>\n      <td>0.6369</td>\n      <td>0.162</td>\n      <td>0.000</td>\n      <td>0.838</td>\n      <td>[visahas, partnered, cryptocurrency, startup, ...</td>\n    </tr>\n    <tr>\n      <th>2</th>\n      <td>2020-11-12</td>\n      <td>PayPal is bringing its newly-announced support...</td>\n      <td>0.2144</td>\n      <td>0.053</td>\n      <td>0.000</td>\n      <td>0.947</td>\n      <td>[paypal, bringing, newlyannounced, support, cr...</td>\n    </tr>\n    <tr>\n      <th>3</th>\n      <td>2020-11-20</td>\n      <td>In November 2017, after an absolutely massive,...</td>\n      <td>0.2023</td>\n      <td>0.050</td>\n      <td>0.000</td>\n      <td>0.950</td>\n      <td>[november, absolutely, massive, twomonth, rall...</td>\n    </tr>\n    <tr>\n      <th>4</th>\n      <td>2020-12-06</td>\n      <td>Unlike ‘conventional’ cryptocurrencies, a cent...</td>\n      <td>0.0000</td>\n      <td>0.000</td>\n      <td>0.000</td>\n      <td>1.000</td>\n      <td>[unlike, conventional, cryptocurrencies, centr...</td>\n    </tr>\n    <tr>\n      <th>...</th>\n      <td>...</td>\n      <td>...</td>\n      <td>...</td>\n      <td>...</td>\n      <td>...</td>\n      <td>...</td>\n      <td>...</td>\n    </tr>\n    <tr>\n      <th>93</th>\n      <td>2020-11-18</td>\n      <td>For anyone serious about mining cryptocurrency...</td>\n      <td>0.2023</td>\n      <td>0.056</td>\n      <td>0.035</td>\n      <td>0.909</td>\n      <td>[anyone, serious, mining, cryptocurrency, bitc...</td>\n    </tr>\n    <tr>\n      <th>94</th>\n      <td>2020-11-19</td>\n      <td>PayPal has launched the Generosity Network, a ...</td>\n      <td>0.8779</td>\n      <td>0.318</td>\n      <td>0.000</td>\n      <td>0.682</td>\n      <td>[paypal, launched, generosity, network, platfo...</td>\n    </tr>\n    <tr>\n      <th>95</th>\n      <td>2020-11-13</td>\n      <td>A woman walks past a Microsoft Store on 5th av...</td>\n      <td>-0.5267</td>\n      <td>0.000</td>\n      <td>0.136</td>\n      <td>0.864</td>\n      <td>[woman, walk, past, microsoft, store, th, aven...</td>\n    </tr>\n    <tr>\n      <th>96</th>\n      <td>2020-11-18</td>\n      <td>November\\r\\n18, 2020\\r\\n2 min read\\r\\nThis art...</td>\n      <td>-0.3400</td>\n      <td>0.000</td>\n      <td>0.064</td>\n      <td>0.936</td>\n      <td>[november, min, readthis, article, translated,...</td>\n    </tr>\n    <tr>\n      <th>97</th>\n      <td>2020-11-23</td>\n      <td>FILE PHOTO: A sign of China Construction Bank ...</td>\n      <td>0.3182</td>\n      <td>0.065</td>\n      <td>0.000</td>\n      <td>0.935</td>\n      <td>[file, photo, sign, china, construction, bank,...</td>\n    </tr>\n  </tbody>\n</table>\n<p>87 rows × 7 columns</p>\n</div>"
     },
     "metadata": {},
     "execution_count": 705
    }
   ],
   "source": [
    "# Create a new tokens column for bitcoin\n",
    "btc_df['btc_token'] = btc_tokens\n",
    "btc_df"
   ]
  },
  {
   "cell_type": "code",
   "execution_count": 706,
   "metadata": {
    "tags": [
     "outputPrepend"
    ]
   },
   "outputs": [
    {
     "output_type": "stream",
     "name": "stdout",
     "text": [
      "e', 'secondlargest', 'donation'], ['make', 'asset', 'liquid', 'liquidity', 'basically', 'refers', 'item', 'marketability', 'faster', 'convert', 'something', 'cash', 'value', 'retains', 'sell', 'liquid'], ['hybrid', 'blockchain', 'platform', 'kadena', 'teaming', 'stablecoin', 'maker', 'terra', 'aim', 'expanding', 'decentralized', 'finance', 'defi', 'platformannounced', 'tuesday', 'kadena', 'said', 'add'], ['ethereumethereum', 'surged', 'friday', 'following', 'rally', 'thursday', 'ethereum', 'ended', 'day', 'particularly', 'bullish', 'day', 'ethereum', 'rallied', 'early', 'mornin'], ['coindesk', 'snagged', 'frontrow', 'seat', 'seminal', 'event', 'crypto', 'industry', 'ticket', 'price', 'ethas', 'medium', 'outlet', 'covering', 'nascent', 'technology', 'believe', 'sometimes', 'chronicle']]\n",
      "[['paypal', 'bringing', 'newlyannounced', 'support', 'cryptocurrency', 'us', 'account', 'first', 'announced', 'plan', 'open', 'cryptocurrency', 'trading', 'usbased', 'user', 'october'], ['file', 'photo', 'representation', 'ethereum', 'virtual', 'currency', 'standing', 'pc', 'motherboard', 'seen', 'illustration', 'picture', 'february', 'reutersdado', 'ruvicillustrationlondon', 'reuters'], ['london', 'reuters', 'digital', 'currency', 'ethereum', 'xrp', 'soared', 'monday', 'gaining', 'momentum', 'bitcoin', 'powered', 'towards', 'alltime', 'highfile', 'photo', 'representation', 'ethereum', 'virtual', 'currency'], ['paypal', 'launched', 'generosity', 'network', 'platform', 'allows', 'user', 'create', 'customized', 'personal', 'fundraising', 'campaign', 'yes', 'like', 'gofundmeyou', 'raise', 'maximum'], ['reuters', 'stafffile', 'photo', 'representation', 'virtual', 'currency', 'bitcoin', 'seen', 'front', 'stock', 'graph', 'illustration', 'taken', 'november', 'reutersdado', 'ruvicillustrationfile', 'photo'], ['new', 'york', 'times', 'probably', 'publish', 'story', 'cryptocurrency', 'exchange', 'coinbase', 'reading', 'news', 'outlet', 'website', 'coinbase', 'taken', 'highly', 'un'], ['decentralized', 'exchange', 'protocol', 'allow', 'crypto', 'trader', 'investor', 'trade', 'across', 'different', 'blockhains', 'development', 'significant', 'new', 'development', 'come', 'la'], ['attack', 'growing', 'number', 'since', 'early', 'february', 'year', 'one', 'biggest', 'flash', 'loan', 'attack', 'took', 'place', 'last', 'month', 'october', 'hacker', 'stole', 'million', 'worth', 'cryptoc'], ['november', 'min', 'readopinions', 'expressed', 'entrepreneur', 'contributor', 'ownthe', 'cryptocurrency', 'world', 'prone', 'hype', 'whether', 'grand', 'scale', 'ico', 'boom', 'bitcoin', 'price'], ['reuters', 'staffa', 'representation', 'virtual', 'currency', 'bitcoin', 'seen', 'illustration', 'taken', 'november', 'reutersdado', 'ruvicillustrationnew', 'york', 'reuters', 'bitcoin', 'btcbtsp', 'rose', 'n'], ['reuters', 'staffa', 'representation', 'virtual', 'currency', 'bitcoin', 'seen', 'illustration', 'taken', 'november', 'reutersdado', 'ruvicillustrationnew', 'york', 'reuters', 'bitcoin', 'btcbtsp', 'rose', 'n'], ['reuters', 'stafffile', 'photo', 'representations', 'virtual', 'currency', 'bitcoin', 'placed', 'us', 'dollar', 'banknote', 'illustration', 'taken', 'may', 'reutersdado', 'ruvicillustrationlondon', 'reuters'], ['reuters', 'stafffile', 'photo', 'representation', 'virtual', 'currency', 'bitcoin', 'seen', 'illustration', 'taken', 'november', 'reutersdado', 'ruvicillustrationfile', 'photolondon', 'reuters', 'bitcoin'], ['hala', 'systems', 'using', 'hedera', 'hashgraph', 'secure', 'alternative', 'blockchain', 'technology', 'anchor', 'system', 'warns', 'syrians', 'impending', 'conflict', 'natural', 'disastershala', 'systems', 'social', 'enter'], ['try', 'reaching', 'live', 'customer', 'support', 'person', 'paypal', 'virtually', 'impossible', 'get', 'hold', 'thru', 'automated', 'phone', 'systemimagine', 'glitch', 'cypto', 'transfer', 'ne'], ['paypal', 'let', 'buy', 'sell', 'cryptocurrencies', 'like', 'bitcoin', 'ethereum', 'lot', 'people', 'excited', 'speculated', 'price', 'bitcoin', 'gone', 'upbut', 'payp'], ['chain', 'block', 'erupters', 'used', 'bitcoin', 'mining', 'pictured', 'plug', 'play', 'tech', 'center', 'sunnyvale', 'california', 'october', 'reutersstephen', 'lamullibitcoin', 'slumped', 'throug'], ['comment', 'response', 'cost', 'tiny', 'eth', 'fee', 'ethereum', 'cryptocurrency', 'payable', 'metamaskio', 'wallet', 'wallet', 'free', 'take', 'moment', 'add', 'browse'], ['tom', 'wilson', 'gertrude', 'chavezdreyfusslondonnew', 'york', 'reuters', 'bitcoin', 'tuesday', 'soared', 'highest', 'level', 'since', 'december', 'asset', 'perceived', 'quality', 'hedge', 'inflation'], ['new', 'york', 'reuters', 'world', 'largest', 'digital', 'currency', 'asset', 'manager', 'grayscale', 'said', 'wednesday', 'asset', 'management', 'soared', 'record', 'billion', 'bolstered', 'continued', 'rise', 'inv'], ['london', 'reuters', 'bitcoin', 'passed', 'tuesday', 'touch', 'highest', 'level', 'year', 'investor', 'ascribing', 'gain', 'demand', 'perceived', 'inflationresistant', 'quality', 'expectation'], ['london', 'reuters', 'bitcoin', 'passed', 'tuesday', 'touch', 'highest', 'level', 'year', 'investor', 'ascribing', 'gain', 'demand', 'perceived', 'inflationresistant', 'quality', 'expectation'], ['file', 'photo', 'representations', 'virtual', 'currency', 'bitcoin', 'seen', 'picture', 'illustration', 'taken', 'taken', 'march', 'reutersdado', 'ruvicfile', 'photofuture', 'moneytom', 'wilsongertrude', 'chavez'], ['londonnew', 'york', 'reuters', 'bitcoin', 'tuesday', 'soared', 'highest', 'level', 'since', 'december', 'asset', 'perceived', 'quality', 'hedge', 'inflation', 'expectation', 'mainstream', 'acceptance', 'l'], ['technology', 'media', 'telecommunicationsgertrude', 'chavezdreyfussnew', 'york', 'nov', 'reuters', 'world', 'largest', 'digital', 'currency', 'asset', 'manager', 'grayscale', 'said', 'wednesday', 'asset', 'managem'], ['gala', 'games', 'blockchain', 'game', 'startup', 'created', 'zynga', 'cofounder', 'eric', 'schiermeyer', 'cut', 'littlenoticed', 'interesting', 'promotional', 'deal', 'week', 'brave', 'maker', 'privacyfocused', 'b'], ['november', 'min', 'readthis', 'article', 'translated', 'spanish', 'edition', 'using', 'ai', 'technology', 'errors', 'may', 'exist', 'due', 'processullithe', 'event', 'presented', 'november'], ['ethereum', 'soared', 'recent', 'week', 'adding', 'price', 'last', 'month', 'ethereum', 'price', 'passed', 'per', 'ether', 'token', 'last', 'week', 'first', 'time', 'since', 'june', 'riding', 'bitcoins', 'coat', 'ta'], ['could', 'say', 'lil', 'yachty', 'quite', 'bit', 'endeavor', 'year', 'outside', 'rap', 'career', 'besides', 'creating', 'jingle', 'reeses', 'puffs', 'bringing', 'show', 'public', 'figures', 'hbo', 'max'], ['wild', 'year', 'wall', 'street', 'investment', 'community', 'unprecedented', 'coronavirus', 'disease', 'covid', 'pandemic', 'wiped', 'away', 'third', 'sampp', 'value', 'month'], ['november', 'min', 'readopinions', 'expressed', 'entrepreneur', 'contributor', 'owntraditionally', 'financial', 'education', 'wasa', 'privilege', 'reserved', 'almost', 'exclusively', 'select'], ['lil', 'yachtyis', 'expanding', 'career', 'want', 'part', 'rapper', 'newly', 'released', 'cryptocurrency', 'yachtycoin', 'making', 'possible', 'fan', 'become', 'shareholder', 'careerthe'], ['gettyyou', 'deep', 'dive', 'investment', 'going', 'well', 'handing', 'investment', 'decision', 'others', 'skimming', 'surface', 'investing', 'dynamic', 'committing', 'caput'], ['tutorial', 'well', 'write', 'simple', 'smart', 'contract', 'deploy', 'personal', 'ethereum', 'blockchain', 'call', 'contract', 'python', 'scriptwhat', 'need', 'installed', 'proceedu'], ['ethereum', 'ripples', 'xrp', 'litecoin', 'chainlink', 'world', 'biggest', 'cryptocurrencies', 'bitcoin', 'theyve', 'suddenly', 'soared', 'week', 'ethereum', 'xrp', 'litecoin', 'chainlink', 'combined'], ['bitcoin', 'ethereum', 'ripples', 'xrp', 'litecoin', 'chainlinkfive', 'biggest', 'cryptocurrencies', 'valuehave', 'bounced', 'back', 'selloff', 'weekthe', 'bitcoin', 'price', 'climbed', 'per', 'bitcoin'], ['visa', 'inc', 'headquarters', 'foster', 'city', 'california', 'us', 'nov', 'two', 'year', 'work', 'visa', 'opening', 'network', 'usdc', 'digital', 'dollar', 'created', 'circle', 'internet', 'financial'], ['ripples', 'xrp', 'currently', 'world', 'thirdbiggest', 'cryptocurrency', 'market', 'value', 'behind', 'bitcoin', 'ethereum', 'soared', 'last', 'weekadding', 'around', 'price', 'xrp', 'price', 'risen'], ['bitcoin', 'incredible', 'doubling', 'price', 'since', 'beginning', 'yearwith', 'predicting', 'continue', 'climb', 'bitcoin', 'price', 'recently', 'soared'], ['latest', 'update', 'paypal', 'enables', 'cryptocurrency', 'bitcoin', 'ethereum', 'litecoin', 'like', 'holding', 'trading', 'paypal', 'tested', 'cryptocurrency', 'feature', 'small', 'set', 'user', 'week', 'betwee'], ['caneth', 'pool', 'caneth', 'pool', 'smartest', 'way', 'stake', 'ether', 'decentrsikedbhereum', 'poot', 'skake', 'po', 'bockchain', 'netaork', 'request', 'infa', 'decentralized', 'ethereum', 'latdt', 'wi', 'proof', 'stake', 'pos', 'network'], ['previous', 'post', 'demonstrated', 'write', 'simple', 'smart', 'contract', 'solidity', 'deploy', 'ethereum', 'blockchainthis', 'tutorial', 'show', 'update', 'contract', 'save', 'data'], ['genesis', 'block', 'ventures', 'gbv', 'announced', 'acquisition', 'omg', 'network', 'help', 'speed', 'transaction', 'lower', 'fee', 'ethereum', 'blockchain', 'handling', 'transaction', 'offchain', 'triggering', 'double'], ['earlier', 'today', 'change', 'underlying', 'ethereum', 'code', 'made', 'developer', 'time', 'ago', 'resulted', 'unannounced', 'hard', 'fork', 'effectively', 'splitting', 'ethereum', 'blockchain', 'creating', 'new', 'version'], ['ethereum', 'classic', 'want', 'play', 'decentralized', 'finance', 'defi', 'space', 'blockchain', 'contentiously', 'split', 'announced', 'wednesday', 'ethereum', 'classic', 'labs', 'etc', 'blockchains', 'bigges'], ['ethereum', 'founder', 'vitalik', 'buterin', 'sent', 'first', 'ether', 'staking', 'next', 'iteration', 'blockchain', 'networkullibuterins', 'vb', 'address', 'sent', 'transaction', 'ether'], ['smart', 'contract', 'required', 'triggering', 'first', 'phase', 'ethereum', 'enough', 'fund', 'begin', 'activation', 'ethereums', 'ambitious', 'upgrade', 'yet', 'radically', 'shift', 'ethereums', 'economic'], ['ethereum', 'blockchain', 'network', 'look', 'suffering', 'issue', 'wednesday', 'morning', 'knockon', 'effect', 'related', 'service', 'providersulliin', 'service', 'announcement', 'soon', 'utc', 'ethereum'], ['analysts', 'bullish', 'bitcoins', 'price', 'option', 'market', 'decidedly', 'bearish', 'remaining', 'week', 'ethereums', 'wrapped', 'bitcoin', 'token', 'cross', 'billion', 'lockedullibitcoin', 'btc', 'tr'], ['kirobo', 'tel', 'avivbased', 'startup', 'known', 'developing', 'product', 'revers', 'erroneous', 'bitcoin', 'transaction', 'repurposed', 'invention', 'work', 'ethereumulliannounced', 'thursday', 'retrie'], ['bitcoin', 'knocking', 'gate', 'ethereums', 'transaction', 'growth', 'positive', 'indicator', 'future', 'financial', 'use', 'casesullibitcoin', 'btc', 'trading', 'around'], ['consensys', 'adding', 'dapp', 'development', 'platform', 'truffle', 'suite', 'back', 'lineup', 'ethereum', 'toolsconsensys', 'chief', 'strategy', 'officer', 'simon', 'morris', 'said', 'tuesday', 'ethereumfocused', 'firm', 'acquired', 'th'], ['idex', 'betting', 'three', 'chain', 'better', 'onethe', 'noncustodial', 'cryptocurrency', 'exchange', 'whose', 'operation', 'run', 'ethereum', 'blockchain', 'announced', 'tuesday', 'plan', 'expand', 'binance'], ['kraken', 'announced', 'help', 'fund', 'opensource', 'ethereum', 'project', 'first', 'usbased', 'cryptocurrency', 'exchangein', 'blog', 'post', 'thursday', 'kraken', 'said', 'collaborate', 'gitcoin'], ['ethereum', 'finally', 'set', 'go', 'live', 'people', 'face', 'crucial', 'decision', 'whether', 'stake', 'come', 'balancing', 'ageold', 'calculus', 'risk', 'reward', 'ethereum', 'hold', 'th'], ['cryptocurrency', 'exchange', 'gemini', 'developing', 'wrapped', 'filecoin', 'wfil', 'service', 'enabling', 'decentralized', 'storage', 'platform', 'native', 'token', 'fil', 'used', 'ethereum', 'networkulliin', 'com'], ['takeawayulliaudius', 'ethereumbased', 'streaming', 'app', 'looking', 'take', 'spotify', 'apple', 'music', 'offering', 'artist', 'better', 'deallililike', 'many', 'blockchain', 'project', 'audius'], ['number', 'billiondollar', 'spot', 'volume', 'day', 'bitcoin', 'market', 'increasing', 'pushing', 'price', 'higher', 'ethereums', 'transaction', 'fee', 'also', 'increasing', 'general', 'cryptocurrency', 'interest', 'fuel', 'deman'], ['smart', 'contract', 'trigger', 'first', 'phase', 'ethereums', 'ambitious', 'upgrade', 'yet', 'nearly', 'accrued', 'enough', 'fund', 'activatethe', 'ethereum', 'deposit', 'contract', 'currently', 'hold'], ['sharding', 'proposed', 'method', 'splitting', 'infrastructure', 'ethereum', 'smaller', 'piece', 'goal', 'scaling', 'platform', 'support', 'many', 'user', 'currently', 'doesethere'], ['ullithe', 'bulk', 'ethereums', 'defi', 'ecosystem', 'went', 'dark', 'earlier', 'today', 'latent', 'bug', 'ethereum', 'code', 'split', 'network', 'transaction', 'history', 'twolilithe', 'split', 'resulted', 'code', 'chan'], ['ethereum', 'hit', 'major', 'milestone', 'beacon', 'chain', 'went', 'live', 'libra', 'seizes', 'day', 'rebrands', 'diem', 'google', 'search', 'bitcoin', 'doubled', 'since', 'last', 'monthcoinbase', 'ltgt', 'micro'], ['us', 'securities', 'exchange', 'commission', 'sec', 'granted', 'another', 'crypto', 'firm', 'permission', 'sell', 'native', 'cryptocurrencythe', 'sec', 'published', 'noaction', 'letter', 'thursday', 'dated', 'nov'], ['eth', 'locked', 'loaded', 'ethereum', 'deposit', 'contract', 'kickstarting', 'network', 'major', 'multiyear', 'development', 'phase', 'jpmorgan', 'analyst', 'say', 'institution', 'piling'], ['biggest', 'update', 'ethereums', 'history', 'begin', 'first', 'phase', 'dec', 'per', 'tweet', 'eth', 'researcher', 'justin', 'drake', 'ethereum', 'beacon', 'chains', 'launch', 'set', 'dec', 'utc'], ['ethereum', 'classic', 'etc', 'undergone', 'hard', 'fork', 'usher', 'new', 'upgrade', 'aimed', 'increase', 'miner', 'participation', 'increase', 'securityaccording', 'etc', 'explorer', 'blockscout', 'around'], ['human', 'protocol', 'backbone', 'antibot', 'system', 'hcaptcha', 'announced', 'thursday', 'expanding', 'beyond', 'ethereum', 'future', 'polkadot', 'parachain', 'moonbeamthe', 'move', 'also', 'prepares', 'addition'], ['bitcoin', 'higher', 'pushing', 'toward', 'upper', 'edge', 'recent', 'range', 'positive', 'sentiment', 'towards', 'bitcoin', 'gone', 'away', 'said', 'denis', 'vinokourov', 'head'], ['bitcoin', 'gained', 'wednesday', 'ethereum', 'staking', 'ramping', 'upullibitcoin', 'btc', 'trading', 'around', 'utc', 'pm', 'et', 'gaining', 'previous', 'hourslilibi'], ['alive', 'welcome', 'everyone', 'first', 'issue', 'valid', 'pointstoday', 'commemorating', 'historic', 'launch', 'ethereum', 'mark', 'beginning', 'ethereums', 'live', 'transformation', 'p'], ['going', 'live', 'last', 'week', 'deposit', 'contract', 'ethereums', 'upgrade', 'hold', 'k', 'eth', 'threshold', 'needed', 'activate', 'watershed', 'updatethis', 'deposit', 'contract', 'cornersto'], ['blockchain', 'technology', 'creates', 'new', 'asset', 'class', 'investor', 'protect', 'value', 'inflation', 'article', 'tokenized', 'real', 'asset', 'presented', 'scarce', 'asset', 'rea'], ['look', 'rapid', 'growth', 'year', 'whitehot', 'arena', 'decentralized', 'finance', 'defi', 'clear', 'ethereum', 'blockchain', 'dominating', 'many', 'conversation', 'right', 'th'], ['bitcoin', 'ethereum', 'ripples', 'xrp', 'bitcoin', 'cash', 'litecoin', 'chainlinkthe', 'biggest', 'cryptocurrencies', 'market', 'valuehave', 'fallen', 'sharply', 'rocketing', 'higher', 'november', 'bitcoin', 'price', 'lost'], ['bitcoin', 'sent', 'cryptocurrency', 'market', 'soaring', 'recent', 'week', 'total', 'value', 'world', 'combined', 'cryptocurrencies', 'adding', 'eyewatering', 'billion', 'since', 'beginning', 'november'], ['member', 'ethereum', 'blockchain', 'community', 'endured', 'criticism', 'long', 'taking', 'move', 'new', 'mechanism', 'called', 'staking', 'hard', 'also', 'note', 'definiti'], ['day', 'aheadlitecoin', 'would', 'need', 'move', 'pivot', 'support', 'run', 'first', 'major', 'resistance', 'level', 'support', 'broader', 'market', 'would', 'needed', 'however'], ['ethereumethereum', 'rallied', 'friday', 'reversing', 'loss', 'thursday', 'ethereum', 'ended', 'day', 'another', 'mixed', 'start', 'day', 'ethereum', 'fell', 'early', 'morning', 'intra'], ['live', 'democracy', 'thanksgiving', 'approach', 'find', 'longing', 'type', 'freedom', 'seeing', 'china', 'people', 'china', 'able', 'move', 'around', 'freely', 'right', 'many', 'americans', 'may'], ['overwhelming', 'evidence', 'show', 'blockchaincryptocurrency', 'space', 'mostly', 'fraudulentsource', 'httpswwwhelpnetsecuritycomlookinsidecryptocurrencyfraudnote', 'amy', 'castor'], ['president', 'donald', 'trump', 'bizarre', 'habit', 'comparing', 'abraham', 'lincoln', 'ronald', 'reagan', 'probably', 'much', 'better', 'example', 'understanding', 'trumps', 'rise', 'power'], ['ethereum', 'developer', 'weighing', 'change', 'publicly', 'disclosing', 'critical', 'bug', 'following', 'nov', 'accidental', 'hard', 'forkaccording', 'technical', 'writeup', 'published', 'geth', 'largest', 'ethereum'], ['new', 'crypto', 'institutional', 'investor', 'recently', 'buying', 'bitcoins', 'digital', 'gold', 'narrative', 'might', 'looking', 'around', 'next', 'big', 'thingwith', 'longanticipated', 'arrival'], ['bitcoin', 'first', 'stop', 'investor', 'year', 'growing', 'number', 'people', 'paying', 'attention', 'ethereum', 'right', 'michael', 'sonnenshein', 'managing', 'director', 'g'], ['booming', 'world', 'decentralized', 'finance', 'defi', 'reached', 'new', 'height', 'recent', 'week', 'total', 'value', 'asset', 'locked', 'defi', 'ecosystem', 'surpasses', 'billion', 'arguably', 'fastestgrowing'], ['grayscale', 'investments', 'announced', 'wednesday', 'share', 'grayscale', 'ethereum', 'trust', 'ethe', 'split', 'move', 'increase', 'liquidity', 'perceived', 'affordability', 'sharesul'], ['coalition', 'ethereum', 'ogs', 'tackling', 'socalled', 'lockup', 'issue', 'whereby', 'first', 'generation', 'participant', 'staking', 'crypto', 'transitioning', 'eth', 'blockchain', 'must', 'commit', 'coin'], ['new', 'crypto', 'institutional', 'investor', 'recently', 'buying', 'bitcoins', 'digital', 'gold', 'narrative', 'might', 'looking', 'around', 'next', 'big', 'thingwith', 'longanticipated', 'arriva'], ['serenity', 'knockingthe', 'first', 'stage', 'nextgeneration', 'proofofstake', 'pos', 'ethereum', 'live', 'utc', 'tuesday', 'according', 'beaconchaina', 'generalized', 'blockchain', 'decentral'], ['blockchain', 'council', 'blocknews', 'tm', 'ethereum', 'ready', 'launch', 'eth', 'us', 'fed', 'economists', 'hoping', 'identify', 'intrinsic', 'features', 'cbdc', 'ceo', 'ftx', 'made', 'secondlargest', 'donation'], ['make', 'asset', 'liquid', 'liquidity', 'basically', 'refers', 'item', 'marketability', 'faster', 'convert', 'something', 'cash', 'value', 'retains', 'sell', 'liquid'], ['hybrid', 'blockchain', 'platform', 'kadena', 'teaming', 'stablecoin', 'maker', 'terra', 'aim', 'expanding', 'decentralized', 'finance', 'defi', 'platformannounced', 'tuesday', 'kadena', 'said', 'add'], ['ethereumethereum', 'surged', 'friday', 'following', 'rally', 'thursday', 'ethereum', 'ended', 'day', 'particularly', 'bullish', 'day', 'ethereum', 'rallied', 'early', 'mornin'], ['coindesk', 'snagged', 'frontrow', 'seat', 'seminal', 'event', 'crypto', 'industry', 'ticket', 'price', 'ethas', 'medium', 'outlet', 'covering', 'nascent', 'technology', 'believe', 'sometimes', 'chronicle'], ['ethereum', 'cofounder', 'vitalik', 'buterin', 'dressed', 'like', 'medieval', 'harlequin', 'leaning', 'velvet', 'chair', 'stare', 'past', 'viewer', 'distance', 'rocketed', 'sky', 'ether', 'pr']]\n"
     ]
    }
   ],
   "source": [
    "eth_tokens = []\n",
    "for row in eth_text_df:\n",
    "    token = tokenizer(row)\n",
    "    eth_tokens.append(token)\n",
    "\n",
    "    print(eth_tokens) "
   ]
  },
  {
   "cell_type": "code",
   "execution_count": 707,
   "metadata": {},
   "outputs": [
    {
     "output_type": "execute_result",
     "data": {
      "text/plain": [
       "          date                                               text  compound  \\\n",
       "0   2020-11-12  PayPal is bringing its newly-announced support...    0.2144   \n",
       "1   2020-11-23  FILE PHOTO: Representation of the Ethereum vir...    0.0000   \n",
       "2   2020-11-23  LONDON (Reuters) - Digital currencies Ethereum...    0.4215   \n",
       "4   2020-11-19  PayPal has launched the Generosity Network, a ...    0.8779   \n",
       "5   2020-11-26  By Reuters Staff\\r\\nFILE PHOTO: A representati...    0.0000   \n",
       "..         ...                                                ...       ...   \n",
       "92  2020-11-12  What makes an asset \"liquid\"? Liquidity basica...    0.6361   \n",
       "93  2020-11-10  Hybrid blockchain platform Kadena is teaming u...    0.0000   \n",
       "94  2020-11-07  Ethereum\\r\\nEthereum surged by 9.43% on Friday...    0.0000   \n",
       "95  2020-11-24  CoinDesk just snagged a front-row seat to a se...    0.0000   \n",
       "96  2020-11-22  Ethereum co-founder Vitalik Buterin, dressed l...    0.3612   \n",
       "\n",
       "    positive  negative  neutral  \\\n",
       "0      0.053       0.0    0.947   \n",
       "1      0.000       0.0    1.000   \n",
       "2      0.088       0.0    0.912   \n",
       "4      0.318       0.0    0.682   \n",
       "5      0.000       0.0    1.000   \n",
       "..       ...       ...      ...   \n",
       "92     0.132       0.0    0.868   \n",
       "93     0.000       0.0    1.000   \n",
       "94     0.000       0.0    1.000   \n",
       "95     0.000       0.0    1.000   \n",
       "96     0.075       0.0    0.925   \n",
       "\n",
       "                                            eth_token  \n",
       "0   [paypal, bringing, newlyannounced, support, cr...  \n",
       "1   [file, photo, representation, ethereum, virtua...  \n",
       "2   [london, reuters, digital, currency, ethereum,...  \n",
       "4   [paypal, launched, generosity, network, platfo...  \n",
       "5   [reuters, stafffile, photo, representation, vi...  \n",
       "..                                                ...  \n",
       "92  [make, asset, liquid, liquidity, basically, re...  \n",
       "93  [hybrid, blockchain, platform, kadena, teaming...  \n",
       "94  [ethereumethereum, surged, friday, following, ...  \n",
       "95  [coindesk, snagged, frontrow, seat, seminal, e...  \n",
       "96  [ethereum, cofounder, vitalik, buterin, dresse...  \n",
       "\n",
       "[95 rows x 7 columns]"
      ],
      "text/html": "<div>\n<style scoped>\n    .dataframe tbody tr th:only-of-type {\n        vertical-align: middle;\n    }\n\n    .dataframe tbody tr th {\n        vertical-align: top;\n    }\n\n    .dataframe thead th {\n        text-align: right;\n    }\n</style>\n<table border=\"1\" class=\"dataframe\">\n  <thead>\n    <tr style=\"text-align: right;\">\n      <th></th>\n      <th>date</th>\n      <th>text</th>\n      <th>compound</th>\n      <th>positive</th>\n      <th>negative</th>\n      <th>neutral</th>\n      <th>eth_token</th>\n    </tr>\n  </thead>\n  <tbody>\n    <tr>\n      <th>0</th>\n      <td>2020-11-12</td>\n      <td>PayPal is bringing its newly-announced support...</td>\n      <td>0.2144</td>\n      <td>0.053</td>\n      <td>0.0</td>\n      <td>0.947</td>\n      <td>[paypal, bringing, newlyannounced, support, cr...</td>\n    </tr>\n    <tr>\n      <th>1</th>\n      <td>2020-11-23</td>\n      <td>FILE PHOTO: Representation of the Ethereum vir...</td>\n      <td>0.0000</td>\n      <td>0.000</td>\n      <td>0.0</td>\n      <td>1.000</td>\n      <td>[file, photo, representation, ethereum, virtua...</td>\n    </tr>\n    <tr>\n      <th>2</th>\n      <td>2020-11-23</td>\n      <td>LONDON (Reuters) - Digital currencies Ethereum...</td>\n      <td>0.4215</td>\n      <td>0.088</td>\n      <td>0.0</td>\n      <td>0.912</td>\n      <td>[london, reuters, digital, currency, ethereum,...</td>\n    </tr>\n    <tr>\n      <th>4</th>\n      <td>2020-11-19</td>\n      <td>PayPal has launched the Generosity Network, a ...</td>\n      <td>0.8779</td>\n      <td>0.318</td>\n      <td>0.0</td>\n      <td>0.682</td>\n      <td>[paypal, launched, generosity, network, platfo...</td>\n    </tr>\n    <tr>\n      <th>5</th>\n      <td>2020-11-26</td>\n      <td>By Reuters Staff\\r\\nFILE PHOTO: A representati...</td>\n      <td>0.0000</td>\n      <td>0.000</td>\n      <td>0.0</td>\n      <td>1.000</td>\n      <td>[reuters, stafffile, photo, representation, vi...</td>\n    </tr>\n    <tr>\n      <th>...</th>\n      <td>...</td>\n      <td>...</td>\n      <td>...</td>\n      <td>...</td>\n      <td>...</td>\n      <td>...</td>\n      <td>...</td>\n    </tr>\n    <tr>\n      <th>92</th>\n      <td>2020-11-12</td>\n      <td>What makes an asset \"liquid\"? Liquidity basica...</td>\n      <td>0.6361</td>\n      <td>0.132</td>\n      <td>0.0</td>\n      <td>0.868</td>\n      <td>[make, asset, liquid, liquidity, basically, re...</td>\n    </tr>\n    <tr>\n      <th>93</th>\n      <td>2020-11-10</td>\n      <td>Hybrid blockchain platform Kadena is teaming u...</td>\n      <td>0.0000</td>\n      <td>0.000</td>\n      <td>0.0</td>\n      <td>1.000</td>\n      <td>[hybrid, blockchain, platform, kadena, teaming...</td>\n    </tr>\n    <tr>\n      <th>94</th>\n      <td>2020-11-07</td>\n      <td>Ethereum\\r\\nEthereum surged by 9.43% on Friday...</td>\n      <td>0.0000</td>\n      <td>0.000</td>\n      <td>0.0</td>\n      <td>1.000</td>\n      <td>[ethereumethereum, surged, friday, following, ...</td>\n    </tr>\n    <tr>\n      <th>95</th>\n      <td>2020-11-24</td>\n      <td>CoinDesk just snagged a front-row seat to a se...</td>\n      <td>0.0000</td>\n      <td>0.000</td>\n      <td>0.0</td>\n      <td>1.000</td>\n      <td>[coindesk, snagged, frontrow, seat, seminal, e...</td>\n    </tr>\n    <tr>\n      <th>96</th>\n      <td>2020-11-22</td>\n      <td>Ethereum co-founder Vitalik Buterin, dressed l...</td>\n      <td>0.3612</td>\n      <td>0.075</td>\n      <td>0.0</td>\n      <td>0.925</td>\n      <td>[ethereum, cofounder, vitalik, buterin, dresse...</td>\n    </tr>\n  </tbody>\n</table>\n<p>95 rows × 7 columns</p>\n</div>"
     },
     "metadata": {},
     "execution_count": 707
    }
   ],
   "source": [
    "# Create a new tokens column for ethereum\n",
    "eth_df['eth_token'] = eth_tokens\n",
    "eth_df"
   ]
  },
  {
   "cell_type": "markdown",
   "metadata": {},
   "source": [
    "---"
   ]
  },
  {
   "cell_type": "markdown",
   "metadata": {},
   "source": [
    "# NGrams and Frequency Analysis\n",
    "\n",
    "In this section you will look at the ngrams and word frequency for each coin. \n",
    "\n",
    "1. Use NLTK to produce the n-grams for N = 2. \n",
    "2. List the top 10 words for each coin. "
   ]
  },
  {
   "cell_type": "code",
   "execution_count": 708,
   "metadata": {},
   "outputs": [],
   "source": [
    "from collections import Counter\n",
    "from nltk import ngrams"
   ]
  },
  {
   "cell_type": "code",
   "execution_count": 744,
   "metadata": {
    "tags": [
     "outputPrepend"
    ]
   },
   "outputs": [
    {
     "output_type": "stream",
     "name": "stdout",
     "text": [
      "lar', 'poised', 'end', 'week', 'loss', 'euro', 'yen', 'little', 'changed', 'v', 'dollar', 'bitcoin', 'hit', 'fresh', 'threeyear', 'high', 'graphic', 'world', 'fx', 'ra', 'posted', 'bitcoin', 'soared', 'record', 'high', 'dollar', 'monday', 'rally', 'steamed', 'ahead', 'boosted', 'increased', 'demand', 'institutional', 'retail', 'investor', 'saw', 'virtual', 'c', 'reuters', 'staffreuters', 'sticky', 'talksfile', 'photo', 'small', 'toy', 'figure', 'seen', 'front', 'brexit', 'logo', 'illustration', 'picture', 'march', 'reutersdado', 'ruvicillustrationbritai', 'currency', 'asset', 'perhaps', 'commodity', 'effort', 'drive', 'price', 'infamous', 'crypto', 'evangelicals', 'coming', 'attributing', 'increasing', 'number', 'use', 'case', 'new', 'zealand', 'dollar', 'set', 'reach', 'twoyear', 'high', 'commoditylinked', 'currency', 'gain', 'v', 'us', 'dollar', 'canadian', 'dollar', 'shy', 'twoyear', 'high', 'graphic', 'world', 'fx', 'rate', 'tmsnrtrsr', 'fixes', 'typo', 'euro', 'price', 'th', 'paragraph', 'euro', 'nz', 'dollar', 'hit', 'highest', 'year', 'sterling', 'rise', 'threemonth', 'high', 'us', 'bipartisan', 'stimulus', 'proposal', 'sink', 'greenback', 'nearly', 'three', 'year', 'since', 'bitcoin', 'price', 'reached', 'benchmark', 'k', 'doesnt', 'seem', 'stopping', 'price', 'btc', 'overflowing', 'new', 'bitcoin', 'address', 'visa', 'paypal', 'diem', 'formerly', 'known', 'libra', 'looking', 'capitalize', 'rapidly', 'growing', 'industryvisa', 'eyeing', 'cryptocurrency', 'spaceinsider', 'intelligenceullivisas', 'newest', 'cred', 'anyone', 'serious', 'mining', 'cryptocurrency', 'bitcoin', 'well', 'past', 'point', 'standard', 'desktop', 'computer', 'much', 'use', 'array', 'highend', 'gpus', 'still', 'viable', 'cu', 'paypal', 'launched', 'generosity', 'network', 'platform', 'allows', 'user', 'create', 'customized', 'personal', 'fundraising', 'campaign', 'yes', 'like', 'gofundmeyou', 'raise', 'maximum', 'woman', 'walk', 'past', 'microsoft', 'store', 'th', 'avenue', 'john', 'nacionsopa', 'imageslightrocket', 'via', 'getty', 'imagesullia', 'former', 'microsoft', 'employee', 'sentenced', 'nine', 'year', 'prison', 'monday', 'stealing', 'november', 'min', 'readthis', 'article', 'translated', 'spanish', 'edition', 'using', 'ai', 'technology', 'errors', 'may', 'exist', 'due', 'processfor', 'first', 'time', 'almost', 'three', 'year', 'price', 'file', 'photo', 'sign', 'china', 'construction', 'bank', 'seen', 'booth', 'china', 'international', 'fair', 'trade', 'services', 'ciftis', 'beijing', 'china', 'september', 'reuterstingshu']\n",
      "['former', 'microsoft', 'software', 'engineer', 'ukraine', 'sentenced', 'nine', 'year', 'prison', 'stealing', 'million', 'store', 'credit', 'microsofts', 'online', 'store', 'visahas', 'partnered', 'cryptocurrency', 'startup', 'blockfi', 'offer', 'first', 'reward', 'credit', 'card', 'pay', 'bitcoin', 'rather', 'cash', 'worth', 'applying', 'unless', 'youre', 'extremely', 'bullish', 'paypal', 'bringing', 'newlyannounced', 'support', 'cryptocurrency', 'us', 'account', 'first', 'announced', 'plan', 'open', 'cryptocurrency', 'trading', 'usbased', 'user', 'october', 'november', 'absolutely', 'massive', 'twomonth', 'rally', 'bitcoin', 'passed', 'first', 'time', 'next', 'day', 'soared', 'even', 'higher', 'reaching', 'price', 'roug', 'unlike', 'conventional', 'cryptocurrencies', 'central', 'bank', 'control', 'digital', 'yuan', 'case', 'peoples', 'bank', 'china', 'move', 'give', 'country', 'power', 'theory', 'stability', 'freq', 'youve', 'watching', 'crypto', 'market', 'past', 'week', 'youll', 'noticed', 'something', 'special', 'bitcoin', 'everyones', 'favorite', 'decentralized', 'digital', 'currency', 'based', 'hype', 'lie', 'general', 'mal', 'decentralized', 'exchange', 'protocol', 'allow', 'crypto', 'trader', 'investor', 'trade', 'across', 'different', 'blockhains', 'development', 'significant', 'new', 'development', 'come', 'la', 'joke', 'reality', 'speaking', 'course', 'tesla', 'tequila', 'previously', 'featured', 'april', 'fools', 'tweet', 'elon', 'musk', 'presec', 'settlement', 'era', 'teslaquila', 'actual', 'us', 'market', 'ended', 'november', 'large', 'gain', 'even', 'small', 'decline', 'today', 'sampp', 'jumped', 'percent', 'november', 'best', 'monthly', 'showing', 'since', 'april', 'fourthbest', 'month', 'maisie', 'williams', 'also', 'known', 'arya', 'stark', 'daughter', 'lady', 'catelyn', 'lord', 'eddard', 'acolyte', 'faceless', 'men', 'know', 'one', 'considering', 'buying', 'bitcoinson', 'monday', 'asked', 'twitt', 'billion', 'transaction', 'flowed', 'dormant', 'bitcoin', 'wallet', 'allegedly', 'belonging', 'silk', 'road', 'founder', 'ross', 'ulbricht', 'made', 'wave', 'crypto', 'world', 'week', 'causing', 'suspect', 'found', 'poster', 'participatinga', 'former', 'microsoft', 'software', 'engineer', 'ukraine', 'sentenced', 'nine', 'year', 'prison', 'stealing', 'million', 'store', 'credit', 'microsofts', 'online', 'poster', 'participatingbitcoin', 'rose', 'tuesday', 'evening', 'reaching', 'highest', 'value', 'since', 'december', 'indeed', 'prior', 'week', 'bitcoin', 'worth', 'file', 'photo', 'representations', 'virtual', 'currency', 'bitcoin', 'seen', 'picture', 'illustration', 'taken', 'taken', 'march', 'reutersdado', 'ruvicfile', 'photofuture', 'moneytom', 'wilsongertrude', 'chavez', 'justin', 'harperbusiness', 'reporter', 'bbc', 'newsimage', 'copyrightgetty', 'imagesbitcoin', 'world', 'bestknown', 'cryptocurrency', 'jumped', 'hit', 'threeyear', 'highthe', 'digital', 'cur', 'posted', 'bitcoin', 'grabbed', 'headline', 'week', 'ascent', 'alltime', 'high', 'yet', 'trend', 'playing', 'could', 'change', 'face', 'cryptocurrency', 'market', 'massive', 'flow', 'coin', 'reuters', 'stafffile', 'photo', 'representation', 'virtual', 'currency', 'bitcoin', 'seen', 'illustration', 'taken', 'november', 'reutersdado', 'ruvicillustrationtokyo', 'reuters', 'bitcoin', 'dropped', 'reuters', 'stafffile', 'photo', 'representations', 'virtual', 'currency', 'bitcoin', 'placed', 'us', 'dollar', 'banknote', 'illustration', 'taken', 'may', 'reutersdado', 'ruvicillustrationlondon', 'reuters', 'london', 'reuters', 'digital', 'currency', 'ethereum', 'xrp', 'soared', 'monday', 'gaining', 'momentum', 'bitcoin', 'powered', 'towards', 'alltime', 'highfile', 'photo', 'representation', 'ethereum', 'virtual', 'currency', 'file', 'photo', 'representation', 'ethereum', 'virtual', 'currency', 'standing', 'pc', 'motherboard', 'seen', 'illustration', 'picture', 'february', 'reutersdado', 'ruvicillustrationlondon', 'reuters', 'reuters', 'staffa', 'representation', 'virtual', 'currency', 'bitcoin', 'seen', 'illustration', 'taken', 'november', 'reutersdado', 'ruvicillustrationtokyo', 'reuters', 'bitcoin', 'dropped', 'reuters', 'stafffile', 'photo', 'representations', 'virtual', 'currency', 'bitcoin', 'seen', 'picture', 'illustration', 'taken', 'taken', 'march', 'reutersdado', 'ruviclondonnew', 'york', 'reuters', 'bitcoin', 'jum', 'london', 'reuters', 'inflation', 'hedge', 'currency', 'another', 'niche', 'asset', 'take', 'punt', 'bitcoin', 'headline', 'rekindling', 'debate', 'true', 'role', 'driver', 'behind', 'london', 'reuters', 'inflation', 'hedge', 'currency', 'another', 'niche', 'asset', 'take', 'punt', 'bitcoin', 'headline', 'rekindling', 'debate', 'true', 'role', 'driver', 'behind', 'november', 'min', 'readopinions', 'expressed', 'entrepreneur', 'contributor', 'ownsquare', 'inc', 'payment', 'platform', 'headed', 'famous', 'twitter', 'ceo', 'jack', 'dorseyhas', 'announced', 'october', 'reuters', 'staffa', 'representation', 'virtual', 'currency', 'bitcoin', 'seen', 'illustration', 'taken', 'november', 'reutersdado', 'ruvicillustrationnew', 'york', 'reuters', 'bitcoin', 'btcbtsp', 'rose', 'n', 'reuters', 'staffa', 'representation', 'virtual', 'currency', 'bitcoin', 'seen', 'illustration', 'taken', 'november', 'reutersdado', 'ruvicillustrationnew', 'york', 'reuters', 'bitcoin', 'btcbtsp', 'rose', 'n', 'london', 'reuters', 'inflation', 'hedge', 'currency', 'another', 'niche', 'asset', 'take', 'punt', 'bitcoin', 'headline', 'rekindling', 'debate', 'true', 'role', 'driver', 'behind', 'file', 'photo', 'representation', 'virtual', 'currency', 'bitcoin', 'seen', 'front', 'stock', 'graph', 'illustration', 'taken', 'november', 'reutersdado', 'ruvicreuters', 'bitcoin', 'still', 'volatile', 'irans', 'new', 'crypto', 'law', 'requires', 'miners', 'sell', 'bitcoin', 'directly', 'central', 'bank', 'fund', 'importsiran', 'reportedly', 'revised', 'country', 'cryptocurrency', 'regulation', 'require', 'licensed', 'bitcoin', 'miner', 'representation', 'virtual', 'currency', 'bitcoin', 'seen', 'illustration', 'taken', 'november', 'reutersdado', 'ruvicillustrationlondon', 'reuters', 'bitcoin', 'hit', 'tuesday', 'first', 'tim', 'saikat', 'chatterjeea', 'representation', 'virtual', 'currency', 'bitcoin', 'seen', 'illustration', 'taken', 'november', 'reutersdado', 'ruvicillustrationlondon', 'reuters', 'bitcoin', 'hit', 'tue', 'looks', 'like', 'cat', 'bagim', 'excited', 'joining', 'executive', 'team', 'twitteri', 'truly', 'believe', 'mission', 'equitably', 'serving', 'public', 'conversationi', 'best', 'new', 'york', 'reuters', 'bitcoin', 'investor', 'include', 'top', 'hedge', 'fund', 'money', 'manager', 'betting', 'virtual', 'currency', 'could', 'quintuple', 'high', 'yearfile', 'photo', 'b', 'reuters', 'stafffile', 'photo', 'representations', 'virtual', 'currency', 'bitcoin', 'placed', 'us', 'dollar', 'banknote', 'illustration', 'taken', 'may', 'reutersdado', 'ruvicillustrationlondon', 'reuters', 'gertrude', 'chavezdreyfussnew', 'york', 'reuters', 'bitcoin', 'investor', 'include', 'top', 'hedge', 'fund', 'money', 'manager', 'betting', 'virtual', 'currency', 'could', 'quintuple', 'high', 'tom', 'wilson', 'gertrude', 'chavezdreyfusslondonnew', 'york', 'reuters', 'bitcoin', 'tuesday', 'soared', 'highest', 'level', 'since', 'december', 'asset', 'perceived', 'quality', 'hedge', 'inflation', 'london', 'reuters', 'bitcoin', 'passed', 'tuesday', 'touch', 'highest', 'level', 'year', 'investor', 'ascribing', 'gain', 'demand', 'perceived', 'inflationresistant', 'quality', 'expectation', 'londonnew', 'york', 'reuters', 'bitcoin', 'tuesday', 'soared', 'highest', 'level', 'since', 'december', 'asset', 'perceived', 'quality', 'hedge', 'inflation', 'expectation', 'mainstream', 'acceptance', 'l', 'new', 'york', 'reuters', 'bitcoin', 'investor', 'include', 'top', 'hedge', 'fund', 'money', 'manager', 'betting', 'virtual', 'currency', 'could', 'quintuple', 'high', 'yearfile', 'photo', 'b', 'london', 'reuters', 'bitcoin', 'surging', 'cusp', 'alltime', 'high', 'backer', 'hoping', 'fewer', 'frenzied', 'retail', 'investor', 'mean', 'le', 'chance', 'crash', 'time', 'aroundfile', 'photo', 'bitcoin', 'reuters', 'stafffile', 'photo', 'representations', 'virtual', 'currency', 'bitcoin', 'seen', 'picture', 'illustration', 'taken', 'taken', 'march', 'reutersdado', 'ruviclondon', 'reuters', 'bitcoin', 'wednesday', 'shanghaihong', 'kong', 'reuters', 'price', 'bitcoin', 'soar', 'chinese', 'cryptocurrency', 'asset', 'manager', 'looking', 'expand', 'place', 'hong', 'kong', 'singapore', 'skirting', 'intensified', 'crackdown', 'samuel', 'shen', 'alun', 'johnshanghaihong', 'kong', 'reuters', 'price', 'bitcoin', 'soar', 'chinese', 'cryptocurrency', 'asset', 'manager', 'looking', 'expand', 'place', 'hong', 'kong', 'singapore', 'skirtin', 'shanghaihong', 'kong', 'reuters', 'price', 'bitcoin', 'soar', 'chinese', 'cryptocurrency', 'asset', 'manager', 'looking', 'expand', 'place', 'hong', 'kong', 'singapore', 'skirting', 'intensified', 'crackdown', 'repeats', 'fix', 'format', 'change', 'textnew', 'york', 'nov', 'reuters', 'bitcoin', 'investor', 'include', 'top', 'hedge', 'fund', 'money', 'manager', 'betting', 'virtual', 'currency', 'could', 'quintupl', 'reuters', 'stafffile', 'photo', 'representation', 'virtual', 'currency', 'bitcoin', 'seen', 'front', 'stock', 'graph', 'illustration', 'taken', 'november', 'reutersdado', 'ruvicillustrationfile', 'photo', 'reuters', 'stafffile', 'photo', 'representations', 'virtual', 'currency', 'bitcoin', 'seen', 'picture', 'illustration', 'taken', 'taken', 'march', 'reutersdado', 'ruviclondon', 'reuters', 'bitcoin', 'jumped', 'past', 'reuters', 'stafflondon', 'nov', 'reuters', 'bitcoin', 'jumped', 'past', 'monday', 'moving', 'closer', 'alltime', 'record', 'sharp', 'tumble', 'last', 'week', 'checked', 'rallyit', 'last', 'london', 'reuters', 'bitcoin', 'passed', 'tuesday', 'touch', 'highest', 'level', 'year', 'investor', 'ascribing', 'gain', 'demand', 'perceived', 'inflationresistant', 'quality', 'expectation', 'reuters', 'staffreuters', 'cryptocurrency', 'startup', 'blockfi', 'said', 'tuesday', 'would', 'partner', 'visa', 'inc', 'evolve', 'bank', 'credit', 'card', 'firm', 'deserve', 'offer', 'credit', 'card', 'let', 'user', 'earn', 'bitco', 'reuters', 'stafffile', 'photo', 'representation', 'virtual', 'currency', 'bitcoin', 'seen', 'illustration', 'taken', 'november', 'reutersdado', 'ruvicillustrationfile', 'photolondon', 'reuters', 'bitcoin', 'november', 'min', 'readthis', 'article', 'translated', 'spanish', 'edition', 'using', 'ai', 'technology', 'errors', 'may', 'exist', 'due', 'processthis', 'story', 'originally', 'appeared', 'alto', 'nivelby', 'guill', 'londonhong', 'kong', 'reuters', 'bitcoin', 'grabbed', 'headline', 'week', 'dizzying', 'ascent', 'alltime', 'high', 'yet', 'radar', 'trend', 'playing', 'could', 'change', 'face', 'posted', 'bitcoin', 'appears', 'back', 'vogue', 'hovering', 'near', 'threeyear', 'high', 'hilary', 'kramer', 'kramer', 'capital', 'research', 'warns', 'investor', 'chasing', 'cryptocurrency', 'proven', 'londonhong', 'kong', 'reuters', 'bitcoin', 'grabbed', 'headline', 'week', 'dizzying', 'ascent', 'alltime', 'high', 'yet', 'radar', 'trend', 'playing', 'could', 'change', 'face', 'file', 'photo', 'representations', 'virtual', 'currency', 'bitcoin', 'seen', 'picture', 'illustration', 'taken', 'taken', 'march', 'reutersdado', 'ruviclondon', 'reuters', 'bitcoin', 'broke', 'london', 'reuters', 'arianna', 'odell', 'yearold', 'entrepreneur', 'songwriter', 'based', 'new', 'york', 'city', 'tumultuous', 'fouryear', 'journey', 'cryptocurrency', 'selling', 'investment', 'februarya', 'london', 'reuters', 'arianna', 'odell', 'yearold', 'entrepreneur', 'songwriter', 'based', 'new', 'york', 'city', 'tumultuous', 'fouryear', 'journey', 'cryptocurrency', 'selling', 'investment', 'februarye', 'london', 'reuters', 'arianna', 'odell', 'yearold', 'entrepreneur', 'songwriter', 'based', 'new', 'york', 'city', 'tumultuous', 'fouryear', 'journey', 'cryptocurrency', 'selling', 'investment', 'februarye', 'new', 'york', 'reuters', 'world', 'largest', 'digital', 'currency', 'asset', 'manager', 'grayscale', 'said', 'wednesday', 'asset', 'management', 'soared', 'record', 'billion', 'bolstered', 'continued', 'rise', 'inv', 'technology', 'media', 'telecommunicationsgertrude', 'chavezdreyfussnew', 'york', 'nov', 'reuters', 'world', 'largest', 'digital', 'currency', 'asset', 'manager', 'grayscale', 'said', 'wednesday', 'asset', 'managem', 'london', 'nov', 'reuters', 'cryptocurrency', 'exchange', 'coinbase', 'said', 'thursday', 'retail', 'professionalfocused', 'platform', 'hit', 'tech', 'problem', 'user', 'reporting', 'difficulty', 'trading', 'bitcoi', 'file', 'photo', 'illumination', 'stock', 'graph', 'seen', 'representation', 'virtual', 'currency', 'bitcoin', 'picture', 'illustration', 'taken', 'taken', 'march', 'reutersdado', 'ruvicillustrationfile', 'ph', 'posted', 'bitcoin', 'trading', 'record', 'high', 'socalled', 'alternative', 'investment', 'consider', 'well', 'yieldstreet', 'cofounder', 'michael', 'weisz', 'told', 'reuters', 'business', 'corresponde', 'london', 'reuters', 'sampp', 'dow', 'jones', 'indices', 'division', 'financial', 'data', 'provider', 'sampp', 'global', 'inc', 'said', 'thursday', 'launch', 'cryptocurrency', 'index', 'making', 'latest', 'major', 'price', 'bitcoin', 'reached', 'today', 'beating', 'record', 'since', 'dropped', 'price', 'surge', 'attributed', 'influx', 'asian', 'speculator', 'followe', 'reutersrick', 'wilkingbillionaire', 'investor', 'mike', 'novogratz', 'said', 'half', 'bitcoin', 'election', 'bet', 'saturday', 'gave', 'selfhosted', 'lottery', 'twitter', 'userhalf', 'bitcoin', 'curr', 'bloomberg', 'cyclical', 'company', 'powering', 'global', 'equity', 'higher', 'second', 'day', 'investor', 'cheered', 'start', 'us', 'presidentelect', 'joe', 'bidens', 'formal', 'transition', 'prospect', 'ec', 'satoshi', 'didnt', 'leave', 'much', 'behind', 'decided', 'leave', 'scene', 'good', 'back', 'april', 'leave', 'enough', 'u', 'conduct', 'thorough', 'research', 'whereabouts', 'worki', 'chain', 'block', 'erupters', 'used', 'bitcoin', 'mining', 'pictured', 'plug', 'play', 'tech', 'center', 'sunnyvale', 'california', 'october', 'reutersstephen', 'lamullibitcoin', 'slumped', 'throug', 'set', 'stare', 'nothing', 'long', 'enough', 'people', 'might', 'thinkim', 'engineer', 'working', 'something', 'sr', 'mcelroy', 'try', 'reaching', 'live', 'customer', 'support', 'person', 'paypal', 'virtually', 'impossible', 'get', 'hold', 'thru', 'automated', 'phone', 'systemimagine', 'glitch', 'cypto', 'transfer', 'ne', 'pfizer', 'covid', 'vaccine', 'trial', 'show', 'effective', 'dollar', 'index', 'edge', 'oneweek', 'low', 'bitcoin', 'surge', 'last', 'day', 'euro', 'tick', 'investor', 'ignore', 'mnuchin', 'defends', 'decision', 'end', 'feds', 'pandemic', 'lending', 'dollar', 'poised', 'end', 'week', 'loss', 'euro', 'yen', 'little', 'changed', 'v', 'dollar', 'bitcoin', 'hit', 'fresh', 'threeyear', 'high', 'graphic', 'world', 'fx', 'ra', 'posted', 'bitcoin', 'soared', 'record', 'high', 'dollar', 'monday', 'rally', 'steamed', 'ahead', 'boosted', 'increased', 'demand', 'institutional', 'retail', 'investor', 'saw', 'virtual', 'c', 'reuters', 'staffreuters', 'sticky', 'talksfile', 'photo', 'small', 'toy', 'figure', 'seen', 'front', 'brexit', 'logo', 'illustration', 'picture', 'march', 'reutersdado', 'ruvicillustrationbritai', 'currency', 'asset', 'perhaps', 'commodity', 'effort', 'drive', 'price', 'infamous', 'crypto', 'evangelicals', 'coming', 'attributing', 'increasing', 'number', 'use', 'case', 'new', 'zealand', 'dollar', 'set', 'reach', 'twoyear', 'high', 'commoditylinked', 'currency', 'gain', 'v', 'us', 'dollar', 'canadian', 'dollar', 'shy', 'twoyear', 'high', 'graphic', 'world', 'fx', 'rate', 'tmsnrtrsr', 'fixes', 'typo', 'euro', 'price', 'th', 'paragraph', 'euro', 'nz', 'dollar', 'hit', 'highest', 'year', 'sterling', 'rise', 'threemonth', 'high', 'us', 'bipartisan', 'stimulus', 'proposal', 'sink', 'greenback', 'nearly', 'three', 'year', 'since', 'bitcoin', 'price', 'reached', 'benchmark', 'k', 'doesnt', 'seem', 'stopping', 'price', 'btc', 'overflowing', 'new', 'bitcoin', 'address', 'visa', 'paypal', 'diem', 'formerly', 'known', 'libra', 'looking', 'capitalize', 'rapidly', 'growing', 'industryvisa', 'eyeing', 'cryptocurrency', 'spaceinsider', 'intelligenceullivisas', 'newest', 'cred', 'anyone', 'serious', 'mining', 'cryptocurrency', 'bitcoin', 'well', 'past', 'point', 'standard', 'desktop', 'computer', 'much', 'use', 'array', 'highend', 'gpus', 'still', 'viable', 'cu', 'paypal', 'launched', 'generosity', 'network', 'platform', 'allows', 'user', 'create', 'customized', 'personal', 'fundraising', 'campaign', 'yes', 'like', 'gofundmeyou', 'raise', 'maximum', 'woman', 'walk', 'past', 'microsoft', 'store', 'th', 'avenue', 'john', 'nacionsopa', 'imageslightrocket', 'via', 'getty', 'imagesullia', 'former', 'microsoft', 'employee', 'sentenced', 'nine', 'year', 'prison', 'monday', 'stealing', 'november', 'min', 'readthis', 'article', 'translated', 'spanish', 'edition', 'using', 'ai', 'technology', 'errors', 'may', 'exist', 'due', 'processfor', 'first', 'time', 'almost', 'three', 'year', 'price', 'file', 'photo', 'sign', 'china', 'construction', 'bank', 'seen', 'booth', 'china', 'international', 'fair', 'trade', 'services', 'ciftis', 'beijing', 'china', 'september', 'reuterstingshu', 'wangfutur']\n"
     ]
    }
   ],
   "source": [
    "# Create one list of tokens from list of tokens in each row\n",
    "btc_processed = []\n",
    "for row in btc_df['btc_token']:\n",
    "    for item in row:\n",
    "        btc_processed.append(item)\n",
    "        print(btc_processed)"
   ]
  },
  {
   "cell_type": "code",
   "execution_count": 745,
   "metadata": {
    "tags": [
     "outputPrepend"
    ]
   },
   "outputs": [
    {
     "output_type": "stream",
     "name": "stdout",
     "text": [
      "'ftx', 'made', 'secondlargest', 'donation', 'make', 'asset', 'liquid', 'liquidity', 'basically', 'refers', 'item', 'marketability', 'faster', 'convert', 'something', 'cash', 'value', 'retains', 'sell', 'liquid', 'hybrid', 'blockchain', 'platform', 'kadena', 'teaming', 'stablecoin', 'maker', 'terra', 'aim', 'expanding', 'decentralized', 'finance', 'defi', 'platformannounced', 'tuesday', 'kadena', 'said', 'add', 'ethereumethereum', 'surged', 'friday', 'following', 'rally', 'thursday', 'ethereum', 'ended', 'day', 'particularly', 'bullish', 'day', 'ethereum', 'rallied', 'early', 'mornin', 'coindesk', 'snagged', 'frontrow', 'seat', 'seminal', 'event', 'crypto', 'industry', 'ticket', 'price', 'ethas', 'medium', 'outlet', 'covering', 'nascent', 'technology', 'believe', 'sometimes', 'chronicle', 'ethereum', 'cofounder', 'vitalik', 'buterin', 'dressed', 'like', 'medieval', 'harlequin', 'leaning', 'velvet', 'chair', 'stare', 'past', 'viewer', 'distance', 'rocketed', 'sky', 'ether']\n",
      "['paypal', 'bringing', 'newlyannounced', 'support', 'cryptocurrency', 'us', 'account', 'first', 'announced', 'plan', 'open', 'cryptocurrency', 'trading', 'usbased', 'user', 'october', 'file', 'photo', 'representation', 'ethereum', 'virtual', 'currency', 'standing', 'pc', 'motherboard', 'seen', 'illustration', 'picture', 'february', 'reutersdado', 'ruvicillustrationlondon', 'reuters', 'london', 'reuters', 'digital', 'currency', 'ethereum', 'xrp', 'soared', 'monday', 'gaining', 'momentum', 'bitcoin', 'powered', 'towards', 'alltime', 'highfile', 'photo', 'representation', 'ethereum', 'virtual', 'currency', 'paypal', 'launched', 'generosity', 'network', 'platform', 'allows', 'user', 'create', 'customized', 'personal', 'fundraising', 'campaign', 'yes', 'like', 'gofundmeyou', 'raise', 'maximum', 'reuters', 'stafffile', 'photo', 'representation', 'virtual', 'currency', 'bitcoin', 'seen', 'front', 'stock', 'graph', 'illustration', 'taken', 'november', 'reutersdado', 'ruvicillustrationfile', 'photo', 'new', 'york', 'times', 'probably', 'publish', 'story', 'cryptocurrency', 'exchange', 'coinbase', 'reading', 'news', 'outlet', 'website', 'coinbase', 'taken', 'highly', 'un', 'decentralized', 'exchange', 'protocol', 'allow', 'crypto', 'trader', 'investor', 'trade', 'across', 'different', 'blockhains', 'development', 'significant', 'new', 'development', 'come', 'la', 'attack', 'growing', 'number', 'since', 'early', 'february', 'year', 'one', 'biggest', 'flash', 'loan', 'attack', 'took', 'place', 'last', 'month', 'october', 'hacker', 'stole', 'million', 'worth', 'cryptoc', 'november', 'min', 'readopinions', 'expressed', 'entrepreneur', 'contributor', 'ownthe', 'cryptocurrency', 'world', 'prone', 'hype', 'whether', 'grand', 'scale', 'ico', 'boom', 'bitcoin', 'price', 'reuters', 'staffa', 'representation', 'virtual', 'currency', 'bitcoin', 'seen', 'illustration', 'taken', 'november', 'reutersdado', 'ruvicillustrationnew', 'york', 'reuters', 'bitcoin', 'btcbtsp', 'rose', 'n', 'reuters', 'staffa', 'representation', 'virtual', 'currency', 'bitcoin', 'seen', 'illustration', 'taken', 'november', 'reutersdado', 'ruvicillustrationnew', 'york', 'reuters', 'bitcoin', 'btcbtsp', 'rose', 'n', 'reuters', 'stafffile', 'photo', 'representations', 'virtual', 'currency', 'bitcoin', 'placed', 'us', 'dollar', 'banknote', 'illustration', 'taken', 'may', 'reutersdado', 'ruvicillustrationlondon', 'reuters', 'reuters', 'stafffile', 'photo', 'representation', 'virtual', 'currency', 'bitcoin', 'seen', 'illustration', 'taken', 'november', 'reutersdado', 'ruvicillustrationfile', 'photolondon', 'reuters', 'bitcoin', 'hala', 'systems', 'using', 'hedera', 'hashgraph', 'secure', 'alternative', 'blockchain', 'technology', 'anchor', 'system', 'warns', 'syrians', 'impending', 'conflict', 'natural', 'disastershala', 'systems', 'social', 'enter', 'try', 'reaching', 'live', 'customer', 'support', 'person', 'paypal', 'virtually', 'impossible', 'get', 'hold', 'thru', 'automated', 'phone', 'systemimagine', 'glitch', 'cypto', 'transfer', 'ne', 'paypal', 'let', 'buy', 'sell', 'cryptocurrencies', 'like', 'bitcoin', 'ethereum', 'lot', 'people', 'excited', 'speculated', 'price', 'bitcoin', 'gone', 'upbut', 'payp', 'chain', 'block', 'erupters', 'used', 'bitcoin', 'mining', 'pictured', 'plug', 'play', 'tech', 'center', 'sunnyvale', 'california', 'october', 'reutersstephen', 'lamullibitcoin', 'slumped', 'throug', 'comment', 'response', 'cost', 'tiny', 'eth', 'fee', 'ethereum', 'cryptocurrency', 'payable', 'metamaskio', 'wallet', 'wallet', 'free', 'take', 'moment', 'add', 'browse', 'tom', 'wilson', 'gertrude', 'chavezdreyfusslondonnew', 'york', 'reuters', 'bitcoin', 'tuesday', 'soared', 'highest', 'level', 'since', 'december', 'asset', 'perceived', 'quality', 'hedge', 'inflation', 'new', 'york', 'reuters', 'world', 'largest', 'digital', 'currency', 'asset', 'manager', 'grayscale', 'said', 'wednesday', 'asset', 'management', 'soared', 'record', 'billion', 'bolstered', 'continued', 'rise', 'inv', 'london', 'reuters', 'bitcoin', 'passed', 'tuesday', 'touch', 'highest', 'level', 'year', 'investor', 'ascribing', 'gain', 'demand', 'perceived', 'inflationresistant', 'quality', 'expectation', 'london', 'reuters', 'bitcoin', 'passed', 'tuesday', 'touch', 'highest', 'level', 'year', 'investor', 'ascribing', 'gain', 'demand', 'perceived', 'inflationresistant', 'quality', 'expectation', 'file', 'photo', 'representations', 'virtual', 'currency', 'bitcoin', 'seen', 'picture', 'illustration', 'taken', 'taken', 'march', 'reutersdado', 'ruvicfile', 'photofuture', 'moneytom', 'wilsongertrude', 'chavez', 'londonnew', 'york', 'reuters', 'bitcoin', 'tuesday', 'soared', 'highest', 'level', 'since', 'december', 'asset', 'perceived', 'quality', 'hedge', 'inflation', 'expectation', 'mainstream', 'acceptance', 'l', 'technology', 'media', 'telecommunicationsgertrude', 'chavezdreyfussnew', 'york', 'nov', 'reuters', 'world', 'largest', 'digital', 'currency', 'asset', 'manager', 'grayscale', 'said', 'wednesday', 'asset', 'managem', 'gala', 'games', 'blockchain', 'game', 'startup', 'created', 'zynga', 'cofounder', 'eric', 'schiermeyer', 'cut', 'littlenoticed', 'interesting', 'promotional', 'deal', 'week', 'brave', 'maker', 'privacyfocused', 'b', 'november', 'min', 'readthis', 'article', 'translated', 'spanish', 'edition', 'using', 'ai', 'technology', 'errors', 'may', 'exist', 'due', 'processullithe', 'event', 'presented', 'november', 'ethereum', 'soared', 'recent', 'week', 'adding', 'price', 'last', 'month', 'ethereum', 'price', 'passed', 'per', 'ether', 'token', 'last', 'week', 'first', 'time', 'since', 'june', 'riding', 'bitcoins', 'coat', 'ta', 'could', 'say', 'lil', 'yachty', 'quite', 'bit', 'endeavor', 'year', 'outside', 'rap', 'career', 'besides', 'creating', 'jingle', 'reeses', 'puffs', 'bringing', 'show', 'public', 'figures', 'hbo', 'max', 'wild', 'year', 'wall', 'street', 'investment', 'community', 'unprecedented', 'coronavirus', 'disease', 'covid', 'pandemic', 'wiped', 'away', 'third', 'sampp', 'value', 'month', 'november', 'min', 'readopinions', 'expressed', 'entrepreneur', 'contributor', 'owntraditionally', 'financial', 'education', 'wasa', 'privilege', 'reserved', 'almost', 'exclusively', 'select', 'lil', 'yachtyis', 'expanding', 'career', 'want', 'part', 'rapper', 'newly', 'released', 'cryptocurrency', 'yachtycoin', 'making', 'possible', 'fan', 'become', 'shareholder', 'careerthe', 'gettyyou', 'deep', 'dive', 'investment', 'going', 'well', 'handing', 'investment', 'decision', 'others', 'skimming', 'surface', 'investing', 'dynamic', 'committing', 'caput', 'tutorial', 'well', 'write', 'simple', 'smart', 'contract', 'deploy', 'personal', 'ethereum', 'blockchain', 'call', 'contract', 'python', 'scriptwhat', 'need', 'installed', 'proceedu', 'ethereum', 'ripples', 'xrp', 'litecoin', 'chainlink', 'world', 'biggest', 'cryptocurrencies', 'bitcoin', 'theyve', 'suddenly', 'soared', 'week', 'ethereum', 'xrp', 'litecoin', 'chainlink', 'combined', 'bitcoin', 'ethereum', 'ripples', 'xrp', 'litecoin', 'chainlinkfive', 'biggest', 'cryptocurrencies', 'valuehave', 'bounced', 'back', 'selloff', 'weekthe', 'bitcoin', 'price', 'climbed', 'per', 'bitcoin', 'visa', 'inc', 'headquarters', 'foster', 'city', 'california', 'us', 'nov', 'two', 'year', 'work', 'visa', 'opening', 'network', 'usdc', 'digital', 'dollar', 'created', 'circle', 'internet', 'financial', 'ripples', 'xrp', 'currently', 'world', 'thirdbiggest', 'cryptocurrency', 'market', 'value', 'behind', 'bitcoin', 'ethereum', 'soared', 'last', 'weekadding', 'around', 'price', 'xrp', 'price', 'risen', 'bitcoin', 'incredible', 'doubling', 'price', 'since', 'beginning', 'yearwith', 'predicting', 'continue', 'climb', 'bitcoin', 'price', 'recently', 'soared', 'latest', 'update', 'paypal', 'enables', 'cryptocurrency', 'bitcoin', 'ethereum', 'litecoin', 'like', 'holding', 'trading', 'paypal', 'tested', 'cryptocurrency', 'feature', 'small', 'set', 'user', 'week', 'betwee', 'caneth', 'pool', 'caneth', 'pool', 'smartest', 'way', 'stake', 'ether', 'decentrsikedbhereum', 'poot', 'skake', 'po', 'bockchain', 'netaork', 'request', 'infa', 'decentralized', 'ethereum', 'latdt', 'wi', 'proof', 'stake', 'pos', 'network', 'previous', 'post', 'demonstrated', 'write', 'simple', 'smart', 'contract', 'solidity', 'deploy', 'ethereum', 'blockchainthis', 'tutorial', 'show', 'update', 'contract', 'save', 'data', 'genesis', 'block', 'ventures', 'gbv', 'announced', 'acquisition', 'omg', 'network', 'help', 'speed', 'transaction', 'lower', 'fee', 'ethereum', 'blockchain', 'handling', 'transaction', 'offchain', 'triggering', 'double', 'earlier', 'today', 'change', 'underlying', 'ethereum', 'code', 'made', 'developer', 'time', 'ago', 'resulted', 'unannounced', 'hard', 'fork', 'effectively', 'splitting', 'ethereum', 'blockchain', 'creating', 'new', 'version', 'ethereum', 'classic', 'want', 'play', 'decentralized', 'finance', 'defi', 'space', 'blockchain', 'contentiously', 'split', 'announced', 'wednesday', 'ethereum', 'classic', 'labs', 'etc', 'blockchains', 'bigges', 'ethereum', 'founder', 'vitalik', 'buterin', 'sent', 'first', 'ether', 'staking', 'next', 'iteration', 'blockchain', 'networkullibuterins', 'vb', 'address', 'sent', 'transaction', 'ether', 'smart', 'contract', 'required', 'triggering', 'first', 'phase', 'ethereum', 'enough', 'fund', 'begin', 'activation', 'ethereums', 'ambitious', 'upgrade', 'yet', 'radically', 'shift', 'ethereums', 'economic', 'ethereum', 'blockchain', 'network', 'look', 'suffering', 'issue', 'wednesday', 'morning', 'knockon', 'effect', 'related', 'service', 'providersulliin', 'service', 'announcement', 'soon', 'utc', 'ethereum', 'analysts', 'bullish', 'bitcoins', 'price', 'option', 'market', 'decidedly', 'bearish', 'remaining', 'week', 'ethereums', 'wrapped', 'bitcoin', 'token', 'cross', 'billion', 'lockedullibitcoin', 'btc', 'tr', 'kirobo', 'tel', 'avivbased', 'startup', 'known', 'developing', 'product', 'revers', 'erroneous', 'bitcoin', 'transaction', 'repurposed', 'invention', 'work', 'ethereumulliannounced', 'thursday', 'retrie', 'bitcoin', 'knocking', 'gate', 'ethereums', 'transaction', 'growth', 'positive', 'indicator', 'future', 'financial', 'use', 'casesullibitcoin', 'btc', 'trading', 'around', 'consensys', 'adding', 'dapp', 'development', 'platform', 'truffle', 'suite', 'back', 'lineup', 'ethereum', 'toolsconsensys', 'chief', 'strategy', 'officer', 'simon', 'morris', 'said', 'tuesday', 'ethereumfocused', 'firm', 'acquired', 'th', 'idex', 'betting', 'three', 'chain', 'better', 'onethe', 'noncustodial', 'cryptocurrency', 'exchange', 'whose', 'operation', 'run', 'ethereum', 'blockchain', 'announced', 'tuesday', 'plan', 'expand', 'binance', 'kraken', 'announced', 'help', 'fund', 'opensource', 'ethereum', 'project', 'first', 'usbased', 'cryptocurrency', 'exchangein', 'blog', 'post', 'thursday', 'kraken', 'said', 'collaborate', 'gitcoin', 'ethereum', 'finally', 'set', 'go', 'live', 'people', 'face', 'crucial', 'decision', 'whether', 'stake', 'come', 'balancing', 'ageold', 'calculus', 'risk', 'reward', 'ethereum', 'hold', 'th', 'cryptocurrency', 'exchange', 'gemini', 'developing', 'wrapped', 'filecoin', 'wfil', 'service', 'enabling', 'decentralized', 'storage', 'platform', 'native', 'token', 'fil', 'used', 'ethereum', 'networkulliin', 'com', 'takeawayulliaudius', 'ethereumbased', 'streaming', 'app', 'looking', 'take', 'spotify', 'apple', 'music', 'offering', 'artist', 'better', 'deallililike', 'many', 'blockchain', 'project', 'audius', 'number', 'billiondollar', 'spot', 'volume', 'day', 'bitcoin', 'market', 'increasing', 'pushing', 'price', 'higher', 'ethereums', 'transaction', 'fee', 'also', 'increasing', 'general', 'cryptocurrency', 'interest', 'fuel', 'deman', 'smart', 'contract', 'trigger', 'first', 'phase', 'ethereums', 'ambitious', 'upgrade', 'yet', 'nearly', 'accrued', 'enough', 'fund', 'activatethe', 'ethereum', 'deposit', 'contract', 'currently', 'hold', 'sharding', 'proposed', 'method', 'splitting', 'infrastructure', 'ethereum', 'smaller', 'piece', 'goal', 'scaling', 'platform', 'support', 'many', 'user', 'currently', 'doesethere', 'ullithe', 'bulk', 'ethereums', 'defi', 'ecosystem', 'went', 'dark', 'earlier', 'today', 'latent', 'bug', 'ethereum', 'code', 'split', 'network', 'transaction', 'history', 'twolilithe', 'split', 'resulted', 'code', 'chan', 'ethereum', 'hit', 'major', 'milestone', 'beacon', 'chain', 'went', 'live', 'libra', 'seizes', 'day', 'rebrands', 'diem', 'google', 'search', 'bitcoin', 'doubled', 'since', 'last', 'monthcoinbase', 'ltgt', 'micro', 'us', 'securities', 'exchange', 'commission', 'sec', 'granted', 'another', 'crypto', 'firm', 'permission', 'sell', 'native', 'cryptocurrencythe', 'sec', 'published', 'noaction', 'letter', 'thursday', 'dated', 'nov', 'eth', 'locked', 'loaded', 'ethereum', 'deposit', 'contract', 'kickstarting', 'network', 'major', 'multiyear', 'development', 'phase', 'jpmorgan', 'analyst', 'say', 'institution', 'piling', 'biggest', 'update', 'ethereums', 'history', 'begin', 'first', 'phase', 'dec', 'per', 'tweet', 'eth', 'researcher', 'justin', 'drake', 'ethereum', 'beacon', 'chains', 'launch', 'set', 'dec', 'utc', 'ethereum', 'classic', 'etc', 'undergone', 'hard', 'fork', 'usher', 'new', 'upgrade', 'aimed', 'increase', 'miner', 'participation', 'increase', 'securityaccording', 'etc', 'explorer', 'blockscout', 'around', 'human', 'protocol', 'backbone', 'antibot', 'system', 'hcaptcha', 'announced', 'thursday', 'expanding', 'beyond', 'ethereum', 'future', 'polkadot', 'parachain', 'moonbeamthe', 'move', 'also', 'prepares', 'addition', 'bitcoin', 'higher', 'pushing', 'toward', 'upper', 'edge', 'recent', 'range', 'positive', 'sentiment', 'towards', 'bitcoin', 'gone', 'away', 'said', 'denis', 'vinokourov', 'head', 'bitcoin', 'gained', 'wednesday', 'ethereum', 'staking', 'ramping', 'upullibitcoin', 'btc', 'trading', 'around', 'utc', 'pm', 'et', 'gaining', 'previous', 'hourslilibi', 'alive', 'welcome', 'everyone', 'first', 'issue', 'valid', 'pointstoday', 'commemorating', 'historic', 'launch', 'ethereum', 'mark', 'beginning', 'ethereums', 'live', 'transformation', 'p', 'going', 'live', 'last', 'week', 'deposit', 'contract', 'ethereums', 'upgrade', 'hold', 'k', 'eth', 'threshold', 'needed', 'activate', 'watershed', 'updatethis', 'deposit', 'contract', 'cornersto', 'blockchain', 'technology', 'creates', 'new', 'asset', 'class', 'investor', 'protect', 'value', 'inflation', 'article', 'tokenized', 'real', 'asset', 'presented', 'scarce', 'asset', 'rea', 'look', 'rapid', 'growth', 'year', 'whitehot', 'arena', 'decentralized', 'finance', 'defi', 'clear', 'ethereum', 'blockchain', 'dominating', 'many', 'conversation', 'right', 'th', 'bitcoin', 'ethereum', 'ripples', 'xrp', 'bitcoin', 'cash', 'litecoin', 'chainlinkthe', 'biggest', 'cryptocurrencies', 'market', 'valuehave', 'fallen', 'sharply', 'rocketing', 'higher', 'november', 'bitcoin', 'price', 'lost', 'bitcoin', 'sent', 'cryptocurrency', 'market', 'soaring', 'recent', 'week', 'total', 'value', 'world', 'combined', 'cryptocurrencies', 'adding', 'eyewatering', 'billion', 'since', 'beginning', 'november', 'member', 'ethereum', 'blockchain', 'community', 'endured', 'criticism', 'long', 'taking', 'move', 'new', 'mechanism', 'called', 'staking', 'hard', 'also', 'note', 'definiti', 'day', 'aheadlitecoin', 'would', 'need', 'move', 'pivot', 'support', 'run', 'first', 'major', 'resistance', 'level', 'support', 'broader', 'market', 'would', 'needed', 'however', 'ethereumethereum', 'rallied', 'friday', 'reversing', 'loss', 'thursday', 'ethereum', 'ended', 'day', 'another', 'mixed', 'start', 'day', 'ethereum', 'fell', 'early', 'morning', 'intra', 'live', 'democracy', 'thanksgiving', 'approach', 'find', 'longing', 'type', 'freedom', 'seeing', 'china', 'people', 'china', 'able', 'move', 'around', 'freely', 'right', 'many', 'americans', 'may', 'overwhelming', 'evidence', 'show', 'blockchaincryptocurrency', 'space', 'mostly', 'fraudulentsource', 'httpswwwhelpnetsecuritycomlookinsidecryptocurrencyfraudnote', 'amy', 'castor', 'president', 'donald', 'trump', 'bizarre', 'habit', 'comparing', 'abraham', 'lincoln', 'ronald', 'reagan', 'probably', 'much', 'better', 'example', 'understanding', 'trumps', 'rise', 'power', 'ethereum', 'developer', 'weighing', 'change', 'publicly', 'disclosing', 'critical', 'bug', 'following', 'nov', 'accidental', 'hard', 'forkaccording', 'technical', 'writeup', 'published', 'geth', 'largest', 'ethereum', 'new', 'crypto', 'institutional', 'investor', 'recently', 'buying', 'bitcoins', 'digital', 'gold', 'narrative', 'might', 'looking', 'around', 'next', 'big', 'thingwith', 'longanticipated', 'arrival', 'bitcoin', 'first', 'stop', 'investor', 'year', 'growing', 'number', 'people', 'paying', 'attention', 'ethereum', 'right', 'michael', 'sonnenshein', 'managing', 'director', 'g', 'booming', 'world', 'decentralized', 'finance', 'defi', 'reached', 'new', 'height', 'recent', 'week', 'total', 'value', 'asset', 'locked', 'defi', 'ecosystem', 'surpasses', 'billion', 'arguably', 'fastestgrowing', 'grayscale', 'investments', 'announced', 'wednesday', 'share', 'grayscale', 'ethereum', 'trust', 'ethe', 'split', 'move', 'increase', 'liquidity', 'perceived', 'affordability', 'sharesul', 'coalition', 'ethereum', 'ogs', 'tackling', 'socalled', 'lockup', 'issue', 'whereby', 'first', 'generation', 'participant', 'staking', 'crypto', 'transitioning', 'eth', 'blockchain', 'must', 'commit', 'coin', 'new', 'crypto', 'institutional', 'investor', 'recently', 'buying', 'bitcoins', 'digital', 'gold', 'narrative', 'might', 'looking', 'around', 'next', 'big', 'thingwith', 'longanticipated', 'arriva', 'serenity', 'knockingthe', 'first', 'stage', 'nextgeneration', 'proofofstake', 'pos', 'ethereum', 'live', 'utc', 'tuesday', 'according', 'beaconchaina', 'generalized', 'blockchain', 'decentral', 'blockchain', 'council', 'blocknews', 'tm', 'ethereum', 'ready', 'launch', 'eth', 'us', 'fed', 'economists', 'hoping', 'identify', 'intrinsic', 'features', 'cbdc', 'ceo', 'ftx', 'made', 'secondlargest', 'donation', 'make', 'asset', 'liquid', 'liquidity', 'basically', 'refers', 'item', 'marketability', 'faster', 'convert', 'something', 'cash', 'value', 'retains', 'sell', 'liquid', 'hybrid', 'blockchain', 'platform', 'kadena', 'teaming', 'stablecoin', 'maker', 'terra', 'aim', 'expanding', 'decentralized', 'finance', 'defi', 'platformannounced', 'tuesday', 'kadena', 'said', 'add', 'ethereumethereum', 'surged', 'friday', 'following', 'rally', 'thursday', 'ethereum', 'ended', 'day', 'particularly', 'bullish', 'day', 'ethereum', 'rallied', 'early', 'mornin', 'coindesk', 'snagged', 'frontrow', 'seat', 'seminal', 'event', 'crypto', 'industry', 'ticket', 'price', 'ethas', 'medium', 'outlet', 'covering', 'nascent', 'technology', 'believe', 'sometimes', 'chronicle', 'ethereum', 'cofounder', 'vitalik', 'buterin', 'dressed', 'like', 'medieval', 'harlequin', 'leaning', 'velvet', 'chair', 'stare', 'past', 'viewer', 'distance', 'rocketed', 'sky', 'ether', 'pr']\n"
     ]
    }
   ],
   "source": [
    "eth_processed = []\n",
    "for row in eth_df['eth_token']:\n",
    "    for item in row:\n",
    "        eth_processed.append(item)\n",
    "        print(eth_processed)"
   ]
  },
  {
   "cell_type": "code",
   "execution_count": 739,
   "metadata": {
    "tags": [
     "outputPrepend"
    ]
   },
   "outputs": [
    {
     "output_type": "stream",
     "name": "stdout",
     "text": [
      "'niche'): 3, ('niche', 'asset'): 3, ('asset', 'take'): 3, ('take', 'punt'): 3, ('punt', 'bitcoin'): 3, ('bitcoin', 'headline'): 3, ('headline', 'rekindling'): 3, ('rekindling', 'debate'): 3, ('debate', 'true'): 3, ('true', 'role'): 3, ('role', 'driver'): 3, ('driver', 'behind'): 3, ('behind', 'london'): 1, ('behind', 'november'): 1, ('november', 'min'): 3, ('min', 'readopinions'): 1, ('readopinions', 'expressed'): 1, ('expressed', 'entrepreneur'): 1, ('entrepreneur', 'contributor'): 1, ('contributor', 'ownsquare'): 1, ('ownsquare', 'inc'): 1, ('inc', 'payment'): 1, ('payment', 'platform'): 1, ('platform', 'headed'): 1, ('headed', 'famous'): 1, ('famous', 'twitter'): 1, ('twitter', 'ceo'): 1, ('ceo', 'jack'): 1, ('jack', 'dorseyhas'): 1, ('dorseyhas', 'announced'): 1, ('announced', 'october'): 1, ('october', 'reuters'): 1, ('reutersdado', 'ruvicillustrationnew'): 2, ('ruvicillustrationnew', 'york'): 2, ('bitcoin', 'btcbtsp'): 2, ('btcbtsp', 'rose'): 2, ('rose', 'n'): 2, ('n', 'reuters'): 1, ('n', 'london'): 1, ('behind', 'file'): 1, ('seen', 'front'): 3, ('front', 'stock'): 2, ('stock', 'graph'): 3, ('graph', 'illustration'): 2, ('reutersdado', 'ruvicreuters'): 1, ('ruvicreuters', 'bitcoin'): 1, ('bitcoin', 'still'): 1, ('still', 'volatile'): 1, ('volatile', 'irans'): 1, ('irans', 'new'): 1, ('new', 'crypto'): 1, ('crypto', 'law'): 1, ('law', 'requires'): 1, ('requires', 'miners'): 1, ('miners', 'sell'): 1, ('sell', 'bitcoin'): 1, ('bitcoin', 'directly'): 1, ('directly', 'central'): 1, ('bank', 'fund'): 1, ('fund', 'importsiran'): 1, ('importsiran', 'reportedly'): 1, ('reportedly', 'revised'): 1, ('revised', 'country'): 1, ('country', 'cryptocurrency'): 1, ('cryptocurrency', 'regulation'): 1, ('regulation', 'require'): 1, ('require', 'licensed'): 1, ('licensed', 'bitcoin'): 1, ('bitcoin', 'miner'): 1, ('miner', 'representation'): 1, ('bitcoin', 'hit'): 3, ('hit', 'tuesday'): 1, ('tuesday', 'first'): 1, ('first', 'tim'): 1, ('tim', 'saikat'): 1, ('saikat', 'chatterjeea'): 1, ('chatterjeea', 'representation'): 1, ('hit', 'tue'): 1, ('tue', 'looks'): 1, ('looks', 'like'): 1, ('like', 'cat'): 1, ('cat', 'bagim'): 1, ('bagim', 'excited'): 1, ('excited', 'joining'): 1, ('joining', 'executive'): 1, ('executive', 'team'): 1, ('team', 'twitteri'): 1, ('twitteri', 'truly'): 1, ('truly', 'believe'): 1, ('believe', 'mission'): 1, ('mission', 'equitably'): 1, ('equitably', 'serving'): 1, ('serving', 'public'): 1, ('public', 'conversationi'): 1, ('conversationi', 'best'): 1, ('best', 'new'): 1, ('new', 'york'): 6, ('bitcoin', 'investor'): 4, ('investor', 'include'): 4, ('include', 'top'): 4, ('top', 'hedge'): 4, ('hedge', 'fund'): 4, ('fund', 'money'): 4, ('money', 'manager'): 4, ('manager', 'betting'): 4, ('betting', 'virtual'): 4, ('currency', 'could'): 4, ('could', 'quintuple'): 3, ('quintuple', 'high'): 3, ('high', 'yearfile'): 2, ('yearfile', 'photo'): 2, ('photo', 'b'): 2, ('b', 'reuters'): 1, ('reuters', 'gertrude'): 1, ('gertrude', 'chavezdreyfussnew'): 1, ('chavezdreyfussnew', 'york'): 2, ('high', 'tom'): 1, ('tom', 'wilson'): 1, ('wilson', 'gertrude'): 1, ('gertrude', 'chavezdreyfusslondonnew'): 1, ('chavezdreyfusslondonnew', 'york'): 1, ('bitcoin', 'tuesday'): 2, ('tuesday', 'soared'): 2, ('soared', 'highest'): 2, ('highest', 'level'): 4, ('level', 'since'): 2, ('december', 'asset'): 2, ('asset', 'perceived'): 2, ('perceived', 'quality'): 2, ('quality', 'hedge'): 2, ('hedge', 'inflation'): 2, ('inflation', 'london'): 1, ('passed', 'tuesday'): 2, ('tuesday', 'touch'): 2, ('touch', 'highest'): 2, ('level', 'year'): 2, ('year', 'investor'): 2, ('investor', 'ascribing'): 2, ('ascribing', 'gain'): 2, ('gain', 'demand'): 2, ('demand', 'perceived'): 2, ('perceived', 'inflationresistant'): 2, ('inflationresistant', 'quality'): 2, ('quality', 'expectation'): 2, ('expectation', 'londonnew'): 1, ('londonnew', 'york'): 1, ('inflation', 'expectation'): 1, ('expectation', 'mainstream'): 1, ('mainstream', 'acceptance'): 1, ('acceptance', 'l'): 1, ('l', 'new'): 1, ('b', 'london'): 1, ('bitcoin', 'surging'): 1, ('surging', 'cusp'): 1, ('cusp', 'alltime'): 1, ('high', 'backer'): 1, ('backer', 'hoping'): 1, ('hoping', 'fewer'): 1, ('fewer', 'frenzied'): 1, ('frenzied', 'retail'): 1, ('retail', 'investor'): 2, ('investor', 'mean'): 1, ('mean', 'le'): 1, ('le', 'chance'): 1, ('chance', 'crash'): 1, ('crash', 'time'): 1, ('time', 'aroundfile'): 1, ('aroundfile', 'photo'): 1, ('photo', 'bitcoin'): 1, ('bitcoin', 'reuters'): 1, ('reutersdado', 'ruviclondon'): 3, ('ruviclondon', 'reuters'): 3, ('bitcoin', 'wednesday'): 1, ('wednesday', 'shanghaihong'): 1, ('shanghaihong', 'kong'): 2, ('kong', 'reuters'): 5, ('reuters', 'price'): 3, ('price', 'bitcoin'): 4, ('bitcoin', 'soar'): 3, ('soar', 'chinese'): 3, ('chinese', 'cryptocurrency'): 3, ('cryptocurrency', 'asset'): 3, ('asset', 'manager'): 5, ('manager', 'looking'): 3, ('looking', 'expand'): 3, ('expand', 'place'): 3, ('place', 'hong'): 3, ('hong', 'kong'): 3, ('kong', 'singapore'): 3, ('singapore', 'skirting'): 2, ('skirting', 'intensified'): 2, ('intensified', 'crackdown'): 2, ('crackdown', 'samuel'): 1, ('samuel', 'shen'): 1, ('shen', 'alun'): 1, ('alun', 'johnshanghaihong'): 1, ('johnshanghaihong', 'kong'): 1, ('singapore', 'skirtin'): 1, ('skirtin', 'shanghaihong'): 1, ('crackdown', 'repeats'): 1, ('repeats', 'fix'): 1, ('fix', 'format'): 1, ('format', 'change'): 1, ('change', 'textnew'): 1, ('textnew', 'york'): 1, ('york', 'nov'): 2, ('nov', 'reuters'): 4, ('could', 'quintupl'): 1, ('quintupl', 'reuters'): 1, ('reutersdado', 'ruvicillustrationfile'): 3, ('ruvicillustrationfile', 'photo'): 1, ('photo', 'reuters'): 1, ('bitcoin', 'jumped'): 2, ('jumped', 'past'): 2, ('past', 'reuters'): 1, ('reuters', 'stafflondon'): 1, ('stafflondon', 'nov'): 1, ('past', 'monday'): 1, ('monday', 'moving'): 1, ('moving', 'closer'): 1, ('closer', 'alltime'): 1, ('alltime', 'record'): 1, ('record', 'sharp'): 1, ('sharp', 'tumble'): 1, ('tumble', 'last'): 1, ('last', 'week'): 1, ('week', 'checked'): 1, ('checked', 'rallyit'): 1, ('rallyit', 'last'): 1, ('last', 'london'): 1, ('expectation', 'reuters'): 1, ('reuters', 'staffreuters'): 2, ('staffreuters', 'cryptocurrency'): 1, ('blockfi', 'said'): 1, ('said', 'tuesday'): 1, ('tuesday', 'would'): 1, ('would', 'partner'): 1, ('partner', 'visa'): 1, ('visa', 'inc'): 1, ('inc', 'evolve'): 1, ('evolve', 'bank'): 1, ('bank', 'credit'): 1, ('card', 'firm'): 1, ('firm', 'deserve'): 1, ('deserve', 'offer'): 1, ('offer', 'credit'): 1, ('card', 'let'): 1, ('let', 'user'): 1, ('user', 'earn'): 1, ('earn', 'bitco'): 1, ('bitco', 'reuters'): 1, ('ruvicillustrationfile', 'photolondon'): 1, ('photolondon', 'reuters'): 1, ('bitcoin', 'november'): 1, ('min', 'readthis'): 2, ('readthis', 'article'): 2, ('article', 'translated'): 2, ('translated', 'spanish'): 2, ('spanish', 'edition'): 2, ('edition', 'using'): 2, ('using', 'ai'): 2, ('ai', 'technology'): 2, ('technology', 'errors'): 2, ('errors', 'may'): 2, ('may', 'exist'): 2, ('exist', 'due'): 2, ('due', 'processthis'): 1, ('processthis', 'story'): 1, ('story', 'originally'): 1, ('originally', 'appeared'): 1, ('appeared', 'alto'): 1, ('alto', 'nivelby'): 1, ('nivelby', 'guill'): 1, ('guill', 'londonhong'): 1, ('londonhong', 'kong'): 2, ('week', 'dizzying'): 2, ('dizzying', 'ascent'): 2, ('yet', 'radar'): 2, ('radar', 'trend'): 2, ('face', 'posted'): 1, ('bitcoin', 'appears'): 1, ('appears', 'back'): 1, ('back', 'vogue'): 1, ('vogue', 'hovering'): 1, ('hovering', 'near'): 1, ('near', 'threeyear'): 1, ('threeyear', 'high'): 2, ('high', 'hilary'): 1, ('hilary', 'kramer'): 1, ('kramer', 'kramer'): 1, ('kramer', 'capital'): 1, ('capital', 'research'): 1, ('research', 'warns'): 1, ('warns', 'investor'): 1, ('investor', 'chasing'): 1, ('chasing', 'cryptocurrency'): 1, ('cryptocurrency', 'proven'): 1, ('proven', 'londonhong'): 1, ('face', 'file'): 1, ('bitcoin', 'broke'): 1, ('broke', 'london'): 1, ('reuters', 'arianna'): 3, ('arianna', 'odell'): 3, ('odell', 'yearold'): 3, ('yearold', 'entrepreneur'): 3, ('entrepreneur', 'songwriter'): 3, ('songwriter', 'based'): 3, ('based', 'new'): 3, ('york', 'city'): 3, ('city', 'tumultuous'): 3, ('tumultuous', 'fouryear'): 3, ('fouryear', 'journey'): 3, ('journey', 'cryptocurrency'): 3, ('cryptocurrency', 'selling'): 3, ('selling', 'investment'): 3, ('investment', 'februarya'): 1, ('februarya', 'london'): 1, ('investment', 'februarye'): 2, ('februarye', 'london'): 1, ('februarye', 'new'): 1, ('reuters', 'world'): 2, ('world', 'largest'): 2, ('largest', 'digital'): 2, ('currency', 'asset'): 3, ('manager', 'grayscale'): 2, ('grayscale', 'said'): 2, ('said', 'wednesday'): 2, ('wednesday', 'asset'): 2, ('asset', 'management'): 1, ('management', 'soared'): 1, ('soared', 'record'): 2, ('record', 'billion'): 1, ('billion', 'bolstered'): 1, ('bolstered', 'continued'): 1, ('continued', 'rise'): 1, ('rise', 'inv'): 1, ('inv', 'technology'): 1, ('technology', 'media'): 1, ('media', 'telecommunicationsgertrude'): 1, ('telecommunicationsgertrude', 'chavezdreyfussnew'): 1, ('asset', 'managem'): 1, ('managem', 'london'): 1, ('london', 'nov'): 1, ('reuters', 'cryptocurrency'): 1, ('cryptocurrency', 'exchange'): 1, ('exchange', 'coinbase'): 1, ('coinbase', 'said'): 1, ('said', 'thursday'): 2, ('thursday', 'retail'): 1, ('retail', 'professionalfocused'): 1, ('professionalfocused', 'platform'): 1, ('platform', 'hit'): 1, ('hit', 'tech'): 1, ('tech', 'problem'): 1, ('problem', 'user'): 1, ('user', 'reporting'): 1, ('reporting', 'difficulty'): 1, ('difficulty', 'trading'): 1, ('trading', 'bitcoi'): 1, ('bitcoi', 'file'): 1, ('photo', 'illumination'): 1, ('illumination', 'stock'): 1, ('graph', 'seen'): 1, ('seen', 'representation'): 1, ('bitcoin', 'picture'): 1, ('ruvicillustrationfile', 'ph'): 1, ('ph', 'posted'): 1, ('bitcoin', 'trading'): 1, ('trading', 'record'): 1, ('record', 'high'): 2, ('high', 'socalled'): 1, ('socalled', 'alternative'): 1, ('alternative', 'investment'): 1, ('investment', 'consider'): 1, ('consider', 'well'): 1, ('well', 'yieldstreet'): 1, ('yieldstreet', 'cofounder'): 1, ('cofounder', 'michael'): 1, ('michael', 'weisz'): 1, ('weisz', 'told'): 1, ('told', 'reuters'): 1, ('reuters', 'business'): 1, ('business', 'corresponde'): 1, ('corresponde', 'london'): 1, ('reuters', 'sampp'): 1, ('sampp', 'dow'): 1, ('dow', 'jones'): 1, ('jones', 'indices'): 1, ('indices', 'division'): 1, ('division', 'financial'): 1, ('financial', 'data'): 1, ('data', 'provider'): 1, ('provider', 'sampp'): 1, ('sampp', 'global'): 1, ('global', 'inc'): 1, ('inc', 'said'): 1, ('thursday', 'launch'): 1, ('launch', 'cryptocurrency'): 1, ('cryptocurrency', 'index'): 1, ('index', 'making'): 1, ('making', 'latest'): 1, ('latest', 'major'): 1, ('major', 'price'): 1, ('bitcoin', 'reached'): 1, ('reached', 'today'): 1, ('today', 'beating'): 1, ('beating', 'record'): 1, ('record', 'since'): 1, ('since', 'dropped'): 1, ('dropped', 'price'): 1, ('price', 'surge'): 1, ('surge', 'attributed'): 1, ('attributed', 'influx'): 1, ('influx', 'asian'): 1, ('asian', 'speculator'): 1, ('speculator', 'followe'): 1, ('followe', 'reutersrick'): 1, ('reutersrick', 'wilkingbillionaire'): 1, ('wilkingbillionaire', 'investor'): 1, ('investor', 'mike'): 1, ('mike', 'novogratz'): 1, ('novogratz', 'said'): 1, ('said', 'half'): 1, ('half', 'bitcoin'): 1, ('bitcoin', 'election'): 1, ('election', 'bet'): 1, ('bet', 'saturday'): 1, ('saturday', 'gave'): 1, ('gave', 'selfhosted'): 1, ('selfhosted', 'lottery'): 1, ('lottery', 'twitter'): 1, ('twitter', 'userhalf'): 1, ('userhalf', 'bitcoin'): 1, ('bitcoin', 'curr'): 1, ('curr', 'bloomberg'): 1, ('bloomberg', 'cyclical'): 1, ('cyclical', 'company'): 1, ('company', 'powering'): 1, ('powering', 'global'): 1, ('global', 'equity'): 1, ('equity', 'higher'): 1, ('higher', 'second'): 1, ('second', 'day'): 1, ('day', 'investor'): 1, ('investor', 'cheered'): 1, ('cheered', 'start'): 1, ('start', 'us'): 1, ('us', 'presidentelect'): 1, ('presidentelect', 'joe'): 1, ('joe', 'bidens'): 1, ('bidens', 'formal'): 1, ('formal', 'transition'): 1, ('transition', 'prospect'): 1, ('prospect', 'ec'): 1, ('ec', 'satoshi'): 1, ('satoshi', 'didnt'): 1, ('didnt', 'leave'): 1, ('leave', 'much'): 1, ('much', 'behind'): 1, ('behind', 'decided'): 1, ('decided', 'leave'): 1, ('leave', 'scene'): 1, ('scene', 'good'): 1, ('good', 'back'): 1, ('back', 'april'): 1, ('april', 'leave'): 1, ('leave', 'enough'): 1, ('enough', 'u'): 1, ('u', 'conduct'): 1, ('conduct', 'thorough'): 1, ('thorough', 'research'): 1, ('research', 'whereabouts'): 1, ('whereabouts', 'worki'): 1, ('worki', 'chain'): 1, ('chain', 'block'): 1, ('block', 'erupters'): 1, ('erupters', 'used'): 1, ('used', 'bitcoin'): 1, ('bitcoin', 'mining'): 1, ('mining', 'pictured'): 1, ('pictured', 'plug'): 1, ('plug', 'play'): 1, ('play', 'tech'): 1, ('tech', 'center'): 1, ('center', 'sunnyvale'): 1, ('sunnyvale', 'california'): 1, ('california', 'october'): 1, ('october', 'reutersstephen'): 1, ('reutersstephen', 'lamullibitcoin'): 1, ('lamullibitcoin', 'slumped'): 1, ('slumped', 'throug'): 1, ('throug', 'set'): 1, ('set', 'stare'): 1, ('stare', 'nothing'): 1, ('nothing', 'long'): 1, ('long', 'enough'): 1, ('enough', 'people'): 1, ('people', 'might'): 1, ('might', 'thinkim'): 1, ('thinkim', 'engineer'): 1, ('engineer', 'working'): 1, ('working', 'something'): 1, ('something', 'sr'): 1, ('sr', 'mcelroy'): 1, ('mcelroy', 'try'): 1, ('try', 'reaching'): 1, ('reaching', 'live'): 1, ('live', 'customer'): 1, ('customer', 'support'): 1, ('support', 'person'): 1, ('person', 'paypal'): 1, ('paypal', 'virtually'): 1, ('virtually', 'impossible'): 1, ('impossible', 'get'): 1, ('get', 'hold'): 1, ('hold', 'thru'): 1, ('thru', 'automated'): 1, ('automated', 'phone'): 1, ('phone', 'systemimagine'): 1, ('systemimagine', 'glitch'): 1, ('glitch', 'cypto'): 1, ('cypto', 'transfer'): 1, ('transfer', 'ne'): 1, ('ne', 'pfizer'): 1, ('pfizer', 'covid'): 1, ('covid', 'vaccine'): 1, ('vaccine', 'trial'): 1, ('trial', 'show'): 1, ('show', 'effective'): 1, ('effective', 'dollar'): 1, ('dollar', 'index'): 1, ('index', 'edge'): 1, ('edge', 'oneweek'): 1, ('oneweek', 'low'): 1, ('low', 'bitcoin'): 1, ('bitcoin', 'surge'): 1, ('surge', 'last'): 1, ('last', 'day'): 1, ('day', 'euro'): 1, ('euro', 'tick'): 1, ('tick', 'investor'): 1, ('investor', 'ignore'): 1, ('ignore', 'mnuchin'): 1, ('mnuchin', 'defends'): 1, ('defends', 'decision'): 1, ('decision', 'end'): 1, ('end', 'feds'): 1, ('feds', 'pandemic'): 1, ('pandemic', 'lending'): 1, ('lending', 'dollar'): 1, ('dollar', 'poised'): 1, ('poised', 'end'): 1, ('end', 'week'): 1, ('week', 'loss'): 1, ('loss', 'euro'): 1, ('euro', 'yen'): 1, ('yen', 'little'): 1, ('little', 'changed'): 1, ('changed', 'v'): 1, ('v', 'dollar'): 1, ('dollar', 'bitcoin'): 1, ('hit', 'fresh'): 1, ('fresh', 'threeyear'): 1, ('high', 'graphic'): 2, ('graphic', 'world'): 2, ('world', 'fx'): 2, ('fx', 'ra'): 1, ('ra', 'posted'): 1, ('bitcoin', 'soared'): 1, ('high', 'dollar'): 1, ('dollar', 'monday'): 1, ('monday', 'rally'): 1, ('rally', 'steamed'): 1, ('steamed', 'ahead'): 1, ('ahead', 'boosted'): 1, ('boosted', 'increased'): 1, ('increased', 'demand'): 1, ('demand', 'institutional'): 1, ('institutional', 'retail'): 1, ('investor', 'saw'): 1, ('saw', 'virtual'): 1, ('virtual', 'c'): 1, ('c', 'reuters'): 1, ('staffreuters', 'sticky'): 1, ('sticky', 'talksfile'): 1, ('talksfile', 'photo'): 1, ('photo', 'small'): 1, ('small', 'toy'): 1, ('toy', 'figure'): 1, ('figure', 'seen'): 1, ('front', 'brexit'): 1, ('brexit', 'logo'): 1, ('logo', 'illustration'): 1, ('picture', 'march'): 1, ('reutersdado', 'ruvicillustrationbritai'): 1, ('ruvicillustrationbritai', 'currency'): 1, ('asset', 'perhaps'): 1, ('perhaps', 'commodity'): 1, ('commodity', 'effort'): 1, ('effort', 'drive'): 1, ('drive', 'price'): 1, ('price', 'infamous'): 1, ('infamous', 'crypto'): 1, ('crypto', 'evangelicals'): 1, ('evangelicals', 'coming'): 1, ('coming', 'attributing'): 1, ('attributing', 'increasing'): 1, ('increasing', 'number'): 1, ('number', 'use'): 1, ('use', 'case'): 1, ('case', 'new'): 1, ('new', 'zealand'): 1, ('zealand', 'dollar'): 1, ('dollar', 'set'): 1, ('set', 'reach'): 1, ('reach', 'twoyear'): 1, ('twoyear', 'high'): 2, ('high', 'commoditylinked'): 1, ('commoditylinked', 'currency'): 1, ('currency', 'gain'): 1, ('gain', 'v'): 1, ('v', 'us'): 1, ('dollar', 'canadian'): 1, ('canadian', 'dollar'): 1, ('dollar', 'shy'): 1, ('shy', 'twoyear'): 1, ('fx', 'rate'): 1, ('rate', 'tmsnrtrsr'): 1, ('tmsnrtrsr', 'fixes'): 1, ('fixes', 'typo'): 1, ('typo', 'euro'): 1, ('euro', 'price'): 1, ('price', 'th'): 1, ('th', 'paragraph'): 1, ('paragraph', 'euro'): 1, ('euro', 'nz'): 1, ('nz', 'dollar'): 1, ('dollar', 'hit'): 1, ('hit', 'highest'): 1, ('highest', 'year'): 1, ('year', 'sterling'): 1, ('sterling', 'rise'): 1, ('rise', 'threemonth'): 1, ('threemonth', 'high'): 1, ('high', 'us'): 1, ('us', 'bipartisan'): 1, ('bipartisan', 'stimulus'): 1, ('stimulus', 'proposal'): 1, ('proposal', 'sink'): 1, ('sink', 'greenback'): 1, ('greenback', 'nearly'): 1, ('nearly', 'three'): 1, ('three', 'year'): 2, ('year', 'since'): 1, ('since', 'bitcoin'): 1, ('bitcoin', 'price'): 1, ('price', 'reached'): 1, ('reached', 'benchmark'): 1, ('benchmark', 'k'): 1, ('k', 'doesnt'): 1, ('doesnt', 'seem'): 1, ('seem', 'stopping'): 1, ('stopping', 'price'): 1, ('price', 'btc'): 1, ('btc', 'overflowing'): 1, ('overflowing', 'new'): 1, ('new', 'bitcoin'): 1, ('bitcoin', 'address'): 1, ('address', 'visa'): 1, ('visa', 'paypal'): 1, ('paypal', 'diem'): 1, ('diem', 'formerly'): 1, ('formerly', 'known'): 1, ('known', 'libra'): 1, ('libra', 'looking'): 1, ('looking', 'capitalize'): 1, ('capitalize', 'rapidly'): 1, ('rapidly', 'growing'): 1, ('growing', 'industryvisa'): 1, ('industryvisa', 'eyeing'): 1, ('eyeing', 'cryptocurrency'): 1, ('cryptocurrency', 'spaceinsider'): 1, ('spaceinsider', 'intelligenceullivisas'): 1, ('intelligenceullivisas', 'newest'): 1, ('newest', 'cred'): 1, ('cred', 'anyone'): 1, ('anyone', 'serious'): 1, ('serious', 'mining'): 1, ('mining', 'cryptocurrency'): 1, ('cryptocurrency', 'bitcoin'): 1, ('bitcoin', 'well'): 1, ('well', 'past'): 1, ('past', 'point'): 1, ('point', 'standard'): 1, ('standard', 'desktop'): 1, ('desktop', 'computer'): 1, ('computer', 'much'): 1, ('much', 'use'): 1, ('use', 'array'): 1, ('array', 'highend'): 1, ('highend', 'gpus'): 1, ('gpus', 'still'): 1, ('still', 'viable'): 1, ('viable', 'cu'): 1, ('cu', 'paypal'): 1, ('paypal', 'launched'): 1, ('launched', 'generosity'): 1, ('generosity', 'network'): 1, ('network', 'platform'): 1, ('platform', 'allows'): 1, ('allows', 'user'): 1, ('user', 'create'): 1, ('create', 'customized'): 1, ('customized', 'personal'): 1, ('personal', 'fundraising'): 1, ('fundraising', 'campaign'): 1, ('campaign', 'yes'): 1, ('yes', 'like'): 1, ('like', 'gofundmeyou'): 1, ('gofundmeyou', 'raise'): 1, ('raise', 'maximum'): 1, ('maximum', 'woman'): 1, ('woman', 'walk'): 1, ('walk', 'past'): 1, ('past', 'microsoft'): 1, ('microsoft', 'store'): 1, ('store', 'th'): 1, ('th', 'avenue'): 1, ('avenue', 'john'): 1, ('john', 'nacionsopa'): 1, ('nacionsopa', 'imageslightrocket'): 1, ('imageslightrocket', 'via'): 1, ('via', 'getty'): 1, ('getty', 'imagesullia'): 1, ('imagesullia', 'former'): 1, ('microsoft', 'employee'): 1, ('employee', 'sentenced'): 1, ('prison', 'monday'): 1, ('monday', 'stealing'): 1, ('stealing', 'november'): 1, ('due', 'processfor'): 1, ('processfor', 'first'): 1, ('time', 'almost'): 1, ('almost', 'three'): 1, ('year', 'price'): 1, ('price', 'file'): 1, ('photo', 'sign'): 1, ('sign', 'china'): 1, ('china', 'construction'): 1, ('construction', 'bank'): 1, ('bank', 'seen'): 1, ('seen', 'booth'): 1, ('booth', 'china'): 1, ('china', 'international'): 1, ('international', 'fair'): 1, ('fair', 'trade'): 1, ('trade', 'services'): 1, ('services', 'ciftis'): 1, ('ciftis', 'beijing'): 1, ('beijing', 'china'): 1, ('china', 'september'): 1, ('september', 'reuterstingshu'): 1, ('reuterstingshu', 'wangfutur'): 1}\n"
     ]
    }
   ],
   "source": [
    "# Generate the Bitcoin N-grams where N=2\n",
    "bigram_counts = Counter(ngrams(btc_processed, n=2))\n",
    "btc_bigram.append(bigram_counts)\n",
    "\n",
    "print(dict(bigram_counts))"
   ]
  },
  {
   "cell_type": "code",
   "execution_count": 746,
   "metadata": {
    "tags": [
     "outputPrepend"
    ]
   },
   "outputs": [
    {
     "output_type": "stream",
     "name": "stdout",
     "text": [
      " 'transaction'): 2, ('transaction', 'growth'): 1, ('growth', 'positive'): 1, ('positive', 'indicator'): 1, ('indicator', 'future'): 1, ('future', 'financial'): 1, ('financial', 'use'): 1, ('use', 'casesullibitcoin'): 1, ('casesullibitcoin', 'btc'): 1, ('btc', 'trading'): 2, ('trading', 'around'): 2, ('around', 'consensys'): 1, ('consensys', 'adding'): 1, ('adding', 'dapp'): 1, ('dapp', 'development'): 1, ('development', 'platform'): 1, ('platform', 'truffle'): 1, ('truffle', 'suite'): 1, ('suite', 'back'): 1, ('back', 'lineup'): 1, ('lineup', 'ethereum'): 1, ('ethereum', 'toolsconsensys'): 1, ('toolsconsensys', 'chief'): 1, ('chief', 'strategy'): 1, ('strategy', 'officer'): 1, ('officer', 'simon'): 1, ('simon', 'morris'): 1, ('morris', 'said'): 1, ('said', 'tuesday'): 1, ('tuesday', 'ethereumfocused'): 1, ('ethereumfocused', 'firm'): 1, ('firm', 'acquired'): 1, ('acquired', 'th'): 1, ('th', 'idex'): 1, ('idex', 'betting'): 1, ('betting', 'three'): 1, ('three', 'chain'): 1, ('chain', 'better'): 1, ('better', 'onethe'): 1, ('onethe', 'noncustodial'): 1, ('noncustodial', 'cryptocurrency'): 1, ('exchange', 'whose'): 1, ('whose', 'operation'): 1, ('operation', 'run'): 1, ('run', 'ethereum'): 1, ('blockchain', 'announced'): 1, ('announced', 'tuesday'): 1, ('tuesday', 'plan'): 1, ('plan', 'expand'): 1, ('expand', 'binance'): 1, ('binance', 'kraken'): 1, ('kraken', 'announced'): 1, ('announced', 'help'): 1, ('help', 'fund'): 1, ('fund', 'opensource'): 1, ('opensource', 'ethereum'): 1, ('ethereum', 'project'): 1, ('project', 'first'): 1, ('first', 'usbased'): 1, ('usbased', 'cryptocurrency'): 1, ('cryptocurrency', 'exchangein'): 1, ('exchangein', 'blog'): 1, ('blog', 'post'): 1, ('post', 'thursday'): 1, ('thursday', 'kraken'): 1, ('kraken', 'said'): 1, ('said', 'collaborate'): 1, ('collaborate', 'gitcoin'): 1, ('gitcoin', 'ethereum'): 1, ('ethereum', 'finally'): 1, ('finally', 'set'): 1, ('set', 'go'): 1, ('go', 'live'): 1, ('live', 'people'): 1, ('people', 'face'): 1, ('face', 'crucial'): 1, ('crucial', 'decision'): 1, ('decision', 'whether'): 1, ('whether', 'stake'): 1, ('stake', 'come'): 1, ('come', 'balancing'): 1, ('balancing', 'ageold'): 1, ('ageold', 'calculus'): 1, ('calculus', 'risk'): 1, ('risk', 'reward'): 1, ('reward', 'ethereum'): 1, ('ethereum', 'hold'): 1, ('hold', 'th'): 1, ('th', 'cryptocurrency'): 1, ('exchange', 'gemini'): 1, ('gemini', 'developing'): 1, ('developing', 'wrapped'): 1, ('wrapped', 'filecoin'): 1, ('filecoin', 'wfil'): 1, ('wfil', 'service'): 1, ('service', 'enabling'): 1, ('enabling', 'decentralized'): 1, ('decentralized', 'storage'): 1, ('storage', 'platform'): 1, ('platform', 'native'): 1, ('native', 'token'): 1, ('token', 'fil'): 1, ('fil', 'used'): 1, ('used', 'ethereum'): 1, ('ethereum', 'networkulliin'): 1, ('networkulliin', 'com'): 1, ('com', 'takeawayulliaudius'): 1, ('takeawayulliaudius', 'ethereumbased'): 1, ('ethereumbased', 'streaming'): 1, ('streaming', 'app'): 1, ('app', 'looking'): 1, ('looking', 'take'): 1, ('take', 'spotify'): 1, ('spotify', 'apple'): 1, ('apple', 'music'): 1, ('music', 'offering'): 1, ('offering', 'artist'): 1, ('artist', 'better'): 1, ('better', 'deallililike'): 1, ('deallililike', 'many'): 1, ('many', 'blockchain'): 1, ('blockchain', 'project'): 1, ('project', 'audius'): 1, ('audius', 'number'): 1, ('number', 'billiondollar'): 1, ('billiondollar', 'spot'): 1, ('spot', 'volume'): 1, ('volume', 'day'): 1, ('day', 'bitcoin'): 1, ('bitcoin', 'market'): 1, ('market', 'increasing'): 1, ('increasing', 'pushing'): 1, ('pushing', 'price'): 1, ('price', 'higher'): 1, ('higher', 'ethereums'): 1, ('transaction', 'fee'): 1, ('fee', 'also'): 1, ('also', 'increasing'): 1, ('increasing', 'general'): 1, ('general', 'cryptocurrency'): 1, ('cryptocurrency', 'interest'): 1, ('interest', 'fuel'): 1, ('fuel', 'deman'): 1, ('deman', 'smart'): 1, ('contract', 'trigger'): 1, ('trigger', 'first'): 1, ('phase', 'ethereums'): 1, ('yet', 'nearly'): 1, ('nearly', 'accrued'): 1, ('accrued', 'enough'): 1, ('fund', 'activatethe'): 1, ('activatethe', 'ethereum'): 1, ('ethereum', 'deposit'): 2, ('deposit', 'contract'): 4, ('contract', 'currently'): 1, ('currently', 'hold'): 1, ('hold', 'sharding'): 1, ('sharding', 'proposed'): 1, ('proposed', 'method'): 1, ('method', 'splitting'): 1, ('splitting', 'infrastructure'): 1, ('infrastructure', 'ethereum'): 1, ('ethereum', 'smaller'): 1, ('smaller', 'piece'): 1, ('piece', 'goal'): 1, ('goal', 'scaling'): 1, ('scaling', 'platform'): 1, ('platform', 'support'): 1, ('support', 'many'): 1, ('many', 'user'): 1, ('user', 'currently'): 1, ('currently', 'doesethere'): 1, ('doesethere', 'ullithe'): 1, ('ullithe', 'bulk'): 1, ('bulk', 'ethereums'): 1, ('ethereums', 'defi'): 1, ('defi', 'ecosystem'): 2, ('ecosystem', 'went'): 1, ('went', 'dark'): 1, ('dark', 'earlier'): 1, ('today', 'latent'): 1, ('latent', 'bug'): 1, ('bug', 'ethereum'): 1, ('code', 'split'): 1, ('split', 'network'): 1, ('network', 'transaction'): 1, ('transaction', 'history'): 1, ('history', 'twolilithe'): 1, ('twolilithe', 'split'): 1, ('split', 'resulted'): 1, ('resulted', 'code'): 1, ('code', 'chan'): 1, ('chan', 'ethereum'): 1, ('ethereum', 'hit'): 1, ('hit', 'major'): 1, ('major', 'milestone'): 1, ('milestone', 'beacon'): 1, ('beacon', 'chain'): 1, ('chain', 'went'): 1, ('went', 'live'): 1, ('live', 'libra'): 1, ('libra', 'seizes'): 1, ('seizes', 'day'): 1, ('day', 'rebrands'): 1, ('rebrands', 'diem'): 1, ('diem', 'google'): 1, ('google', 'search'): 1, ('search', 'bitcoin'): 1, ('bitcoin', 'doubled'): 1, ('doubled', 'since'): 1, ('since', 'last'): 1, ('last', 'monthcoinbase'): 1, ('monthcoinbase', 'ltgt'): 1, ('ltgt', 'micro'): 1, ('micro', 'us'): 1, ('us', 'securities'): 1, ('securities', 'exchange'): 1, ('exchange', 'commission'): 1, ('commission', 'sec'): 1, ('sec', 'granted'): 1, ('granted', 'another'): 1, ('another', 'crypto'): 1, ('crypto', 'firm'): 1, ('firm', 'permission'): 1, ('permission', 'sell'): 1, ('sell', 'native'): 1, ('native', 'cryptocurrencythe'): 1, ('cryptocurrencythe', 'sec'): 1, ('sec', 'published'): 1, ('published', 'noaction'): 1, ('noaction', 'letter'): 1, ('letter', 'thursday'): 1, ('thursday', 'dated'): 1, ('dated', 'nov'): 1, ('nov', 'eth'): 1, ('eth', 'locked'): 1, ('locked', 'loaded'): 1, ('loaded', 'ethereum'): 1, ('contract', 'kickstarting'): 1, ('kickstarting', 'network'): 1, ('network', 'major'): 1, ('major', 'multiyear'): 1, ('multiyear', 'development'): 1, ('development', 'phase'): 1, ('phase', 'jpmorgan'): 1, ('jpmorgan', 'analyst'): 1, ('analyst', 'say'): 1, ('say', 'institution'): 1, ('institution', 'piling'): 1, ('piling', 'biggest'): 1, ('biggest', 'update'): 1, ('update', 'ethereums'): 1, ('ethereums', 'history'): 1, ('history', 'begin'): 1, ('begin', 'first'): 1, ('phase', 'dec'): 1, ('dec', 'per'): 1, ('per', 'tweet'): 1, ('tweet', 'eth'): 1, ('eth', 'researcher'): 1, ('researcher', 'justin'): 1, ('justin', 'drake'): 1, ('drake', 'ethereum'): 1, ('ethereum', 'beacon'): 1, ('beacon', 'chains'): 1, ('chains', 'launch'): 1, ('launch', 'set'): 1, ('set', 'dec'): 1, ('dec', 'utc'): 1, ('classic', 'etc'): 1, ('etc', 'undergone'): 1, ('undergone', 'hard'): 1, ('fork', 'usher'): 1, ('usher', 'new'): 1, ('new', 'upgrade'): 1, ('upgrade', 'aimed'): 1, ('aimed', 'increase'): 1, ('increase', 'miner'): 1, ('miner', 'participation'): 1, ('participation', 'increase'): 1, ('increase', 'securityaccording'): 1, ('securityaccording', 'etc'): 1, ('etc', 'explorer'): 1, ('explorer', 'blockscout'): 1, ('blockscout', 'around'): 1, ('around', 'human'): 1, ('human', 'protocol'): 1, ('protocol', 'backbone'): 1, ('backbone', 'antibot'): 1, ('antibot', 'system'): 1, ('system', 'hcaptcha'): 1, ('hcaptcha', 'announced'): 1, ('announced', 'thursday'): 1, ('thursday', 'expanding'): 1, ('expanding', 'beyond'): 1, ('beyond', 'ethereum'): 1, ('ethereum', 'future'): 1, ('future', 'polkadot'): 1, ('polkadot', 'parachain'): 1, ('parachain', 'moonbeamthe'): 1, ('moonbeamthe', 'move'): 1, ('move', 'also'): 1, ('also', 'prepares'): 1, ('prepares', 'addition'): 1, ('addition', 'bitcoin'): 1, ('bitcoin', 'higher'): 1, ('higher', 'pushing'): 1, ('pushing', 'toward'): 1, ('toward', 'upper'): 1, ('upper', 'edge'): 1, ('edge', 'recent'): 1, ('recent', 'range'): 1, ('range', 'positive'): 1, ('positive', 'sentiment'): 1, ('sentiment', 'towards'): 1, ('towards', 'bitcoin'): 1, ('gone', 'away'): 1, ('away', 'said'): 1, ('said', 'denis'): 1, ('denis', 'vinokourov'): 1, ('vinokourov', 'head'): 1, ('head', 'bitcoin'): 1, ('bitcoin', 'gained'): 1, ('gained', 'wednesday'): 1, ('ethereum', 'staking'): 1, ('staking', 'ramping'): 1, ('ramping', 'upullibitcoin'): 1, ('upullibitcoin', 'btc'): 1, ('around', 'utc'): 1, ('utc', 'pm'): 1, ('pm', 'et'): 1, ('et', 'gaining'): 1, ('gaining', 'previous'): 1, ('previous', 'hourslilibi'): 1, ('hourslilibi', 'alive'): 1, ('alive', 'welcome'): 1, ('welcome', 'everyone'): 1, ('everyone', 'first'): 1, ('first', 'issue'): 1, ('issue', 'valid'): 1, ('valid', 'pointstoday'): 1, ('pointstoday', 'commemorating'): 1, ('commemorating', 'historic'): 1, ('historic', 'launch'): 1, ('launch', 'ethereum'): 1, ('ethereum', 'mark'): 1, ('mark', 'beginning'): 1, ('beginning', 'ethereums'): 1, ('ethereums', 'live'): 1, ('live', 'transformation'): 1, ('transformation', 'p'): 1, ('p', 'going'): 1, ('going', 'live'): 1, ('live', 'last'): 1, ('week', 'deposit'): 1, ('contract', 'ethereums'): 1, ('ethereums', 'upgrade'): 1, ('upgrade', 'hold'): 1, ('hold', 'k'): 1, ('k', 'eth'): 1, ('eth', 'threshold'): 1, ('threshold', 'needed'): 1, ('needed', 'activate'): 1, ('activate', 'watershed'): 1, ('watershed', 'updatethis'): 1, ('updatethis', 'deposit'): 1, ('contract', 'cornersto'): 1, ('cornersto', 'blockchain'): 1, ('technology', 'creates'): 1, ('creates', 'new'): 1, ('new', 'asset'): 1, ('asset', 'class'): 1, ('class', 'investor'): 1, ('investor', 'protect'): 1, ('protect', 'value'): 1, ('value', 'inflation'): 1, ('inflation', 'article'): 1, ('article', 'tokenized'): 1, ('tokenized', 'real'): 1, ('real', 'asset'): 1, ('asset', 'presented'): 1, ('presented', 'scarce'): 1, ('scarce', 'asset'): 1, ('asset', 'rea'): 1, ('rea', 'look'): 1, ('look', 'rapid'): 1, ('rapid', 'growth'): 1, ('growth', 'year'): 1, ('year', 'whitehot'): 1, ('whitehot', 'arena'): 1, ('arena', 'decentralized'): 1, ('defi', 'clear'): 1, ('clear', 'ethereum'): 1, ('blockchain', 'dominating'): 1, ('dominating', 'many'): 1, ('many', 'conversation'): 1, ('conversation', 'right'): 1, ('right', 'th'): 1, ('th', 'bitcoin'): 1, ('xrp', 'bitcoin'): 1, ('bitcoin', 'cash'): 1, ('cash', 'litecoin'): 1, ('litecoin', 'chainlinkthe'): 1, ('chainlinkthe', 'biggest'): 1, ('cryptocurrencies', 'market'): 1, ('market', 'valuehave'): 1, ('valuehave', 'fallen'): 1, ('fallen', 'sharply'): 1, ('sharply', 'rocketing'): 1, ('rocketing', 'higher'): 1, ('higher', 'november'): 1, ('november', 'bitcoin'): 1, ('price', 'lost'): 1, ('lost', 'bitcoin'): 1, ('bitcoin', 'sent'): 1, ('sent', 'cryptocurrency'): 1, ('market', 'soaring'): 1, ('soaring', 'recent'): 1, ('week', 'total'): 2, ('total', 'value'): 2, ('value', 'world'): 1, ('world', 'combined'): 1, ('combined', 'cryptocurrencies'): 1, ('cryptocurrencies', 'adding'): 1, ('adding', 'eyewatering'): 1, ('eyewatering', 'billion'): 1, ('billion', 'since'): 1, ('beginning', 'november'): 1, ('november', 'member'): 1, ('member', 'ethereum'): 1, ('blockchain', 'community'): 1, ('community', 'endured'): 1, ('endured', 'criticism'): 1, ('criticism', 'long'): 1, ('long', 'taking'): 1, ('taking', 'move'): 1, ('move', 'new'): 1, ('new', 'mechanism'): 1, ('mechanism', 'called'): 1, ('called', 'staking'): 1, ('staking', 'hard'): 1, ('hard', 'also'): 1, ('also', 'note'): 1, ('note', 'definiti'): 1, ('definiti', 'day'): 1, ('day', 'aheadlitecoin'): 1, ('aheadlitecoin', 'would'): 1, ('would', 'need'): 1, ('need', 'move'): 1, ('move', 'pivot'): 1, ('pivot', 'support'): 1, ('support', 'run'): 1, ('run', 'first'): 1, ('first', 'major'): 1, ('major', 'resistance'): 1, ('resistance', 'level'): 1, ('level', 'support'): 1, ('support', 'broader'): 1, ('broader', 'market'): 1, ('market', 'would'): 1, ('would', 'needed'): 1, ('needed', 'however'): 1, ('however', 'ethereumethereum'): 1, ('ethereumethereum', 'rallied'): 1, ('rallied', 'friday'): 1, ('friday', 'reversing'): 1, ('reversing', 'loss'): 1, ('loss', 'thursday'): 1, ('thursday', 'ethereum'): 2, ('ethereum', 'ended'): 2, ('ended', 'day'): 2, ('day', 'another'): 1, ('another', 'mixed'): 1, ('mixed', 'start'): 1, ('start', 'day'): 1, ('day', 'ethereum'): 2, ('ethereum', 'fell'): 1, ('fell', 'early'): 1, ('early', 'morning'): 1, ('morning', 'intra'): 1, ('intra', 'live'): 1, ('live', 'democracy'): 1, ('democracy', 'thanksgiving'): 1, ('thanksgiving', 'approach'): 1, ('approach', 'find'): 1, ('find', 'longing'): 1, ('longing', 'type'): 1, ('type', 'freedom'): 1, ('freedom', 'seeing'): 1, ('seeing', 'china'): 1, ('china', 'people'): 1, ('people', 'china'): 1, ('china', 'able'): 1, ('able', 'move'): 1, ('move', 'around'): 1, ('around', 'freely'): 1, ('freely', 'right'): 1, ('right', 'many'): 1, ('many', 'americans'): 1, ('americans', 'may'): 1, ('may', 'overwhelming'): 1, ('overwhelming', 'evidence'): 1, ('evidence', 'show'): 1, ('show', 'blockchaincryptocurrency'): 1, ('blockchaincryptocurrency', 'space'): 1, ('space', 'mostly'): 1, ('mostly', 'fraudulentsource'): 1, ('fraudulentsource', 'httpswwwhelpnetsecuritycomlookinsidecryptocurrencyfraudnote'): 1, ('httpswwwhelpnetsecuritycomlookinsidecryptocurrencyfraudnote', 'amy'): 1, ('amy', 'castor'): 1, ('castor', 'president'): 1, ('president', 'donald'): 1, ('donald', 'trump'): 1, ('trump', 'bizarre'): 1, ('bizarre', 'habit'): 1, ('habit', 'comparing'): 1, ('comparing', 'abraham'): 1, ('abraham', 'lincoln'): 1, ('lincoln', 'ronald'): 1, ('ronald', 'reagan'): 1, ('reagan', 'probably'): 1, ('probably', 'much'): 1, ('much', 'better'): 1, ('better', 'example'): 1, ('example', 'understanding'): 1, ('understanding', 'trumps'): 1, ('trumps', 'rise'): 1, ('rise', 'power'): 1, ('power', 'ethereum'): 1, ('ethereum', 'developer'): 1, ('developer', 'weighing'): 1, ('weighing', 'change'): 1, ('change', 'publicly'): 1, ('publicly', 'disclosing'): 1, ('disclosing', 'critical'): 1, ('critical', 'bug'): 1, ('bug', 'following'): 1, ('following', 'nov'): 1, ('nov', 'accidental'): 1, ('accidental', 'hard'): 1, ('hard', 'forkaccording'): 1, ('forkaccording', 'technical'): 1, ('technical', 'writeup'): 1, ('writeup', 'published'): 1, ('published', 'geth'): 1, ('geth', 'largest'): 1, ('largest', 'ethereum'): 1, ('ethereum', 'new'): 1, ('new', 'crypto'): 2, ('crypto', 'institutional'): 2, ('institutional', 'investor'): 2, ('investor', 'recently'): 2, ('recently', 'buying'): 2, ('buying', 'bitcoins'): 2, ('bitcoins', 'digital'): 2, ('digital', 'gold'): 2, ('gold', 'narrative'): 2, ('narrative', 'might'): 2, ('might', 'looking'): 2, ('looking', 'around'): 2, ('around', 'next'): 2, ('next', 'big'): 2, ('big', 'thingwith'): 2, ('thingwith', 'longanticipated'): 2, ('longanticipated', 'arrival'): 1, ('arrival', 'bitcoin'): 1, ('bitcoin', 'first'): 1, ('first', 'stop'): 1, ('stop', 'investor'): 1, ('investor', 'year'): 1, ('year', 'growing'): 1, ('number', 'people'): 1, ('people', 'paying'): 1, ('paying', 'attention'): 1, ('attention', 'ethereum'): 1, ('ethereum', 'right'): 1, ('right', 'michael'): 1, ('michael', 'sonnenshein'): 1, ('sonnenshein', 'managing'): 1, ('managing', 'director'): 1, ('director', 'g'): 1, ('g', 'booming'): 1, ('booming', 'world'): 1, ('world', 'decentralized'): 1, ('defi', 'reached'): 1, ('reached', 'new'): 1, ('new', 'height'): 1, ('height', 'recent'): 1, ('value', 'asset'): 1, ('asset', 'locked'): 1, ('locked', 'defi'): 1, ('ecosystem', 'surpasses'): 1, ('surpasses', 'billion'): 1, ('billion', 'arguably'): 1, ('arguably', 'fastestgrowing'): 1, ('fastestgrowing', 'grayscale'): 1, ('grayscale', 'investments'): 1, ('investments', 'announced'): 1, ('wednesday', 'share'): 1, ('share', 'grayscale'): 1, ('grayscale', 'ethereum'): 1, ('ethereum', 'trust'): 1, ('trust', 'ethe'): 1, ('ethe', 'split'): 1, ('split', 'move'): 1, ('move', 'increase'): 1, ('increase', 'liquidity'): 1, ('liquidity', 'perceived'): 1, ('perceived', 'affordability'): 1, ('affordability', 'sharesul'): 1, ('sharesul', 'coalition'): 1, ('coalition', 'ethereum'): 1, ('ethereum', 'ogs'): 1, ('ogs', 'tackling'): 1, ('tackling', 'socalled'): 1, ('socalled', 'lockup'): 1, ('lockup', 'issue'): 1, ('issue', 'whereby'): 1, ('whereby', 'first'): 1, ('first', 'generation'): 1, ('generation', 'participant'): 1, ('participant', 'staking'): 1, ('staking', 'crypto'): 1, ('crypto', 'transitioning'): 1, ('transitioning', 'eth'): 1, ('eth', 'blockchain'): 1, ('blockchain', 'must'): 1, ('must', 'commit'): 1, ('commit', 'coin'): 1, ('coin', 'new'): 1, ('longanticipated', 'arriva'): 1, ('arriva', 'serenity'): 1, ('serenity', 'knockingthe'): 1, ('knockingthe', 'first'): 1, ('first', 'stage'): 1, ('stage', 'nextgeneration'): 1, ('nextgeneration', 'proofofstake'): 1, ('proofofstake', 'pos'): 1, ('pos', 'ethereum'): 1, ('ethereum', 'live'): 1, ('live', 'utc'): 1, ('utc', 'tuesday'): 1, ('tuesday', 'according'): 1, ('according', 'beaconchaina'): 1, ('beaconchaina', 'generalized'): 1, ('generalized', 'blockchain'): 1, ('blockchain', 'decentral'): 1, ('decentral', 'blockchain'): 1, ('blockchain', 'council'): 1, ('council', 'blocknews'): 1, ('blocknews', 'tm'): 1, ('tm', 'ethereum'): 1, ('ethereum', 'ready'): 1, ('ready', 'launch'): 1, ('launch', 'eth'): 1, ('eth', 'us'): 1, ('us', 'fed'): 1, ('fed', 'economists'): 1, ('economists', 'hoping'): 1, ('hoping', 'identify'): 1, ('identify', 'intrinsic'): 1, ('intrinsic', 'features'): 1, ('features', 'cbdc'): 1, ('cbdc', 'ceo'): 1, ('ceo', 'ftx'): 1, ('ftx', 'made'): 1, ('made', 'secondlargest'): 1, ('secondlargest', 'donation'): 1, ('donation', 'make'): 1, ('make', 'asset'): 1, ('asset', 'liquid'): 1, ('liquid', 'liquidity'): 1, ('liquidity', 'basically'): 1, ('basically', 'refers'): 1, ('refers', 'item'): 1, ('item', 'marketability'): 1, ('marketability', 'faster'): 1, ('faster', 'convert'): 1, ('convert', 'something'): 1, ('something', 'cash'): 1, ('cash', 'value'): 1, ('value', 'retains'): 1, ('retains', 'sell'): 1, ('sell', 'liquid'): 1, ('liquid', 'hybrid'): 1, ('hybrid', 'blockchain'): 1, ('blockchain', 'platform'): 1, ('platform', 'kadena'): 1, ('kadena', 'teaming'): 1, ('teaming', 'stablecoin'): 1, ('stablecoin', 'maker'): 1, ('maker', 'terra'): 1, ('terra', 'aim'): 1, ('aim', 'expanding'): 1, ('expanding', 'decentralized'): 1, ('defi', 'platformannounced'): 1, ('platformannounced', 'tuesday'): 1, ('tuesday', 'kadena'): 1, ('kadena', 'said'): 1, ('said', 'add'): 1, ('add', 'ethereumethereum'): 1, ('ethereumethereum', 'surged'): 1, ('surged', 'friday'): 1, ('friday', 'following'): 1, ('following', 'rally'): 1, ('rally', 'thursday'): 1, ('day', 'particularly'): 1, ('particularly', 'bullish'): 1, ('bullish', 'day'): 1, ('ethereum', 'rallied'): 1, ('rallied', 'early'): 1, ('early', 'mornin'): 1, ('mornin', 'coindesk'): 1, ('coindesk', 'snagged'): 1, ('snagged', 'frontrow'): 1, ('frontrow', 'seat'): 1, ('seat', 'seminal'): 1, ('seminal', 'event'): 1, ('event', 'crypto'): 1, ('crypto', 'industry'): 1, ('industry', 'ticket'): 1, ('ticket', 'price'): 1, ('price', 'ethas'): 1, ('ethas', 'medium'): 1, ('medium', 'outlet'): 1, ('outlet', 'covering'): 1, ('covering', 'nascent'): 1, ('nascent', 'technology'): 1, ('technology', 'believe'): 1, ('believe', 'sometimes'): 1, ('sometimes', 'chronicle'): 1, ('chronicle', 'ethereum'): 1, ('ethereum', 'cofounder'): 1, ('cofounder', 'vitalik'): 1, ('buterin', 'dressed'): 1, ('dressed', 'like'): 1, ('like', 'medieval'): 1, ('medieval', 'harlequin'): 1, ('harlequin', 'leaning'): 1, ('leaning', 'velvet'): 1, ('velvet', 'chair'): 1, ('chair', 'stare'): 1, ('stare', 'past'): 1, ('past', 'viewer'): 1, ('viewer', 'distance'): 1, ('distance', 'rocketed'): 1, ('rocketed', 'sky'): 1, ('sky', 'ether'): 1, ('ether', 'pr'): 1}\n"
     ]
    }
   ],
   "source": [
    "# Generate the Ethereum N-grams where N=2\n",
    "bigram_counts = Counter(ngrams(eth_processed, n=2))\n",
    "print(dict(bigram_counts)) "
   ]
  },
  {
   "cell_type": "code",
   "execution_count": 711,
   "metadata": {},
   "outputs": [],
   "source": [
    "# Use the token_count function to generate the top 10 words from each coin\n",
    "def token_count(tokens, N=10):\n",
    "    \"\"\"Returns the top N tokens from the frequency count\"\"\"\n",
    "    return Counter(tokens).most_common(N)"
   ]
  },
  {
   "cell_type": "code",
   "execution_count": 748,
   "metadata": {},
   "outputs": [
    {
     "output_type": "execute_result",
     "data": {
      "text/plain": [
       "[('bitcoin', 69),\n",
       " ('reuters', 55),\n",
       " ('currency', 32),\n",
       " ('virtual', 24),\n",
       " ('taken', 23),\n",
       " ('photo', 20),\n",
       " ('illustration', 19),\n",
       " ('reutersdado', 19),\n",
       " ('cryptocurrency', 18),\n",
       " ('seen', 18)]"
      ]
     },
     "metadata": {},
     "execution_count": 748
    }
   ],
   "source": [
    "# Get the top 10 words for Bitcoin\n",
    "btc_top_ten = token_count(btc_processed)\n",
    "btc_top_ten"
   ]
  },
  {
   "cell_type": "code",
   "execution_count": 749,
   "metadata": {},
   "outputs": [
    {
     "output_type": "execute_result",
     "data": {
      "text/plain": [
       "[('ethereum', 55),\n",
       " ('bitcoin', 39),\n",
       " ('reuters', 17),\n",
       " ('blockchain', 17),\n",
       " ('cryptocurrency', 14),\n",
       " ('price', 13),\n",
       " ('first', 12),\n",
       " ('currency', 11),\n",
       " ('asset', 11),\n",
       " ('november', 10)]"
      ]
     },
     "metadata": {},
     "execution_count": 749
    }
   ],
   "source": [
    "# Get the top 10 words for Ethereum\n",
    "eth_top_ten = token_count(eth_processed)\n",
    "eth_top_ten"
   ]
  },
  {
   "cell_type": "markdown",
   "metadata": {},
   "source": [
    "# Word Clouds\n",
    "\n",
    "In this section, you will generate word clouds for each coin to summarize the news for each coin"
   ]
  },
  {
   "cell_type": "code",
   "execution_count": 715,
   "metadata": {},
   "outputs": [],
   "source": [
    "from wordcloud import WordCloud\n",
    "import matplotlib.pyplot as plt\n",
    "plt.style.use('seaborn-whitegrid')\n",
    "import matplotlib as mpl\n",
    "mpl.rcParams['figure.figsize'] = [20.0, 10.0]"
   ]
  },
  {
   "cell_type": "code",
   "execution_count": 716,
   "metadata": {},
   "outputs": [],
   "source": [
    "# Generate the Bitcoin word cloud\n",
    "# YOUR CODE HERE!"
   ]
  },
  {
   "cell_type": "code",
   "execution_count": 717,
   "metadata": {},
   "outputs": [],
   "source": [
    "# Generate the Ethereum word cloud\n",
    "# YOUR CODE HERE!"
   ]
  },
  {
   "cell_type": "markdown",
   "metadata": {},
   "source": [
    "# Named Entity Recognition\n",
    "\n",
    "In this section, you will build a named entity recognition model for both coins and visualize the tags using SpaCy."
   ]
  },
  {
   "cell_type": "code",
   "execution_count": 718,
   "metadata": {},
   "outputs": [],
   "source": [
    "import spacy\n",
    "from spacy import displacy"
   ]
  },
  {
   "cell_type": "code",
   "execution_count": 719,
   "metadata": {},
   "outputs": [],
   "source": [
    "# Optional - download a language model for SpaCy\n",
    "# !python -m spacy download en_core_web_sm"
   ]
  },
  {
   "cell_type": "code",
   "execution_count": 720,
   "metadata": {},
   "outputs": [],
   "source": [
    "# Load the spaCy model\n",
    "nlp = spacy.load('en_core_web_sm')"
   ]
  },
  {
   "cell_type": "markdown",
   "metadata": {},
   "source": [
    "## Bitcoin NER"
   ]
  },
  {
   "cell_type": "code",
   "execution_count": 721,
   "metadata": {},
   "outputs": [],
   "source": [
    "# Concatenate all of the bitcoin text together\n",
    "# YOUR CODE HERE!"
   ]
  },
  {
   "cell_type": "code",
   "execution_count": 722,
   "metadata": {},
   "outputs": [],
   "source": [
    "# Run the NER processor on all of the text\n",
    "# YOUR CODE HERE!\n",
    "\n",
    "# Add a title to the document\n",
    "# YOUR CODE HERE!"
   ]
  },
  {
   "cell_type": "code",
   "execution_count": 723,
   "metadata": {},
   "outputs": [],
   "source": [
    "# Render the visualization\n",
    "# YOUR CODE HERE!"
   ]
  },
  {
   "cell_type": "code",
   "execution_count": 724,
   "metadata": {},
   "outputs": [],
   "source": [
    "# List all Entities\n",
    "# YOUR CODE HERE!"
   ]
  },
  {
   "cell_type": "markdown",
   "metadata": {},
   "source": [
    "---"
   ]
  },
  {
   "cell_type": "markdown",
   "metadata": {},
   "source": [
    "## Ethereum NER"
   ]
  },
  {
   "cell_type": "code",
   "execution_count": 725,
   "metadata": {},
   "outputs": [],
   "source": [
    "# Concatenate all of the bitcoin text together\n",
    "# YOUR CODE HERE!"
   ]
  },
  {
   "cell_type": "code",
   "execution_count": 726,
   "metadata": {},
   "outputs": [],
   "source": [
    "# Run the NER processor on all of the text\n",
    "# YOUR CODE HERE!\n",
    "\n",
    "# Add a title to the document\n",
    "# YOUR CODE HERE!"
   ]
  },
  {
   "cell_type": "code",
   "execution_count": 727,
   "metadata": {},
   "outputs": [],
   "source": [
    "# Render the visualization\n",
    "# YOUR CODE HERE!"
   ]
  },
  {
   "cell_type": "code",
   "execution_count": 728,
   "metadata": {},
   "outputs": [],
   "source": [
    "# List all Entities\n",
    "# YOUR CODE HERE!"
   ]
  }
 ],
 "metadata": {
  "file_extension": ".py",
  "kernelspec": {
   "name": "python3",
   "display_name": "Python 3.8.3 64-bit ('base': conda)",
   "metadata": {
    "interpreter": {
     "hash": "d40f52b9c5fff22e0e411ce66cb8a8127750f0b358a6e9dd1afb39a420e48ccf"
    }
   }
  },
  "language_info": {
   "codemirror_mode": {
    "name": "ipython",
    "version": 3
   },
   "file_extension": ".py",
   "mimetype": "text/x-python",
   "name": "python",
   "nbconvert_exporter": "python",
   "pygments_lexer": "ipython3",
   "version": "3.8.3-final"
  },
  "mimetype": "text/x-python",
  "name": "python",
  "npconvert_exporter": "python",
  "pygments_lexer": "ipython3",
  "version": 3
 },
 "nbformat": 4,
 "nbformat_minor": 4
}